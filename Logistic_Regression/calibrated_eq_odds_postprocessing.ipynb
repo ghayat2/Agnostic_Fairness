{
 "cells": [
  {
   "cell_type": "markdown",
   "id": "residential-jumping",
   "metadata": {},
   "source": [
    "### This notebook demonstrates the use of an odds-equalizing post-processing algorithm for bias mitigiation"
   ]
  },
  {
   "cell_type": "code",
   "execution_count": 44,
   "id": "eligible-substitute",
   "metadata": {},
   "outputs": [
    {
     "name": "stdout",
     "output_type": "stream",
     "text": [
      "The autoreload extension is already loaded. To reload it, use:\n",
      "  %reload_ext autoreload\n"
     ]
    }
   ],
   "source": [
    "%load_ext autoreload\n",
    "%autoreload 2\n",
    "%aimport logistic_regression_model\n",
    "%aimport load_dataset\n",
    "%aimport fairness_metrics\n",
    "\n",
    "import sys\n",
    "import os\n",
    "import numpy as np\n",
    "import torch\n",
    "from sklearn.linear_model import LogisticRegression\n",
    "from sklearn.metrics import *\n",
    "import calibrated_eq_odds_postprocessing\n",
    "from IPython.display import Markdown, display"
   ]
  },
  {
   "cell_type": "code",
   "execution_count": 45,
   "id": "explicit-boating",
   "metadata": {},
   "outputs": [],
   "source": [
    "# INPUT PARAMS\n",
    "LABEL_COL, PROTECT_COLS, MODE, START_EPOCH, NUM_EPOCH, ID, NUM_TRIALS, NUM_PROXIES, FILE_PATH, VERBOSE, \\\n",
    "LR_RATE, UPDATE, WEIGHTS_INIT, UPDATE_LR, BATCH_SIZE, BALANCE = \"income\", [\"gender\"], 0, 0, 40, -1, 1, 0, \\\n",
    "                                                                \"../Datasets/adult_dataset/processed_adult.csv\", 1, \\\n",
    "                                                                0.001, \"cluster\", 0, 10, 1000, 0"
   ]
  },
  {
   "cell_type": "code",
   "execution_count": 46,
   "id": "figured-transition",
   "metadata": {},
   "outputs": [
    {
     "name": "stderr",
     "output_type": "stream",
     "text": [
      "/usr/local/lib/python3.6/dist-packages/sklearn/utils/validation.py:595: DataConversionWarning: Data with input dtype int64 was converted to float64 by MinMaxScaler.\n",
      "  warnings.warn(msg, DataConversionWarning)\n"
     ]
    },
    {
     "name": "stdout",
     "output_type": "stream",
     "text": [
      "Statistics\n",
      "{0.0: gender\n",
      "0.0     (9798, 0.384)\n",
      "1.0    (15705, 0.616)\n",
      "dtype: object, 1.0: gender\n",
      "0.0    (1250, 0.149)\n",
      "1.0    (7163, 0.851)\n",
      "dtype: object}\n",
      "label: 0.0: 25503 samples (75.19%)\n",
      "label: 1.0: 8413 samples (24.81%)\n",
      "{1.0: gender\n",
      "0.0     (202, 0.139)\n",
      "1.0    (1248, 0.861)\n",
      "dtype: object, 0.0: gender\n",
      "0.0    (1597, 0.38)\n",
      "1.0    (2606, 0.62)\n",
      "dtype: object}\n",
      "label: 1.0: 1450 samples (25.65%)\n",
      "label: 0.0: 4203 samples (74.35%)\n",
      "{0.0: gender\n",
      "0.0    (1631, 0.379)\n",
      "1.0    (2677, 0.621)\n",
      "dtype: object, 1.0: gender\n",
      "0.0     (217, 0.161)\n",
      "1.0    (1128, 0.839)\n",
      "dtype: object}\n",
      "label: 0.0: 4308 samples (76.21%)\n",
      "label: 1.0: 1345 samples (23.79%)\n",
      "---------- MAPPING ----------\n",
      "Train:  {(0.0,): 0, (1.0,): 1}\n",
      "Val:  {(1.0,): 0, (0.0,): 1}\n",
      "Test:  {(0.0,): 0, (1.0,): 1}\n",
      "-----------------------------\n"
     ]
    }
   ],
   "source": [
    "privileged_groups = [{'sex': 0}]\n",
    "unprivileged_groups = [{'sex': 1}]\n",
    "favorable_label, unfavorable_label = 1, 0\n",
    "\n",
    "\n",
    "balanced = {\"train_label_only\": True, \"test_label_only\": False, \"downsample\": True} if BALANCE else None\n",
    "\n",
    "\n",
    "df = load_dataset.get_data(FILE_PATH)\n",
    "df = load_dataset.minmax_scale(df)\n",
    "\n",
    "train_df, test_df = load_dataset.split_train_test(df, train=0.75)\n",
    "val_df, test_df = load_dataset.split_train_test(test_df, train=0.5)\n",
    "\n",
    "if balanced is not None:\n",
    "    train_df = load_dataset.balance_df(df, LABEL_COL, PROTECT_COLS, label_only=balanced[\"train_label_only\"],\n",
    "                            downsample=balanced[\"downsample\"])\n",
    "    val_df = load_dataset.balance_df(df, LABEL_COL, PROTECT_COLS, label_only=balanced[\"train_label_only\"],\n",
    "                            downsample=balanced[\"downsample\"])\n",
    "    test_df = load_dataset.balance_df(df, LABEL_COL, PROTECT_COLS, label_only=balanced[\"test_label_only\"],\n",
    "                            downsample=balanced[\"downsample\"])\n",
    "\n",
    "# Splitting dataset into train, test features\n",
    "print(\"Statistics\")\n",
    "load_dataset.statistics(train_df, LABEL_COL, PROTECT_COLS, verbose=1)\n",
    "load_dataset.statistics(val_df, LABEL_COL, PROTECT_COLS, verbose=1)\n",
    "load_dataset.statistics(test_df, LABEL_COL, PROTECT_COLS, verbose=1)\n",
    "\n",
    "dataset_orig_train = load_dataset.Dataset(train_df, LABEL_COL, PROTECT_COLS)\n",
    "dataset_orig_valid = load_dataset.Dataset(val_df, LABEL_COL, PROTECT_COLS)\n",
    "dataset_orig_test = load_dataset.Dataset(test_df, LABEL_COL, PROTECT_COLS)\n",
    "\n",
    "\n",
    "# Metric used (should be one of allowed_metrics)\n",
    "metric_name = \"Average odds difference\"\n",
    "\n",
    "# Upper and lower bound on the fairness metric used\n",
    "metric_ub = 0.05\n",
    "metric_lb = -0.05\n",
    "        \n",
    "#random seed for calibrated equal odds prediction\n",
    "np.random.seed(1)\n",
    "\n",
    "print(\"---------- MAPPING ----------\")\n",
    "print(\"Train: \", dataset_orig_train.mapping)\n",
    "print(\"Val: \", dataset_orig_valid.mapping)\n",
    "print(\"Test: \", dataset_orig_test.mapping)\n",
    "print(\"-----------------------------\")\n"
   ]
  },
  {
   "cell_type": "markdown",
   "id": "patent-collective",
   "metadata": {},
   "source": [
    "#### Train classifier (logistic regression on original training data)¶\n"
   ]
  },
  {
   "cell_type": "code",
   "execution_count": 47,
   "id": "accomplished-beverage",
   "metadata": {},
   "outputs": [
    {
     "name": "stderr",
     "output_type": "stream",
     "text": [
      "/usr/local/lib/python3.6/dist-packages/sklearn/linear_model/logistic.py:433: FutureWarning: Default solver will be changed to 'lbfgs' in 0.22. Specify a solver to silence this warning.\n",
      "  FutureWarning)\n"
     ]
    }
   ],
   "source": [
    "from sklearn.linear_model import LogisticRegression\n",
    "from sklearn.preprocessing import StandardScaler\n",
    "from sklearn.metrics import roc_curve\n",
    "\n",
    "# Placeholder for predicted and transformed datasets\n",
    "dataset_orig_train_pred = dataset_orig_train.copy()\n",
    "dataset_orig_valid_pred = dataset_orig_valid.copy()\n",
    "dataset_orig_test_pred = dataset_orig_test.copy()\n",
    "\n",
    "dataset_new_valid_pred = dataset_orig_valid.copy()\n",
    "dataset_new_test_pred = dataset_orig_test.copy()\n",
    "\n",
    "# Logistic regression classifier and predictions for training data\n",
    "X_train = dataset_orig_train.features\n",
    "y_train = dataset_orig_train.label.ravel()\n",
    "lmod = LogisticRegression()\n",
    "lmod.fit(X_train, y_train)\n",
    "\n",
    "fav_idx = np.where(lmod.classes_ == favorable_label)[0][0]\n",
    "y_train_pred_prob = lmod.predict_proba(X_train)[:,fav_idx]\n",
    "\n",
    "# Prediction probs for validation and testing data\n",
    "X_valid = dataset_orig_valid.features\n",
    "y_valid_pred_prob = lmod.predict_proba(X_valid)[:,fav_idx]\n",
    "\n",
    "X_test = dataset_orig_test.features\n",
    "y_test_pred_prob = lmod.predict_proba(X_test)[:,fav_idx]\n",
    "\n",
    "class_thresh = 0.5\n",
    "train_scores = y_train_pred_prob.reshape(-1,1)\n",
    "val_scores = y_valid_pred_prob.reshape(-1,1)\n",
    "test_scores = y_test_pred_prob.reshape(-1,1)\n",
    "\n",
    "y_train_pred = np.zeros_like(dataset_orig_train_pred.label)\n",
    "y_train_pred[y_train_pred_prob >= class_thresh] = favorable_label\n",
    "y_train_pred[~(y_train_pred_prob >= class_thresh)] = unfavorable_label\n",
    "dataset_orig_train_pred.label = y_train_pred\n",
    "\n",
    "y_valid_pred = np.zeros_like(dataset_orig_valid_pred.label)\n",
    "y_valid_pred[y_valid_pred_prob >= class_thresh] = favorable_label\n",
    "y_valid_pred[~(y_valid_pred_prob >= class_thresh)] = unfavorable_label\n",
    "dataset_orig_valid_pred.label = y_valid_pred\n",
    "    \n",
    "y_test_pred = np.zeros_like(dataset_orig_test_pred.label)\n",
    "y_test_pred[y_test_pred_prob >= class_thresh] = favorable_label\n",
    "y_test_pred[~(y_test_pred_prob >= class_thresh)] = unfavorable_label\n",
    "dataset_orig_test_pred.label = y_test_pred"
   ]
  },
  {
   "cell_type": "code",
   "execution_count": 48,
   "id": "further-pontiac",
   "metadata": {},
   "outputs": [
    {
     "data": {
      "text/markdown": [
       "#### Original-Predicted training dataset"
      ],
      "text/plain": [
       "<IPython.core.display.Markdown object>"
      ]
     },
     "metadata": {},
     "output_type": "display_data"
    },
    {
     "name": "stdout",
     "output_type": "stream",
     "text": [
      "Accuracy: 84.9451586271966%\n",
      "Equalizing Odds: [[0.979, 0.898], [0.495, 0.626]]\n",
      "Weighted average odds difference 0.09340270079018749\n"
     ]
    },
    {
     "data": {
      "text/markdown": [
       "#### Original-Predicted validation dataset"
      ],
      "text/plain": [
       "<IPython.core.display.Markdown object>"
      ]
     },
     "metadata": {},
     "output_type": "display_data"
    },
    {
     "name": "stdout",
     "output_type": "stream",
     "text": [
      "Accuracy: 84.73376967981604%\n",
      "Equalizing Odds: [[0.9, 0.977], [0.631, 0.475]]\n",
      "Weighted average odds difference 0.09726357686184325\n"
     ]
    },
    {
     "data": {
      "text/markdown": [
       "#### Original-Predicted testing dataset"
      ],
      "text/plain": [
       "<IPython.core.display.Markdown object>"
      ]
     },
     "metadata": {},
     "output_type": "display_data"
    },
    {
     "name": "stdout",
     "output_type": "stream",
     "text": [
      "Accuracy: 85.74208384928357%\n",
      "Equalizing Odds: [[0.984, 0.905], [0.558, 0.618]]\n",
      "Weighted average odds difference 0.07447939147355383\n"
     ]
    }
   ],
   "source": [
    "\n",
    "display(Markdown(\"#### Original-Predicted training dataset\"))\n",
    "\n",
    "acc = np.sum(dataset_orig_train.label.reshape(-1) == dataset_orig_train_pred.label.reshape(-1))/len(dataset_orig_train.label)\n",
    "odds = fairness_metrics.equalizing_odds(dataset_orig_train_pred.label, dataset_orig_train.label,\n",
    "                                                       dataset_orig_train_pred.protect)\n",
    "diffs = [max(odd) - min(odd) for odd in odds]\n",
    "print(f\"Accuracy: {acc*100}%\")\n",
    "print(f\"Equalizing Odds: {odds}\")\n",
    "print(f\"Weighted average odds difference\", np.average(diffs, weights=[np.sum(dataset_orig_train.label == unfavorable_label), np.sum(dataset_orig_train.label == favorable_label)]))\n",
    "\n",
    "\n",
    "display(Markdown(\"#### Original-Predicted validation dataset\"))\n",
    "\n",
    "acc = np.sum(dataset_orig_valid.label.reshape(-1) == dataset_orig_valid_pred.label.reshape(-1))/len(dataset_orig_valid.label)\n",
    "odds = fairness_metrics.equalizing_odds(dataset_orig_valid_pred.label, dataset_orig_valid.label,\n",
    "                                                       dataset_orig_valid.protect)\n",
    "diffs = [max(odd) - min(odd) for odd in odds]\n",
    "print(f\"Accuracy: {acc*100}%\")\n",
    "print(f\"Equalizing Odds: {odds}\")\n",
    "print(f\"Weighted average odds difference\", np.average(diffs, weights=[np.sum(dataset_orig_valid.label == unfavorable_label), np.sum(dataset_orig_valid.label == favorable_label)]))\n",
    "display(Markdown(\"#### Original-Predicted testing dataset\"))\n",
    "\n",
    "acc = np.sum(dataset_orig_test_pred.label.reshape(-1) == dataset_orig_test.label.reshape(-1))/len(dataset_orig_test.label)\n",
    "odds = fairness_metrics.equalizing_odds(dataset_orig_test_pred.label, dataset_orig_test.label,\n",
    "                                                       dataset_orig_test_pred.protect)\n",
    "diffs = [max(odd) - min(odd) for odd in odds]\n",
    "print(f\"Accuracy: {acc*100}%\")\n",
    "print(f\"Equalizing Odds: {odds}\")\n",
    "print(f\"Weighted average odds difference\", np.average(diffs, weights=[np.sum(dataset_orig_test.label == unfavorable_label), np.sum(dataset_orig_test.label == favorable_label)]))"
   ]
  },
  {
   "cell_type": "markdown",
   "id": "incorporated-johnston",
   "metadata": {},
   "source": [
    "### Perform odds equalizing post processing on scores"
   ]
  },
  {
   "cell_type": "code",
   "execution_count": 54,
   "id": "located-titanium",
   "metadata": {
    "scrolled": false
   },
   "outputs": [],
   "source": [
    "# Odds equalizing post-processing algorithm\n",
    "from tqdm import tqdm\n",
    "\n",
    "cost_constraint = \"weighted\"\n",
    "randseed = 12345679\n",
    "\n",
    "# Learn parameters to equalize odds and apply to create a new dataset\n",
    "cpp = calibrated_eq_odds_postprocessing.CalibratedEqOddsPostprocessing(privileged_groups = privileged_groups,\n",
    "                                     unprivileged_groups = unprivileged_groups,\n",
    "                                     cost_constraint=cost_constraint,\n",
    "                                     seed=randseed)\n",
    "cpp = cpp.fit(dataset_orig_valid, val_scores)"
   ]
  },
  {
   "cell_type": "markdown",
   "id": "separate-partner",
   "metadata": {},
   "source": [
    "### Transform validation and test data using the post processing algorithm"
   ]
  },
  {
   "cell_type": "code",
   "execution_count": 56,
   "id": "approved-synthesis",
   "metadata": {},
   "outputs": [],
   "source": [
    "dataset_transf_valid_pred, new_val_scores = cpp.predict(dataset_orig_valid_pred, val_scores)\n",
    "dataset_transf_test_pred, new_test_scores = cpp.predict(dataset_orig_test_pred, test_scores)"
   ]
  },
  {
   "cell_type": "code",
   "execution_count": 59,
   "id": "white-boards",
   "metadata": {},
   "outputs": [
    {
     "data": {
      "text/markdown": [
       "#### Original-Predicted validation dataset"
      ],
      "text/plain": [
       "<IPython.core.display.Markdown object>"
      ]
     },
     "metadata": {},
     "output_type": "display_data"
    },
    {
     "name": "stdout",
     "output_type": "stream",
     "text": [
      "Accuracy: 83.70776578807713%\n",
      "Equalizing Odds: [[0.9, 0.998], [0.631, 0.025]]\n",
      "Weighted average odds difference 0.22830249425084023\n"
     ]
    },
    {
     "data": {
      "text/markdown": [
       "#### Original-Predicted testing dataset"
      ],
      "text/plain": [
       "<IPython.core.display.Markdown object>"
      ]
     },
     "metadata": {},
     "output_type": "display_data"
    },
    {
     "name": "stdout",
     "output_type": "stream",
     "text": [
      "Accuracy: 78.6308154961967%\n",
      "Equalizing Odds: [[0.984, 0.993], [0.558, 0.055]]\n",
      "Weighted average odds difference 0.1265358216875995\n"
     ]
    }
   ],
   "source": [
    "display(Markdown(\"#### Original-Predicted validation dataset\"))\n",
    "\n",
    "acc = np.sum(dataset_orig_valid.label.reshape(-1) == dataset_transf_valid_pred.label.reshape(-1))/len(dataset_orig_valid.label)\n",
    "odds = fairness_metrics.equalizing_odds(dataset_transf_valid_pred.label, dataset_orig_valid.label,\n",
    "                                                       dataset_orig_valid.protect)\n",
    "diffs = [max(odd) - min(odd) for odd in odds]\n",
    "print(f\"Accuracy: {acc*100}%\")\n",
    "print(f\"Equalizing Odds: {odds}\")\n",
    "print(f\"Weighted average odds difference\", np.average(diffs, weights=[np.sum(dataset_orig_valid.label == unfavorable_label), np.sum(dataset_orig_valid.label == favorable_label)]))\n",
    "display(Markdown(\"#### Original-Predicted testing dataset\"))\n",
    "\n",
    "acc = np.sum(dataset_transf_test_pred.label.reshape(-1) == dataset_orig_test.label.reshape(-1))/len(dataset_orig_test.label)\n",
    "odds = fairness_metrics.equalizing_odds(dataset_transf_test_pred.label, dataset_orig_test.label,\n",
    "                                                       dataset_transf_test_pred.protect)\n",
    "diffs = [max(odd) - min(odd) for odd in odds]\n",
    "print(f\"Accuracy: {acc*100}%\")\n",
    "print(f\"Equalizing Odds: {odds}\")\n",
    "print(f\"Weighted average odds difference\", np.average(diffs, weights=[np.sum(dataset_orig_test.label == unfavorable_label), np.sum(dataset_orig_test.label == favorable_label)]))"
   ]
  }
 ],
 "metadata": {
  "kernelspec": {
   "display_name": "Python 3",
   "language": "python",
   "name": "python3"
  },
  "language_info": {
   "codemirror_mode": {
    "name": "ipython",
    "version": 3
   },
   "file_extension": ".py",
   "mimetype": "text/x-python",
   "name": "python",
   "nbconvert_exporter": "python",
   "pygments_lexer": "ipython3",
   "version": "3.6.9"
  }
 },
 "nbformat": 4,
 "nbformat_minor": 5
}
