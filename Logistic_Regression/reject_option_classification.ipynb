{
 "cells": [
  {
   "cell_type": "markdown",
   "id": "individual-neutral",
   "metadata": {},
   "source": [
    "#### This notebook computes Reject Option Classification (ROC) post-processing algorithm baseline for bias mitigation."
   ]
  },
  {
   "cell_type": "code",
   "execution_count": 40,
   "id": "breathing-warner",
   "metadata": {},
   "outputs": [
    {
     "name": "stdout",
     "output_type": "stream",
     "text": [
      "The autoreload extension is already loaded. To reload it, use:\n",
      "  %reload_ext autoreload\n"
     ]
    }
   ],
   "source": [
    "%load_ext autoreload\n",
    "%autoreload 2\n",
    "%aimport logistic_regression_model\n",
    "%aimport load_dataset\n",
    "%aimport fairness_metrics\n",
    "\n",
    "import sys\n",
    "import os\n",
    "import numpy as np\n",
    "import torch\n",
    "from sklearn.linear_model import LogisticRegression\n",
    "from sklearn.metrics import *\n",
    "import reject_option_classification\n",
    "from IPython.display import Markdown, display"
   ]
  },
  {
   "cell_type": "code",
   "execution_count": 43,
   "id": "amber-tissue",
   "metadata": {},
   "outputs": [],
   "source": [
    "# INPUT PARAMS\n",
    "LABEL_COL, PROTECT_COLS, MODE, START_EPOCH, NUM_EPOCH, ID, NUM_TRIALS, NUM_PROXIES, FILE_PATH, VERBOSE, \\\n",
    "LR_RATE, UPDATE, WEIGHTS_INIT, UPDATE_LR, BATCH_SIZE, BALANCE = \"income\", [\"gender\"], 0, 0, 40, -1, 1, 0, \\\n",
    "                                                                \"../Datasets/adult_dataset/processed_adult.csv\", 1, \\\n",
    "                                                                0.001, \"cluster\", 0, 10, 1000, 1"
   ]
  },
  {
   "cell_type": "markdown",
   "id": "awful-tiffany",
   "metadata": {},
   "source": [
    "#### Computes and split the dataset into train, validation and test set"
   ]
  },
  {
   "cell_type": "code",
   "execution_count": 44,
   "id": "seasonal-plane",
   "metadata": {},
   "outputs": [
    {
     "name": "stderr",
     "output_type": "stream",
     "text": [
      "/usr/local/lib/python3.6/dist-packages/sklearn/utils/validation.py:595: DataConversionWarning: Data with input dtype int64 was converted to float64 by MinMaxScaler.\n",
      "  warnings.warn(msg, DataConversionWarning)\n"
     ]
    },
    {
     "name": "stdout",
     "output_type": "stream",
     "text": [
      "Statistics\n",
      "{0.0: gender\n",
      "0.0    (4213, 0.376)\n",
      "1.0    (6995, 0.624)\n",
      "dtype: object, 1.0: gender\n",
      "0.0    (1669, 0.149)\n",
      "1.0    (9539, 0.851)\n",
      "dtype: object}\n",
      "label: 0.0: 11208 samples (50.00%)\n",
      "label: 1.0: 11208 samples (50.00%)\n",
      "{0.0: gender\n",
      "0.0    (4213, 0.376)\n",
      "1.0    (6995, 0.624)\n",
      "dtype: object, 1.0: gender\n",
      "0.0    (1669, 0.149)\n",
      "1.0    (9539, 0.851)\n",
      "dtype: object}\n",
      "label: 0.0: 11208 samples (50.00%)\n",
      "label: 1.0: 11208 samples (50.00%)\n",
      "{0.0: gender\n",
      "0.0    (1678, 0.503)\n",
      "1.0    (1660, 0.497)\n",
      "dtype: object, 1.0: gender\n",
      "0.0    (1669, 0.5)\n",
      "1.0    (1669, 0.5)\n",
      "dtype: object}\n",
      "label: 0.0: 3338 samples (50.00%)\n",
      "label: 1.0: 3338 samples (50.00%)\n",
      "---------- MAPPING ----------\n",
      "Train:  {(1.0,): 0, (0.0,): 1}\n",
      "Val:  {(1.0,): 0, (0.0,): 1}\n",
      "Test:  {(0.0,): 0, (1.0,): 1}\n",
      "-----------------------------\n"
     ]
    }
   ],
   "source": [
    "privileged_groups = [{'sex': 1}]\n",
    "unprivileged_groups = [{'sex': 0}]\n",
    "\n",
    "balanced = {\"train_label_only\": True, \"test_label_only\": False, \"downsample\": True} if BALANCE else None\n",
    "\n",
    "\n",
    "df = load_dataset.get_data(FILE_PATH)\n",
    "df = load_dataset.minmax_scale(df)\n",
    "\n",
    "train_df, test_df = load_dataset.split_train_test(df, train=0.75)\n",
    "val_df, test_df = load_dataset.split_train_test(test_df, train=0.5)\n",
    "\n",
    "if balanced is not None:\n",
    "    train_df = load_dataset.balance_df(df, LABEL_COL, PROTECT_COLS, label_only=balanced[\"train_label_only\"],\n",
    "                            downsample=balanced[\"downsample\"])\n",
    "    val_df = load_dataset.balance_df(df, LABEL_COL, PROTECT_COLS, label_only=balanced[\"train_label_only\"],\n",
    "                            downsample=balanced[\"downsample\"])\n",
    "    test_df = load_dataset.balance_df(df, LABEL_COL, PROTECT_COLS, label_only=balanced[\"test_label_only\"],\n",
    "                            downsample=balanced[\"downsample\"])\n",
    "\n",
    "# Splitting dataset into train, test features\n",
    "print(\"Statistics\")\n",
    "load_dataset.statistics(train_df, LABEL_COL, PROTECT_COLS, verbose=1)\n",
    "load_dataset.statistics(val_df, LABEL_COL, PROTECT_COLS, verbose=1)\n",
    "load_dataset.statistics(test_df, LABEL_COL, PROTECT_COLS, verbose=1)\n",
    "\n",
    "train_dataset, train_dataset_pred = load_dataset.Dataset(train_df, LABEL_COL, PROTECT_COLS), load_dataset.Dataset(train_df, LABEL_COL, PROTECT_COLS)\n",
    "val_dataset, val_dataset_pred = load_dataset.Dataset(val_df, LABEL_COL, PROTECT_COLS), load_dataset.Dataset(val_df, LABEL_COL, PROTECT_COLS)\n",
    "test_dataset, test_dataset_pred = load_dataset.Dataset(test_df, LABEL_COL, PROTECT_COLS), load_dataset.Dataset(test_df, LABEL_COL, PROTECT_COLS)\n",
    "\n",
    "\n",
    "# Metric used (should be one of allowed_metrics)\n",
    "metric_name = \"Average odds difference\"\n",
    "\n",
    "# Upper and lower bound on the fairness metric used\n",
    "metric_ub = 0.05\n",
    "metric_lb = -0.05\n",
    "        \n",
    "#random seed for calibrated equal odds prediction\n",
    "np.random.seed(1)\n",
    "\n",
    "print(\"---------- MAPPING ----------\")\n",
    "print(\"Train: \", train_dataset.mapping)\n",
    "print(\"Val: \", val_dataset.mapping)\n",
    "print(\"Test: \", test_dataset.mapping)\n",
    "print(\"-----------------------------\")\n"
   ]
  },
  {
   "cell_type": "markdown",
   "id": "reverse-stress",
   "metadata": {},
   "source": [
    "#### Trians sklearn logistic regression on training set"
   ]
  },
  {
   "cell_type": "code",
   "execution_count": 45,
   "id": "welsh-minneapolis",
   "metadata": {},
   "outputs": [
    {
     "name": "stdout",
     "output_type": "stream",
     "text": [
      "Accuracy 82.36081370449678%, Balanced Acc: 42.63128999168545%\n"
     ]
    },
    {
     "name": "stderr",
     "output_type": "stream",
     "text": [
      "/usr/local/lib/python3.6/dist-packages/sklearn/linear_model/logistic.py:433: FutureWarning: Default solver will be changed to 'lbfgs' in 0.22. Specify a solver to silence this warning.\n",
      "  FutureWarning)\n"
     ]
    }
   ],
   "source": [
    "X_train = train_dataset.features\n",
    "y_train = train_dataset.label\n",
    "\n",
    "lmod = LogisticRegression()\n",
    "lmod.fit(X_train, y_train)\n",
    "y_train_pred = lmod.predict(X_train)\n",
    "\n",
    "train_dataset_pred.label = y_train_pred\n",
    "\n",
    "bcm = confusion_matrix(y_train_pred, y_train)\n",
    "print(f\"Accuracy {np.sum(y_train_pred == y_train)/len(y_train)*100}%, Balanced Acc: {0.5 * (fairness_metrics.true_positive_rate(bcm) + fairness_metrics.true_negative_rate(bcm)*100)}%\")"
   ]
  },
  {
   "cell_type": "code",
   "execution_count": 46,
   "id": "authorized-storm",
   "metadata": {},
   "outputs": [],
   "source": [
    "favorable_label, unfavorable_label = 1, 0\n",
    "pos_ind = np.where(lmod.classes_ == favorable_label)[0][0]"
   ]
  },
  {
   "cell_type": "markdown",
   "id": "earned-hours",
   "metadata": {},
   "source": [
    "#### Computes model probabilities for validation and test set"
   ]
  },
  {
   "cell_type": "code",
   "execution_count": 47,
   "id": "saved-patio",
   "metadata": {},
   "outputs": [],
   "source": [
    "X_valid = val_dataset_pred.features\n",
    "y_valid = val_dataset_pred.label\n",
    "val_scores = lmod.predict_proba(X_valid)[:,pos_ind].reshape(-1,1)\n",
    "\n",
    "X_test = test_dataset_pred.features\n",
    "y_test = test_dataset_pred.label\n",
    "test_scores = lmod.predict_proba(X_test)[:,pos_ind].reshape(-1,1)"
   ]
  },
  {
   "cell_type": "markdown",
   "id": "cleared-retail",
   "metadata": {},
   "source": [
    "### Find the optimal parameters from the validation set"
   ]
  },
  {
   "cell_type": "markdown",
   "id": "oriental-naples",
   "metadata": {},
   "source": [
    "#### Best threshold for classification only (no fairness)"
   ]
  },
  {
   "cell_type": "code",
   "execution_count": 48,
   "id": "dominican-duration",
   "metadata": {},
   "outputs": [
    {
     "name": "stdout",
     "output_type": "stream",
     "text": [
      "Best balanced accuracy (no fairness constraints) = 0.8238\n",
      "Optimal classification threshold (no fairness constraints) = 0.5049\n"
     ]
    }
   ],
   "source": [
    "num_thresh = 100\n",
    "ba_arr = np.zeros(num_thresh)\n",
    "class_thresh_arr = np.linspace(0.01, 0.99, num_thresh)\n",
    "for idx, class_thresh in enumerate(class_thresh_arr):\n",
    "    \n",
    "    fav_inds = (val_scores > class_thresh).reshape(-1)\n",
    "    new_labels = val_dataset_pred.label.copy()\n",
    "    new_labels[fav_inds] = favorable_label\n",
    "    new_labels[~fav_inds] = unfavorable_label\n",
    "    val_dataset_pred.label = new_labels.copy()\n",
    "    \n",
    "    \n",
    "    # Optimizing for balanced acc\n",
    "    bcm = confusion_matrix(val_dataset.label, val_dataset_pred.label)\n",
    "    ba_arr[idx] = 0.5 * (fairness_metrics.true_positive_rate(bcm) + fairness_metrics.true_negative_rate(bcm))\n",
    "    \n",
    "    # Optimizing for acc\n",
    "    # ba_arr[idx] = np.sum(val_dataset_pred.label == val_dataset.label)/len(val_dataset.label)\n",
    "\n",
    "best_ind = np.where(ba_arr == np.max(ba_arr))[0][0]\n",
    "best_class_thresh = class_thresh_arr[best_ind]\n",
    "\n",
    "print(\"Best balanced accuracy (no fairness constraints) = %.4f\" % np.max(ba_arr))\n",
    "print(\"Optimal classification threshold (no fairness constraints) = %.4f\" % best_class_thresh)"
   ]
  },
  {
   "cell_type": "code",
   "execution_count": 49,
   "id": "collected-chosen",
   "metadata": {},
   "outputs": [],
   "source": [
    "privileged_groups = [{'sex': 0}]\n",
    "unprivileged_groups = [{'sex': 1}]"
   ]
  },
  {
   "cell_type": "markdown",
   "id": "wrong-teddy",
   "metadata": {},
   "source": [
    "#### Estimate optimal parameters for the ROC method"
   ]
  },
  {
   "cell_type": "code",
   "execution_count": 50,
   "id": "respective-efficiency",
   "metadata": {},
   "outputs": [],
   "source": [
    "ROC = reject_option_classification.RejectOptionClassification(unprivileged_groups=unprivileged_groups, \n",
    "                                 privileged_groups=privileged_groups, \n",
    "                                 low_class_thresh=0.01, high_class_thresh=0.99,\n",
    "                                  num_class_thresh=100, num_ROC_margin=50,\n",
    "                                  metric_name=metric_name,\n",
    "                                  metric_ub=metric_ub, metric_lb=metric_lb)\n",
    "ROC = ROC.fit(val_dataset, val_dataset_pred, val_scores)"
   ]
  },
  {
   "cell_type": "code",
   "execution_count": 51,
   "id": "shared-conviction",
   "metadata": {},
   "outputs": [
    {
     "name": "stdout",
     "output_type": "stream",
     "text": [
      "Optimal classification threshold (with fairness constraints) = 0.5247\n",
      "Optimal ROC margin = 0.1067\n"
     ]
    }
   ],
   "source": [
    "print(\"Optimal classification threshold (with fairness constraints) = %.4f\" % ROC.classification_threshold)\n",
    "print(\"Optimal ROC margin = %.4f\" % ROC.ROC_margin)"
   ]
  },
  {
   "cell_type": "markdown",
   "id": "particular-region",
   "metadata": {},
   "source": [
    "### Predictions from Validation Set"
   ]
  },
  {
   "cell_type": "code",
   "execution_count": 52,
   "id": "worthy-dragon",
   "metadata": {},
   "outputs": [
    {
     "data": {
      "text/markdown": [
       "#### Validation set"
      ],
      "text/plain": [
       "<IPython.core.display.Markdown object>"
      ]
     },
     "metadata": {},
     "output_type": "display_data"
    },
    {
     "data": {
      "text/markdown": [
       "##### Raw predictions - No fairness constraints, only maximizing balanced accuracy"
      ],
      "text/plain": [
       "<IPython.core.display.Markdown object>"
      ]
     },
     "metadata": {},
     "output_type": "display_data"
    },
    {
     "name": "stdout",
     "output_type": "stream",
     "text": [
      "Accuracy: 82.38311920057102%\n",
      "Equalizing Odds: [[0.712, 0.936], [0.876, 0.713]]\n",
      "Weighted average odds difference 0.19350000000000003\n"
     ]
    }
   ],
   "source": [
    "# Metrics for the test set\n",
    "fav_inds = (val_scores > best_class_thresh).reshape(-1)\n",
    "new_labels = val_dataset_pred.label.copy()\n",
    "new_labels[fav_inds] = favorable_label\n",
    "new_labels[~fav_inds] = unfavorable_label\n",
    "val_dataset_pred.label = new_labels.copy()\n",
    "\n",
    "display(Markdown(\"#### Validation set\"))\n",
    "display(Markdown(\"##### Raw predictions - No fairness constraints, only maximizing balanced accuracy\"))\n",
    "\n",
    "acc = np.sum(val_dataset_pred.label.reshape(-1) == val_dataset.label.reshape(-1))/len(val_dataset.label)\n",
    "odds = fairness_metrics.equalizing_odds(val_dataset_pred.label, val_dataset.label,\n",
    "                                                       val_dataset.protect)\n",
    "diffs = [max(odd) - min(odd) for odd in odds]\n",
    "print(f\"Accuracy: {acc*100}%\")\n",
    "print(f\"Equalizing Odds: {odds}\")\n",
    "print(f\"Weighted average odds difference\", np.average(diffs, weights=[np.sum(val_dataset.label == unfavorable_label), np.sum(val_dataset.label == favorable_label)]))"
   ]
  },
  {
   "cell_type": "code",
   "execution_count": 53,
   "id": "closed-separation",
   "metadata": {},
   "outputs": [
    {
     "data": {
      "text/markdown": [
       "#### Validation set"
      ],
      "text/plain": [
       "<IPython.core.display.Markdown object>"
      ]
     },
     "metadata": {},
     "output_type": "display_data"
    },
    {
     "data": {
      "text/markdown": [
       "##### Transformed predictions - With fairness constraints"
      ],
      "text/plain": [
       "<IPython.core.display.Markdown object>"
      ]
     },
     "metadata": {},
     "output_type": "display_data"
    },
    {
     "name": "stdout",
     "output_type": "stream",
     "text": [
      "Accuracy: 81.07601713062098%\n",
      "Equalizing Odds: [[0.817, 0.913], [0.768, 0.769]]\n",
      "Weighted average odds difference 0.04850000000000005\n"
     ]
    }
   ],
   "source": [
    "# Transform the validation set\n",
    "val_dataset_pred = ROC.predict(val_dataset_pred, val_scores)\n",
    "\n",
    "display(Markdown(\"#### Validation set\"))\n",
    "display(Markdown(\"##### Transformed predictions - With fairness constraints\"))\n",
    "\n",
    "acc = np.sum(val_dataset_pred.label.reshape(-1) == val_dataset.label.reshape(-1))/len(val_dataset.label)\n",
    "odds = fairness_metrics.equalizing_odds(val_dataset_pred.label, val_dataset.label,\n",
    "                                                       val_dataset.protect)\n",
    "diffs = [max(odd) - min(odd) for odd in odds]\n",
    "print(f\"Accuracy: {acc*100}%\")\n",
    "print(f\"Equalizing Odds: {odds}\")\n",
    "print(f\"Weighted average odds difference\", np.average(diffs, weights=[np.sum(val_dataset.label == unfavorable_label), np.sum(val_dataset.label == favorable_label)]))"
   ]
  },
  {
   "cell_type": "markdown",
   "id": "charged-exploration",
   "metadata": {},
   "source": [
    "### Predictions from Test Set"
   ]
  },
  {
   "cell_type": "code",
   "execution_count": 54,
   "id": "exact-destruction",
   "metadata": {},
   "outputs": [],
   "source": [
    "test_dataset.protect =  np.logical_not(test_dataset.protect).astype(int)\n",
    "test_dataset_pred.protect = np.logical_not(test_dataset_pred.protect).astype(int)"
   ]
  },
  {
   "cell_type": "code",
   "execution_count": 55,
   "id": "dental-think",
   "metadata": {},
   "outputs": [
    {
     "data": {
      "text/markdown": [
       "#### Test set"
      ],
      "text/plain": [
       "<IPython.core.display.Markdown object>"
      ]
     },
     "metadata": {},
     "output_type": "display_data"
    },
    {
     "data": {
      "text/markdown": [
       "##### Raw predictions - No fairness constraints, only maximizing balanced accuracy"
      ],
      "text/plain": [
       "<IPython.core.display.Markdown object>"
      ]
     },
     "metadata": {},
     "output_type": "display_data"
    },
    {
     "name": "stdout",
     "output_type": "stream",
     "text": [
      "Accuracy: 81.17136009586578%\n",
      "Equalizing Odds: [[0.719, 0.939], [0.874, 0.713]]\n",
      "Weighted average odds difference 0.1905\n"
     ]
    }
   ],
   "source": [
    "# Metrics for the test set\n",
    "fav_inds = (test_scores > best_class_thresh).reshape(-1)\n",
    "new_labels = test_dataset_pred.label.copy()\n",
    "new_labels[fav_inds] = favorable_label\n",
    "new_labels[~fav_inds] = unfavorable_label\n",
    "test_dataset_pred.label = new_labels.copy()\n",
    "\n",
    "display(Markdown(\"#### Test set\"))\n",
    "display(Markdown(\"##### Raw predictions - No fairness constraints, only maximizing balanced accuracy\"))\n",
    "\n",
    "acc = np.sum(test_dataset_pred.label.reshape(-1) == test_dataset.label.reshape(-1))/len(test_dataset.label)\n",
    "odds = fairness_metrics.equalizing_odds(test_dataset_pred.label, test_dataset.label,\n",
    "                                                       test_dataset.protect)\n",
    "diffs = [max(odd) - min(odd) for odd in odds]\n",
    "print(f\"Accuracy: {acc*100}%\")\n",
    "print(f\"Equalizing Odds: {odds}\")\n",
    "print(f\"Weighted average odds difference\", np.average(diffs, weights=[np.sum(test_dataset.label == unfavorable_label), np.sum(test_dataset.label == favorable_label)]))"
   ]
  },
  {
   "cell_type": "code",
   "execution_count": 56,
   "id": "infinite-board",
   "metadata": {},
   "outputs": [
    {
     "data": {
      "text/markdown": [
       "#### Validation set"
      ],
      "text/plain": [
       "<IPython.core.display.Markdown object>"
      ]
     },
     "metadata": {},
     "output_type": "display_data"
    },
    {
     "data": {
      "text/markdown": [
       "##### Transformed predictions - With fairness constraints"
      ],
      "text/plain": [
       "<IPython.core.display.Markdown object>"
      ]
     },
     "metadata": {},
     "output_type": "display_data"
    },
    {
     "name": "stdout",
     "output_type": "stream",
     "text": [
      "Accuracy: 82.17495506291192%\n",
      "Equalizing Odds: [[0.829, 0.924], [0.765, 0.769]]\n",
      "Weighted average odds difference 0.04937732174955067\n"
     ]
    }
   ],
   "source": [
    "# Transform the validation set\n",
    "test_dataset_pred = ROC.predict(test_dataset_pred, test_scores)\n",
    "\n",
    "display(Markdown(\"#### Validation set\"))+-\n",
    "display(Markdown(\"##### Transformed predictions - With fairness constraints\"))\n",
    "\n",
    "acc = np.sum(test_dataset_pred.label.reshape(-1) == test_dataset.label.reshape(-1))/len(test_dataset.label)\n",
    "odds = fairness_metrics.equalizing_odds(test_dataset_pred.label, test_dataset.label,\n",
    "                                                       test_dataset.protect)\n",
    "diffs = [max(odd) - min(odd) for odd in odds]\n",
    "print(f\"Accuracy: {acc*100}%\")\n",
    "print(f\"Equalizing Odds: {odds}\")\n",
    "print(f\"Weighted average odds difference\", np.average(diffs, weights=[np.sum(test_dataset.protect == unfavorable_label), np.sum(test_dataset.protect == favorable_label)]))"
   ]
  }
 ],
 "metadata": {
  "kernelspec": {
   "display_name": "Python 3",
   "language": "python",
   "name": "python3"
  },
  "language_info": {
   "codemirror_mode": {
    "name": "ipython",
    "version": 3
   },
   "file_extension": ".py",
   "mimetype": "text/x-python",
   "name": "python",
   "nbconvert_exporter": "python",
   "pygments_lexer": "ipython3",
   "version": "3.6.9"
  }
 },
 "nbformat": 4,
 "nbformat_minor": 5
}
