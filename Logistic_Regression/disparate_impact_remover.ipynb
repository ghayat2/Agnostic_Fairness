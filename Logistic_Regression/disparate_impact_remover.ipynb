{
 "cells": [
  {
   "cell_type": "code",
   "execution_count": null,
   "id": "alone-bermuda",
   "metadata": {},
   "outputs": [],
   "source": [
    "%load_ext autoreload\n",
    "%autoreload 2\n",
    "%aimport logistic_regression_model\n",
    "%aimport load_dataset\n",
    "%aimport fairness_metrics\n",
    "\n",
    "import numpy as np\n",
    "from sklearn.linear_model import LogisticRegression\n",
    "import disparate_impact_remover\n",
    "from IPython.display import Markdown, display\n",
    "from tqdm import tqdm"
   ]
  },
  {
   "cell_type": "code",
   "execution_count": null,
   "id": "willing-table",
   "metadata": {},
   "outputs": [],
   "source": [
    "# INPUT PARAMS\n",
    "LABEL_COL, PROTECT_COLS, MODE, START_EPOCH, NUM_EPOCH, ID, NUM_TRIALS, NUM_PROXIES, FILE_PATH, VERBOSE, \\\n",
    "LR_RATE, UPDATE, WEIGHTS_INIT, UPDATE_LR, BATCH_SIZE, BALANCE = \"income\", [\"gender\"], 0, 0, 40, -1, 1, 0, \\\n",
    "                                                                \"../Datasets/adult_dataset/processed_adult.csv\", 1, \\\n",
    "                                                                0.001, \"cluster\", 0, 10, 1000, 0"
   ]
  },
  {
   "cell_type": "markdown",
   "id": "french-karen",
   "metadata": {},
   "source": [
    "#### Computes and split the dataset into train, validation and test set\n"
   ]
  },
  {
   "cell_type": "code",
   "execution_count": null,
   "id": "seeing-candidate",
   "metadata": {},
   "outputs": [],
   "source": [
    "\n",
    "balanced = {\"train_label_only\": True, \"test_label_only\": False, \"downsample\": True} if BALANCE else None\n",
    "\n",
    "\n",
    "df = load_dataset.get_data(FILE_PATH)\n",
    "df = load_dataset.minmax_scale(df)\n",
    "protected_index = df.columns.tolist().index(PROTECT_COLS[0])\n",
    "\n",
    "\n",
    "train_df, test_df = load_dataset.split_train_test(df, train=0.75)\n",
    "\n",
    "if balanced is not None:\n",
    "    train_df = load_dataset.balance_df(df, LABEL_COL, PROTECT_COLS, label_only=balanced[\"train_label_only\"],\n",
    "                            downsample=balanced[\"downsample\"])\n",
    "    test_df = load_dataset.balance_df(df, LABEL_COL, PROTECT_COLS, label_only=balanced[\"test_label_only\"],\n",
    "                            downsample=balanced[\"downsample\"])\n",
    "\n",
    "# Splitting dataset into train, test features\n",
    "print(\"Statistics\")\n",
    "load_dataset.statistics(train_df, LABEL_COL, PROTECT_COLS, verbose=1)\n",
    "load_dataset.statistics(test_df, LABEL_COL, PROTECT_COLS, verbose=1)\n",
    "\n",
    "train_dataset = load_dataset.Dataset(train_df, LABEL_COL, PROTECT_COLS)\n",
    "test_dataset = load_dataset.Dataset(test_df, LABEL_COL, PROTECT_COLS)\n",
    "\n",
    "\n",
    "print(\"---------- MAPPING ----------\")\n",
    "print(\"Train: \", train_dataset.mapping)\n",
    "print(\"Test: \", test_dataset.mapping)\n",
    "print(\"-----------------------------\")\n"
   ]
  },
  {
   "cell_type": "code",
   "execution_count": null,
   "id": "occupied-testing",
   "metadata": {},
   "outputs": [],
   "source": [
    "favorable_label, unfavorable_label = 1, 0"
   ]
  },
  {
   "cell_type": "code",
   "execution_count": null,
   "id": "funky-emerald",
   "metadata": {
    "scrolled": true
   },
   "outputs": [],
   "source": [
    "accs, avg_odd_difference = [], []\n",
    "for level in tqdm(np.linspace(0., 1., 11)):\n",
    "    di = disparate_impact_remover.DisparateImpactRemover(repair_level=level)\n",
    "    train_repd = di.fit_transform(train_dataset, protected_index)\n",
    "    test_repd = di.fit_transform(test_dataset, protected_index)\n",
    "    \n",
    "    X_tr = np.delete(train_repd.features, protected_index, axis=1)\n",
    "    X_te = np.delete(test_repd.features, protected_index, axis=1)\n",
    "    y_tr = train_repd.label.ravel()\n",
    "    print(f\"{np.sum((train_dataset.features != train_repd.features)).reshape(-1)/len(train_dataset.features.reshape(-1))*100}% training set changed\")\n",
    "    print(f\"{np.sum((test_dataset.features != test_repd.features)).reshape(-1)/len(test_dataset.features.reshape(-1))*100}% training set changed\")\n",
    "    \n",
    "    lmod = LogisticRegression(class_weight='balanced', solver='liblinear')\n",
    "    lmod.fit(X_tr, y_tr)\n",
    "    \n",
    "    test_repd_pred = test_repd.copy()\n",
    "    test_repd_pred.label = lmod.predict(X_te)\n",
    "    \n",
    "    print()\n",
    "\n",
    "    acc = np.sum(test_repd_pred.label.reshape(-1) == test_repd.label.reshape(-1))/len(test_dataset.label)\n",
    "    odds = fairness_metrics.equalizing_odds(test_repd_pred.label, test_repd.label,\n",
    "                                                           test_repd.protect)\n",
    "    diffs = [max(odd) - min(odd) for odd in odds]\n",
    "    print(f\"Accuracy: {acc*100}%\")\n",
    "    print(f\"Equalizing Odds: {odds}\")\n",
    "    print(f\"Weighted average odds difference\", np.average(diffs, weights=[np.sum(test_repd_pred.label == unfavorable_label), np.sum(test_repd_pred.label == favorable_label)]))\n",
    "    print(f\"Before - disparate impact: {disparate_impact(test_repd.label, test_repd.protect, 0, 1)}\")\n",
    "    print(f\"After - disparate impact: {disparate_impact(test_repd_pred.label, test_repd_pred.protect, 0, 1)}\")"
   ]
  },
  {
   "cell_type": "code",
   "execution_count": null,
   "id": "traditional-station",
   "metadata": {},
   "outputs": [],
   "source": [
    "def disparate_impact(predictions, group, privilege, favorable):\n",
    "    p, up, p_f, up_f = 0, 0, 0, 0\n",
    "    for pred, g in zip(predictions, group):\n",
    "        if g == privilege:\n",
    "            if pred == favorable:\n",
    "                p_f += 1\n",
    "            p += 1\n",
    "        else:\n",
    "            if pred == favorable:\n",
    "                up_f += 1\n",
    "            up += 1\n",
    "    return (up_f/up)/(p_f/p)"
   ]
  }
 ],
 "metadata": {
  "kernelspec": {
   "display_name": "Python 3",
   "language": "python",
   "name": "python3"
  },
  "language_info": {
   "codemirror_mode": {
    "name": "ipython",
    "version": 3
   },
   "file_extension": ".py",
   "mimetype": "text/x-python",
   "name": "python",
   "nbconvert_exporter": "python",
   "pygments_lexer": "ipython3",
   "version": "3.6.9"
  }
 },
 "nbformat": 4,
 "nbformat_minor": 5
}
