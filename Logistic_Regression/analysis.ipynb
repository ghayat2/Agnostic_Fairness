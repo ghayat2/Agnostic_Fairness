{
 "cells": [
  {
   "cell_type": "code",
   "execution_count": null,
   "id": "rational-trash",
   "metadata": {},
   "outputs": [],
   "source": [
    "import numpy as np\n",
    "import pandas as pd\n",
    "import tensorflow as tf\n",
    "\n",
    "history_3a = pd.read_pickle(\"Case_3/checkpoints/model_ep_40/Run_2/trial_0/train_history.pkl\")\n",
    "history_3b = pd.read_pickle(\"Case_3/checkpoints/model_ep_40/Run_3/trial_0/train_history.pkl\")\n",
    "history_3c_40 = pd.read_pickle(\"Case_3/checkpoints/model_ep_40/Run_5/trial_0/train_history.pkl\")\n",
    "history_3c_160 = pd.read_pickle(\"Case_3/checkpoints/model_ep_160/Run_0/trial_1/train_history.pkl\")\n",
    "history_3acheat = pd.read_pickle(\"Case_3/checkpoints/model_ep_40/Run_4/trial_0/train_history.pkl\")\n",
    "history_3d = pd.read_pickle(\"Case_3/checkpoints/model_ep_160/Run_1/trial_0/train_history.pkl\")\n",
    "history_3d_not_balanced = pd.read_pickle(\"Case_3/checkpoints/model_ep_160/Run_3/trial_0/train_history.pkl\")\n",
    "history_3d_not_balanced_init = pd.read_pickle(\"Case_3/checkpoints/model_ep_160/Run_11/trial_0/train_history.pkl\")\n",
    "history_3d_cheat = pd.read_pickle(\"Case_3/checkpoints/model_ep_40/Run_6/trial_0/train_history.pkl\")\n",
    "history_3d_320= pd.read_pickle(\"Case_3/checkpoints/model_ep_320/Run_0/trial_0/train_history.pkl\")\n",
    "history_3d_subgroup= pd.read_pickle(\"Case_3/checkpoints/model_ep_160/Run_2/trial_0/train_history.pkl\")\n",
    "history_3e_samples_group= pd.read_pickle(\"Case_3/checkpoints/model_ep_160/Run_5/trial_0/train_history.pkl\")\n",
    "history_3e_samples_subgroup= pd.read_pickle(\"Case_3/checkpoints/model_ep_160/Run_6/trial_0/train_history.pkl\")"
   ]
  },
  {
   "cell_type": "code",
   "execution_count": null,
   "id": "numerical-guarantee",
   "metadata": {
    "scrolled": true
   },
   "outputs": [],
   "source": [
    "history_3a[[c for c in history_3a.columns if \"cluster\" in c]]"
   ]
  },
  {
   "cell_type": "code",
   "execution_count": null,
   "id": "laughing-framing",
   "metadata": {
    "scrolled": true
   },
   "outputs": [],
   "source": [
    "history_3b[[c for c in history_3b.columns if \"weight\" in c]]"
   ]
  },
  {
   "cell_type": "code",
   "execution_count": null,
   "id": "iraqi-development",
   "metadata": {
    "scrolled": true
   },
   "outputs": [],
   "source": [
    "history_3c[[c for c in history_3c.columns if \"cluster\" in c]]"
   ]
  },
  {
   "cell_type": "code",
   "execution_count": null,
   "id": "driving-phone",
   "metadata": {
    "scrolled": true
   },
   "outputs": [],
   "source": [
    "history_3c_160[[c for c in history_3c_160.columns if \"cluster\" in c]]"
   ]
  },
  {
   "cell_type": "code",
   "execution_count": null,
   "id": "particular-general",
   "metadata": {
    "scrolled": true
   },
   "outputs": [],
   "source": [
    "history_3cheat[[c for c in history_3cheat.columns if \"cluster\" in c]]"
   ]
  },
  {
   "cell_type": "code",
   "execution_count": null,
   "id": "composite-holly",
   "metadata": {
    "scrolled": true
   },
   "outputs": [],
   "source": [
    "history_3d[[c for c in history_3d.columns if \"cluster\" in c]]"
   ]
  },
  {
   "cell_type": "code",
   "execution_count": null,
   "id": "moral-check",
   "metadata": {
    "scrolled": true
   },
   "outputs": [],
   "source": [
    "history_3d_cheat[[c for c in history_3d_cheat.columns if \"cluster\" in c]]"
   ]
  },
  {
   "cell_type": "code",
   "execution_count": null,
   "id": "obvious-builder",
   "metadata": {
    "scrolled": true
   },
   "outputs": [],
   "source": [
    "history_3d_320[[c for c in history_3d_320.columns if \"cluster\" in c]][-200:-150]"
   ]
  },
  {
   "cell_type": "code",
   "execution_count": null,
   "id": "alone-lecture",
   "metadata": {
    "scrolled": true
   },
   "outputs": [],
   "source": [
    "history_3d_subgroup[[c for c in history_3d_subgroup.columns if \"cluster\" in c and \"grad\" not in c]]"
   ]
  },
  {
   "cell_type": "code",
   "execution_count": null,
   "id": "usual-there",
   "metadata": {
    "scrolled": true
   },
   "outputs": [],
   "source": [
    "history_3e_samples_group[[c for c in history_3e_samples_group.columns if \"cluster\" in c and \"grad\" not in c]]"
   ]
  },
  {
   "cell_type": "code",
   "execution_count": null,
   "id": "another-enterprise",
   "metadata": {
    "scrolled": true
   },
   "outputs": [],
   "source": [
    "history_3e_samples_subgroup[[c for c in history_3e_samples_subgroup.columns if \"cluster\" in c and \"grad\" not in c]]"
   ]
  },
  {
   "cell_type": "code",
   "execution_count": null,
   "id": "classified-drawing",
   "metadata": {
    "scrolled": true
   },
   "outputs": [],
   "source": [
    "history_3d_not_balanced[[c for c in history_3d_not_balanced.columns if \"cluster\" in c and \"grad\" not in c]].iloc[20:70]"
   ]
  },
  {
   "cell_type": "code",
   "execution_count": null,
   "id": "equipped-elevation",
   "metadata": {
    "scrolled": true
   },
   "outputs": [],
   "source": [
    "history_3d_not_balanced_init[[c for c in history_3d_not_balanced_init.columns if \"cluster\" in c and \"grad\" not in c]][:100]"
   ]
  },
  {
   "cell_type": "markdown",
   "id": "novel-laptop",
   "metadata": {},
   "source": [
    "### Model weights"
   ]
  },
  {
   "cell_type": "code",
   "execution_count": null,
   "id": "optimum-violin",
   "metadata": {},
   "outputs": [],
   "source": [
    "%load_ext autoreload\n",
    "%autoreload 2\n",
    "%aimport logistic_regression_model\n",
    "import torch, pandas as pd, os\n",
    "\n",
    "path = os.getcwd() + \"/base_rate_models/checkpoints/model_ep_160/Run_0/trial_0\"\n",
    "combined = path + \"/combined/checkpoint.pt\"\n",
    "min = path + \"/min/checkpoint.pt\"\n",
    "maj = path + \"/maj/checkpoint.pt\"\n",
    "\n",
    "columns = pd.read_csv(\"../Datasets/adult_dataset/processed_adult.csv\").columns.drop(\"income\")\n",
    "device = torch.device(\"cpu\")\n",
    "\n",
    "comb_model = logistic_regression_model.Predictor(len(columns)).to(device)\n",
    "checkpoint = torch.load(combined, map_location=device)\n",
    "comb_model.load_state_dict(checkpoint['model_state_dict'])\n",
    "\n",
    "min_model = logistic_regression_model.Predictor(112).to(device)\n",
    "checkpoint = torch.load(min, map_location=device)\n",
    "min_model.load_state_dict(checkpoint['model_state_dict'])\n",
    "\n",
    "maj_model = logistic_regression_model.Predictor(112).to(device)\n",
    "checkpoint = torch.load(maj, map_location=device)\n",
    "maj_model.load_state_dict(checkpoint['model_state_dict'])\n",
    "\n",
    "path = os.getcwd() + \"/Case_1/checkpoints/model_ep_40/Run_1/trial_0/checkpoint.pt\"\n",
    "model1 = logistic_regression_model.Predictor(len(columns)).to(device)\n",
    "checkpoint = torch.load(path, map_location=device)\n",
    "model1.load_state_dict(checkpoint['model_state_dict'])\n",
    "\n",
    "m_f_1 =logistic_regression_model.feature_importance(maj_model, columns, k=0)\n",
    "m_f_2 = logistic_regression_model.feature_importance(min_model, columns, k=0)\n",
    "m_f_3 = logistic_regression_model.feature_importance(comb_model, columns, k=0)\n",
    "model1_f =logistic_regression_model.feature_importance(model1, columns, k=0)"
   ]
  },
  {
   "cell_type": "code",
   "execution_count": null,
   "id": "painted-monthly",
   "metadata": {
    "scrolled": true
   },
   "outputs": [],
   "source": [
    "m_f_1"
   ]
  },
  {
   "cell_type": "code",
   "execution_count": null,
   "id": "golden-process",
   "metadata": {
    "scrolled": true
   },
   "outputs": [],
   "source": [
    "m_f_2"
   ]
  },
  {
   "cell_type": "code",
   "execution_count": null,
   "id": "sitting-private",
   "metadata": {
    "scrolled": true
   },
   "outputs": [],
   "source": [
    "m_f_3"
   ]
  },
  {
   "cell_type": "code",
   "execution_count": null,
   "id": "encouraging-graduate",
   "metadata": {
    "scrolled": true
   },
   "outputs": [],
   "source": [
    "model1_f"
   ]
  },
  {
   "cell_type": "code",
   "execution_count": null,
   "id": "hungarian-ordinance",
   "metadata": {
    "scrolled": true
   },
   "outputs": [],
   "source": [
    "pd.read_pickle(\"base_rate_models/checkpoints/model_ep_160/Run_0/trial_0/combined/train_history.pkl\")"
   ]
  },
  {
   "cell_type": "code",
   "execution_count": null,
   "id": "answering-malawi",
   "metadata": {
    "scrolled": true
   },
   "outputs": [],
   "source": [
    "import getopt\n",
    "import sys\n",
    "import os\n",
    "from fairness_metrics import *\n",
    "from load_dataset import *\n",
    "from logistic_regression_model import *\n",
    "\n",
    "LABEL_COL, PROTECT_COLS, NUM_EPOCH, ID, NUM_TRIALS, NUM_PROXIES, FILE_PATH, VERBOSE, \\\n",
    "LR_RATE, BATCH_SIZE, BALANCE, KEEP, FILTER_MAJ, FILTER_MIN = \"income\", [\n",
    "    \"gender\"], 160, -1, 1, 0, \"../Datasets/adult_dataset/processed_adult.csv\", 1, 0.001, \\\n",
    "                                     1000, 1, 1, 0, 0\n",
    "\n",
    "train_test_datasets = load_split_dataset(FILE_PATH, LABEL_COL,\n",
    "                                         PROTECT_COLS[0],\n",
    "                                         is_scaled=True,\n",
    "                                         num_proxy_to_remove=NUM_PROXIES,\n",
    "                                         balanced=BALANCE,\n",
    "                                         keep=KEEP,\n",
    "                                         verbose=VERBOSE,\n",
    "                                         filters = [FILTER_MAJ, FILTER_MIN])\n",
    "\n",
    "tr_maj_d, tr_min_d, tr_d, te_maj_d, te_min_d, te_d = train_test_datasets\n",
    "\n",
    "print(\"---------- MAPPING ----------\")\n",
    "print(\"Train: \", tr_d.mapping)\n",
    "print(\"Test: \", te_d.mapping)\n",
    "print(\"-----------------------------\")\n",
    "\n",
    "device = torch.device(\"cpu\")\n",
    "num_predictor_features = tr_maj_d[0][0].shape[0]\n",
    "\n",
    "# Training data loaders\n",
    "train_maj_loader = torch.utils.data.DataLoader(dataset=tr_maj_d, batch_size=BATCH_SIZE, shuffle=True)\n",
    "train_min_loader = torch.utils.data.DataLoader(dataset=tr_min_d, batch_size=BATCH_SIZE, shuffle=True)\n",
    "train_loader = torch.utils.data.DataLoader(dataset=tr_d, batch_size=BATCH_SIZE, shuffle=True)\n",
    "\n",
    "test_maj_loader = torch.utils.data.DataLoader(dataset=te_maj_d, batch_size=BATCH_SIZE, shuffle=False)\n",
    "test_min_loader = torch.utils.data.DataLoader(dataset=te_min_d, batch_size=BATCH_SIZE, shuffle=False)\n",
    "test_loader = torch.utils.data.DataLoader(dataset=te_d, batch_size=BATCH_SIZE, shuffle=False)"
   ]
  },
  {
   "cell_type": "code",
   "execution_count": null,
   "id": "mounted-suffering",
   "metadata": {
    "scrolled": true
   },
   "outputs": [],
   "source": [
    "model2_pred = Predictor(len(columns)).to(device)\n",
    "optimizer = optim.Adam(model2_pred.parameters(), lr=LR_RATE)\n",
    "\n",
    "\n",
    "history_model2 = train(model2_pred, device, train_loader, optimizer, 40, verbose=VERBOSE, minority_w=None)"
   ]
  },
  {
   "cell_type": "code",
   "execution_count": null,
   "id": "eleven-moses",
   "metadata": {
    "scrolled": true
   },
   "outputs": [],
   "source": [
    "train_features, train_labels, train_protect = tr_d.features, tr_d.label, tr_d.protect\n",
    "test_features, test_labels, test_protect = te_d.features, te_d.label, te_d.protect\n",
    "\n",
    "hyperparameters = {'adversary_loss_weight': 0.1,\n",
    "                   'batch_size': BATCH_SIZE,\n",
    "                   'num_epochs': NUM_EPOCH,\n",
    "                   }\n",
    "\n",
    "with tf.Session() as sess:\n",
    "    model = adversial_model.AdversarialLogisticModel(\"training\", sess, hyperparameters, debias=True)\n",
    "    trained_model = model.fit(train_features, train_labels, train_protect)\n",
    "    train_pred_labels = trained_model.predict(train_features, train_labels, train_protect)\n",
    "    test_pred_labels = trained_model.predict(test_features, test_labels, test_protect)"
   ]
  },
  {
   "cell_type": "code",
   "execution_count": null,
   "id": "interracial-flavor",
   "metadata": {},
   "outputs": [],
   "source": [
    "accs = equalizing_odds(test_pred_labels, test_labels, test_protect)\n",
    "accs"
   ]
  },
  {
   "cell_type": "code",
   "execution_count": null,
   "id": "lesser-variance",
   "metadata": {},
   "outputs": [],
   "source": [
    "np.average([np.max(acc) - np.min(acc) for acc in accs])"
   ]
  },
  {
   "cell_type": "markdown",
   "id": "hazardous-cathedral",
   "metadata": {},
   "source": [
    "## Model 1"
   ]
  },
  {
   "cell_type": "code",
   "execution_count": null,
   "id": "interior-former",
   "metadata": {},
   "outputs": [],
   "source": [
    "test_pred_labels, test_loss, test_accuracy, _ = test(model1, device, test_loader)\n",
    "accs = equalizing_odds(test_pred_labels, test_loader.dataset.label, test_loader.dataset.protect)\n",
    "accs"
   ]
  },
  {
   "cell_type": "code",
   "execution_count": null,
   "id": "miniature-diana",
   "metadata": {},
   "outputs": [],
   "source": [
    "np.average([np.max(acc) - np.min(acc) for acc in accs])"
   ]
  },
  {
   "cell_type": "code",
   "execution_count": null,
   "id": "adult-qualification",
   "metadata": {
    "scrolled": false
   },
   "outputs": [],
   "source": [
    "scatter_plots(device, maj_model, min_model, model1, test_maj_loader, test_min_loader, test_loader)"
   ]
  },
  {
   "cell_type": "markdown",
   "id": "elect-kenya",
   "metadata": {},
   "source": [
    "## Model 2"
   ]
  },
  {
   "cell_type": "code",
   "execution_count": null,
   "id": "outdoor-review",
   "metadata": {},
   "outputs": [],
   "source": [
    "test_pred_labels, test_loss, test_accuracy, _ = test(model2_pred, device, test_loader)\n",
    "accs = equalizing_odds(test_pred_labels, test_loader.dataset.label, test_loader.dataset.protect)\n",
    "accs"
   ]
  },
  {
   "cell_type": "code",
   "execution_count": null,
   "id": "abroad-credits",
   "metadata": {},
   "outputs": [],
   "source": [
    "np.average([np.max(acc) - np.min(acc) for acc in accs])"
   ]
  },
  {
   "cell_type": "code",
   "execution_count": null,
   "id": "automotive-noise",
   "metadata": {
    "scrolled": false
   },
   "outputs": [],
   "source": [
    "scatter_plots(device, maj_model, min_model, model2_pred, test_maj_loader, test_min_loader, test_loader)"
   ]
  },
  {
   "cell_type": "markdown",
   "id": "extra-doubt",
   "metadata": {},
   "source": [
    "## Case 3e"
   ]
  },
  {
   "cell_type": "code",
   "execution_count": null,
   "id": "distributed-surrey",
   "metadata": {},
   "outputs": [],
   "source": [
    "test_pred_labels, test_loss, test_accuracy, _ = test(comb_model, device, test_loader)\n",
    "accs = equalizing_odds(test_pred_labels, test_loader.dataset.label, test_loader.dataset.protect)\n",
    "accs"
   ]
  },
  {
   "cell_type": "code",
   "execution_count": null,
   "id": "acknowledged-cheat",
   "metadata": {},
   "outputs": [],
   "source": [
    "np.average([np.max(acc) - np.min(acc) for acc in accs])"
   ]
  },
  {
   "cell_type": "code",
   "execution_count": null,
   "id": "medical-three",
   "metadata": {},
   "outputs": [],
   "source": [
    "scatter_plots(device, maj_model, min_model, comb_model, test_maj_loader, test_min_loader, test_loader)"
   ]
  },
  {
   "cell_type": "code",
   "execution_count": null,
   "id": "therapeutic-clause",
   "metadata": {},
   "outputs": [],
   "source": [
    "vector_1 = np.array([0,1,1,0,1,0])\n",
    "vector_2 = np.array([1,1,1,0,1,1])"
   ]
  },
  {
   "cell_type": "code",
   "execution_count": null,
   "id": "therapeutic-uniform",
   "metadata": {},
   "outputs": [],
   "source": [
    "np.sum(vector_1 == vector_2)/len(vector_1)"
   ]
  }
 ],
 "metadata": {
  "kernelspec": {
   "display_name": "Python 3",
   "language": "python",
   "name": "python3"
  },
  "language_info": {
   "codemirror_mode": {
    "name": "ipython",
    "version": 3
   },
   "file_extension": ".py",
   "mimetype": "text/x-python",
   "name": "python",
   "nbconvert_exporter": "python",
   "pygments_lexer": "ipython3",
   "version": "3.6.9"
  }
 },
 "nbformat": 4,
 "nbformat_minor": 5
}
