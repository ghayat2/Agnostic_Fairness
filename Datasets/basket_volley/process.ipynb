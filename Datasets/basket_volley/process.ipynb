{
 "cells": [
  {
   "cell_type": "markdown",
   "id": "gorgeous-episode",
   "metadata": {},
   "source": [
    "# Making Training/Validation set\n",
    "\n",
    "This notebook constructs the training/validation or Training/Testing sets while keeping the original ratios of the sensitive group across the labels"
   ]
  },
  {
   "cell_type": "code",
   "execution_count": 1,
   "id": "alien-lodge",
   "metadata": {},
   "outputs": [],
   "source": [
    "import os\n",
    "import random\n",
    "import shutil\n",
    "import random"
   ]
  },
  {
   "cell_type": "code",
   "execution_count": 2,
   "id": "equivalent-status",
   "metadata": {},
   "outputs": [],
   "source": [
    "train_path_bask, val_path_bask = \"train_test_split/train/basket\", \"train_test_split/test/basket\"\n",
    "os.makedirs(train_path_bask, exist_ok=True)\n",
    "os.makedirs(val_path_bask, exist_ok=True)\n",
    "\n",
    "train_path_voll, val_path_voll = \"train_test_split/train/volley\", \"train_test_split/test/volley\"\n",
    "os.makedirs(train_path_voll, exist_ok=True)\n",
    "os.makedirs(val_path_voll, exist_ok=True)\n",
    "\n",
    "path_bask_r_f = 'basket/basket_f_r/'\n",
    "path_bask_y_f = 'basket/basket_f_y/'\n",
    "path_bask_r_m = 'basket/basket_m_r/'\n",
    "path_bask_y_m = 'basket/basket_m_y/'\n",
    "\n",
    "bask_r_f = os.listdir(path_bask_r_f)\n",
    "bask_y_f = os.listdir(path_bask_y_f)\n",
    "bask_r_m = os.listdir(path_bask_r_m)\n",
    "bask_y_m = os.listdir(path_bask_y_m)\n",
    "\n",
    "path_voll_r_f = 'volley/volley_f_r/'\n",
    "path_voll_y_f = 'volley/volley_f_y/'\n",
    "path_voll_r_m = 'volley/volley_m_r/'\n",
    "path_voll_y_m = 'volley/volley_m_y/'\n",
    "\n",
    "voll_r_f = os.listdir(path_voll_r_f)\n",
    "voll_y_f = os.listdir(path_voll_y_f)\n",
    "voll_r_m = os.listdir(path_voll_r_m)\n",
    "voll_y_m = os.listdir(path_voll_y_m)"
   ]
  },
  {
   "cell_type": "code",
   "execution_count": 3,
   "id": "seeing-father",
   "metadata": {},
   "outputs": [],
   "source": [
    "split= 0.25\n",
    "\n",
    "bask_r = len(bask_r_m) + len(bask_r_f)\n",
    "bask_y = len(bask_y_f) + len(bask_y_m)\n",
    "bask = bask_r + bask_y\n",
    "\n",
    "r_bask_r = bask_r /bask\n",
    "r_bask_y = 1 - r_bask_r\n",
    "\n",
    "voll_r = len(voll_r_f) + len(voll_r_m)\n",
    "voll_y = len(voll_y_f) + len(voll_y_m)\n",
    "voll = voll_r + voll_y\n",
    "\n",
    "r_voll_r = voll_r /voll\n",
    "r_voll_y = 1 - r_voll_r"
   ]
  },
  {
   "cell_type": "code",
   "execution_count": 103,
   "id": "objective-female",
   "metadata": {},
   "outputs": [],
   "source": [
    "val_bask_r = set(random.sample(list(range(bask_r)), int(bask_r * split))) # could be test set\n",
    "for i in range(bask_r):\n",
    "    index = i if i<len(bask_r_m) else i - len(bask_r_m)\n",
    "    src = path_bask_r_m + bask_r_m[index] if i == index else path_bask_r_f + bask_r_f[index]\n",
    "    dest = val_path_bask if i in val_bask_r else train_path_bask\n",
    "    \n",
    "    if src.split(\"/\")[-1] in os.listdir(dest):\n",
    "        dest = os.path.join(dest, src.split(\"/\")[-1].split(\".\")[0] + \"_.\" + src.split(\"/\")[-1].split(\".\")[1])\n",
    "        \n",
    "    shutil.copy(src, dest)\n",
    "\n",
    "val_bask_y = set(random.sample(list(range(bask_y)), int(bask_y * split))) # could be test set\n",
    "for i in range(bask_y):\n",
    "    index = i if i<len(bask_y_m) else i - len(bask_y_m)\n",
    "    src = path_bask_y_m + bask_y_m[index] if i == index else path_bask_y_f + bask_y_f[index]\n",
    "    dest = val_path_bask if i in val_bask_y else train_path_bask\n",
    "    \n",
    "    if src.split(\"/\")[-1] in os.listdir(dest):\n",
    "        dest = os.path.join(dest, src.split(\"/\")[-1].split(\".\")[0] + \"_.\" + src.split(\"/\")[-1].split(\".\")[1])\n",
    "        \n",
    "    shutil.copy(src, dest)\n",
    "\n",
    "val_voll_r = set(random.sample(list(range(voll_r)), int(voll_r * split))) # could be test set\n",
    "for i in range(voll_r):\n",
    "    index = i if i<len(voll_r_m) else i - len(voll_r_m)\n",
    "    src = path_voll_r_m + voll_r_m[index] if i == index else path_voll_r_f + voll_r_f[index]\n",
    "    dest = val_path_voll if i in val_voll_r else train_path_voll\n",
    "    \n",
    "    if src.split(\"/\")[-1] in os.listdir(dest):\n",
    "        dest = os.path.join(dest, src.split(\"/\")[-1].split(\".\")[0] + \"_.\" + src.split(\"/\")[-1].split(\".\")[1])\n",
    "        \n",
    "    shutil.copy(src, dest)\n",
    "\n",
    "val_voll_y = set(random.sample(list(range(voll_y)), int(voll_y * split))) # could be test set\n",
    "for i in range(voll_y):\n",
    "    index = i if i<len(voll_y_m) else i - len(voll_y_m)\n",
    "    src = path_voll_y_m + voll_y_m[index] if i == index else path_voll_y_f + voll_y_f[index]\n",
    "    dest = val_path_voll if i in val_voll_y else train_path_voll\n",
    "    \n",
    "    if src.split(\"/\")[-1] in os.listdir(dest):\n",
    "        dest = os.path.join(dest, src.split(\"/\")[-1].split(\".\")[0] + \"_.\" + src.split(\"/\")[-1].split(\".\")[1])\n",
    "        \n",
    "    shutil.copy(src, dest)"
   ]
  },
  {
   "cell_type": "markdown",
   "id": "dying-sherman",
   "metadata": {},
   "source": [
    "## Make Bias training set "
   ]
  },
  {
   "cell_type": "code",
   "execution_count": 142,
   "id": "right-democracy",
   "metadata": {},
   "outputs": [
    {
     "data": {
      "text/plain": [
       "(336, 337.5)"
      ]
     },
     "execution_count": 142,
     "metadata": {},
     "output_type": "execute_result"
    }
   ],
   "source": [
    "bask_y_t*4, bask_r*0.75"
   ]
  },
  {
   "cell_type": "code",
   "execution_count": 160,
   "id": "decreased-mexican",
   "metadata": {},
   "outputs": [],
   "source": [
    "BIAS = 0.8\n",
    "\n",
    "train_b_path_bask = f\"train_test_split/train_{BIAS}/basket\"\n",
    "os.makedirs(train_b_path_bask, exist_ok=True)\n",
    "\n",
    "train_b_path_voll = f\"train_test_split/train_{BIAS}/volley\"\n",
    "os.makedirs(train_b_path_voll, exist_ok=True)\n",
    "\n",
    "bask_y_t = int((1-BIAS)*bask_r/BIAS*(1-split))\n",
    "voll_r_t = int((1-BIAS)*voll_y/BIAS*(1-split))\n",
    "\n",
    "train_bask, train_voll, c_bask, c_voll = os.listdir(train_path_bask), os.listdir(train_path_voll), 0, 0\n",
    "for im in train_bask:\n",
    "    src, dst = None, None\n",
    "    if im in bask_r_m or im in bask_r_f:\n",
    "        src, dst = train_path_bask, train_b_path_bask\n",
    "    elif c_bask < bask_y_t and (im in bask_y_m or im in bask_y_f):\n",
    "        src, dst = train_path_bask, train_b_path_bask\n",
    "        c_bask += 1\n",
    "        \n",
    "    if src and dst:\n",
    "        shutil.copy(src + '/' + im, dst + '/' + im)\n",
    "        \n",
    "for im in train_voll:  \n",
    "    src, dst = None, None\n",
    "    if im in voll_y_m or im in voll_y_f:\n",
    "        src, dst = train_path_voll, train_b_path_voll\n",
    "    elif c_voll < voll_r_t and (im in voll_r_m or im in voll_r_f):\n",
    "        src, dst = train_path_voll, train_b_path_voll\n",
    "        c_voll += 1\n",
    "        \n",
    "    if src and dst:\n",
    "        shutil.copy(src + '/' + im, dst + '/' + im)"
   ]
  },
  {
   "cell_type": "code",
   "execution_count": 8,
   "id": "wired-acceptance",
   "metadata": {},
   "outputs": [],
   "source": [
    "train_voll = os.listdir(train_path_voll)\n",
    "train_b_path_voll = f\"train_test_split/train_0.8/volley\"\n",
    "c_r = 0\n",
    "for img in train_voll:\n",
    "    src, dst = None, None\n",
    "    if img in voll_y_m or img in voll_y_f:\n",
    "        src, dst = train_path_voll + \"/\" + img, train_b_path_voll + \"/\" + img\n",
    "    if src and dst:    \n",
    "        shutil.copy(src, dst)"
   ]
  },
  {
   "cell_type": "code",
   "execution_count": 180,
   "id": "julian-share",
   "metadata": {},
   "outputs": [
    {
     "data": {
      "text/plain": [
       "0"
      ]
     },
     "execution_count": 180,
     "metadata": {},
     "output_type": "execute_result"
    }
   ],
   "source": [
    "c_r"
   ]
  },
  {
   "cell_type": "code",
   "execution_count": 177,
   "id": "ignored-riding",
   "metadata": {},
   "outputs": [
    {
     "data": {
      "text/plain": [
       "(167, 172)"
      ]
     },
     "execution_count": 177,
     "metadata": {},
     "output_type": "execute_result"
    }
   ],
   "source": [
    "train_voll_b = os.listdir(train_b_path_voll)\n",
    "c_r, c_y = 0, 0\n",
    "for im in train_voll_b:\n",
    "    if im in voll_r_m or im in voll_r_f:\n",
    "        c_r += 1\n",
    "    elif im in voll_y_m or im in voll_y_f:\n",
    "        c_y += 1\n",
    "        \n",
    "c_r, c_y"
   ]
  }
 ],
 "metadata": {
  "kernelspec": {
   "display_name": "Python 3",
   "language": "python",
   "name": "python3"
  },
  "language_info": {
   "codemirror_mode": {
    "name": "ipython",
    "version": 3
   },
   "file_extension": ".py",
   "mimetype": "text/x-python",
   "name": "python",
   "nbconvert_exporter": "python",
   "pygments_lexer": "ipython3",
   "version": "3.6.9"
  }
 },
 "nbformat": 4,
 "nbformat_minor": 5
}
