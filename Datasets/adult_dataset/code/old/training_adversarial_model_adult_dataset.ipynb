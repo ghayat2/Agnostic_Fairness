{
 "cells": [
  {
   "cell_type": "code",
   "execution_count": 1,
   "metadata": {},
   "outputs": [
    {
     "name": "stderr",
     "output_type": "stream",
     "text": [
      "/anaconda3/lib/python3.7/site-packages/nbformat/current.py:19: UserWarning: nbformat.current is deprecated.\n",
      "\n",
      "- use nbformat for read/write/validate public API\n",
      "- use nbformat.vX directly to composing notebooks of a particular version\n",
      "\n",
      "  \"\"\")\n"
     ]
    },
    {
     "name": "stdout",
     "output_type": "stream",
     "text": [
      "importing Jupyter notebook from load_dataset.ipynb\n",
      "importing Jupyter notebook from adversarial_debiasing_model.ipynb\n",
      "importing Jupyter notebook from fairness_metrics.ipynb\n"
     ]
    }
   ],
   "source": [
    "import io, os, sys, types\n",
    "from IPython import get_ipython\n",
    "from nbformat import current\n",
    "from IPython.core.interactiveshell import InteractiveShell\n",
    "\n",
    "def find_notebook(fullname, path=None):\n",
    "    \"\"\"find a notebook, given its fully qualified name and an optional path\n",
    "\n",
    "    This turns \"foo.bar\" into \"foo/bar.ipynb\"\n",
    "    and tries turning \"Foo_Bar\" into \"Foo Bar\" if Foo_Bar\n",
    "    does not exist.\n",
    "    \"\"\"\n",
    "    name = fullname.rsplit('.', 1)[-1]\n",
    "    if not path:\n",
    "        path = ['']\n",
    "    for d in path:\n",
    "        nb_path = os.path.join(d, name + \".ipynb\")\n",
    "        if os.path.isfile(nb_path):\n",
    "            return nb_path\n",
    "        # let import Notebook_Name find \"Notebook Name.ipynb\"\n",
    "        nb_path = nb_path.replace(\"_\", \" \")\n",
    "        if os.path.isfile(nb_path):\n",
    "            return nb_path\n",
    "\n",
    "\n",
    "class NotebookLoader(object):\n",
    "    \"\"\"Module Loader for Jupyter Notebooks\"\"\"\n",
    "    def __init__(self, path=None):\n",
    "        self.shell = InteractiveShell.instance()\n",
    "        self.path = path\n",
    "\n",
    "    def load_module(self, fullname):\n",
    "        \"\"\"import a notebook as a module\"\"\"\n",
    "        path = find_notebook(fullname, self.path)\n",
    "\n",
    "        print (\"importing Jupyter notebook from %s\" % path)\n",
    "\n",
    "        # load the notebook object\n",
    "        with io.open(path, 'r', encoding='utf-8') as f:\n",
    "            nb = current.read(f, 'json')\n",
    "\n",
    "\n",
    "        # create the module and add it to sys.modules\n",
    "        # if name in sys.modules:\n",
    "        #    return sys.modules[name]\n",
    "        mod = types.ModuleType(fullname)\n",
    "        mod.__file__ = path\n",
    "        mod.__loader__ = self\n",
    "        mod.__dict__['get_ipython'] = get_ipython\n",
    "        sys.modules[fullname] = mod\n",
    "\n",
    "        # extra work to ensure that magics that would affect the user_ns\n",
    "        # actually affect the notebook module's ns\n",
    "        save_user_ns = self.shell.user_ns\n",
    "        self.shell.user_ns = mod.__dict__\n",
    "\n",
    "        try:\n",
    "            for cell in nb.worksheets[0].cells:\n",
    "                if cell.cell_type == 'code' and cell.language == 'python':\n",
    "                    # transform the input to executable Python\n",
    "                    code = self.shell.input_transformer_manager.transform_cell(cell.input)\n",
    "                    # run the code in themodule\n",
    "                    exec(code, mod.__dict__)\n",
    "        finally:\n",
    "            self.shell.user_ns = save_user_ns\n",
    "        return mod\n",
    "\n",
    "\n",
    "class NotebookFinder(object):\n",
    "    \"\"\"Module finder that locates Jupyter Notebooks\"\"\"\n",
    "    def __init__(self):\n",
    "        self.loaders = {}\n",
    "\n",
    "    def find_module(self, fullname, path=None):\n",
    "        nb_path = find_notebook(fullname, path)\n",
    "        if not nb_path:\n",
    "            return\n",
    "\n",
    "        key = path\n",
    "        if path:\n",
    "            # lists aren't hashable\n",
    "            key = os.path.sep.join(path)\n",
    "\n",
    "        if key not in self.loaders:\n",
    "            self.loaders[key] = NotebookLoader(path)\n",
    "        return self.loaders[key]\n",
    "\n",
    "sys.meta_path.append(NotebookFinder())\n",
    "\n",
    "from load_dataset import *\n",
    "from adversarial_debiasing_model import *\n",
    "from fairness_metrics import *"
   ]
  },
  {
   "cell_type": "code",
   "execution_count": 2,
   "metadata": {},
   "outputs": [
    {
     "name": "stdout",
     "output_type": "stream",
     "text": [
      "loaded\n",
      "scaled\n",
      "[[4213 6995]\n",
      " [1669 9539]]  balanced income,gender\n",
      "balanced\n"
     ]
    }
   ],
   "source": [
    "# Data Loading\n",
    "filepath = \"../data/Adult Dataset/processed_adult.csv\"\n",
    "label, protect = \"income\", \"gender\"\n",
    "\n",
    "balanced = {\"label_only\":True,\"downsample\":True}\n",
    "num_proxy_to_remove = 0\n",
    "train_dataset, test_dataset = train_test_dataset(filepath, \n",
    "                                                 label, \n",
    "                                                 protect, \n",
    "                                                 is_scaled=True,\n",
    "                                                 num_proxy_to_remove=num_proxy_to_remove,\n",
    "                                                 balanced=balanced\n",
    "                                                )"
   ]
  },
  {
   "cell_type": "code",
   "execution_count": 3,
   "metadata": {},
   "outputs": [
    {
     "data": {
      "application/vnd.jupyter.widget-view+json": {
       "model_id": "8a132887ec9543afa385db23046e0c00",
       "version_major": 2,
       "version_minor": 0
      },
      "text/plain": [
       "HBox(children=(IntProgress(value=0, max=17), HTML(value='')))"
      ]
     },
     "metadata": {},
     "output_type": "display_data"
    },
    {
     "name": "stderr",
     "output_type": "stream",
     "text": [
      "/anaconda3/lib/python3.7/site-packages/torch/nn/functional.py:1351: UserWarning: nn.functional.sigmoid is deprecated. Use torch.sigmoid instead.\n",
      "  warnings.warn(\"nn.functional.sigmoid is deprecated. Use torch.sigmoid instead.\")\n"
     ]
    },
    {
     "name": "stdout",
     "output_type": "stream",
     "text": [
      "\n",
      "\n",
      "Test set: Average loss: 7.30e-01, Predictor Accuracy: (52%), Adversary Accuracy: (74%)\n",
      "\n"
     ]
    },
    {
     "data": {
      "application/vnd.jupyter.widget-view+json": {
       "model_id": "852d5b244a634e0d8369503fd7810753",
       "version_major": 2,
       "version_minor": 0
      },
      "text/plain": [
       "HBox(children=(IntProgress(value=0, max=17), HTML(value='')))"
      ]
     },
     "metadata": {},
     "output_type": "display_data"
    },
    {
     "name": "stdout",
     "output_type": "stream",
     "text": [
      "\n",
      "\n",
      "Test set: Average loss: 7.11e-01, Predictor Accuracy: (58%), Adversary Accuracy: (74%)\n",
      "\n"
     ]
    },
    {
     "data": {
      "application/vnd.jupyter.widget-view+json": {
       "model_id": "b499ea4af92e480398163a40b208cb18",
       "version_major": 2,
       "version_minor": 0
      },
      "text/plain": [
       "HBox(children=(IntProgress(value=0, max=17), HTML(value='')))"
      ]
     },
     "metadata": {},
     "output_type": "display_data"
    },
    {
     "name": "stdout",
     "output_type": "stream",
     "text": [
      "\n",
      "\n",
      "Test set: Average loss: 6.94e-01, Predictor Accuracy: (67%), Adversary Accuracy: (74%)\n",
      "\n"
     ]
    },
    {
     "data": {
      "application/vnd.jupyter.widget-view+json": {
       "model_id": "d01534712f04427baa1bfe7f53cad67b",
       "version_major": 2,
       "version_minor": 0
      },
      "text/plain": [
       "HBox(children=(IntProgress(value=0, max=17), HTML(value='')))"
      ]
     },
     "metadata": {},
     "output_type": "display_data"
    },
    {
     "name": "stdout",
     "output_type": "stream",
     "text": [
      "\n",
      "\n",
      "Test set: Average loss: 6.77e-01, Predictor Accuracy: (73%), Adversary Accuracy: (74%)\n",
      "\n"
     ]
    },
    {
     "data": {
      "application/vnd.jupyter.widget-view+json": {
       "model_id": "672c57704f6145ac9828d0c525c4e482",
       "version_major": 2,
       "version_minor": 0
      },
      "text/plain": [
       "HBox(children=(IntProgress(value=0, max=17), HTML(value='')))"
      ]
     },
     "metadata": {},
     "output_type": "display_data"
    },
    {
     "name": "stdout",
     "output_type": "stream",
     "text": [
      "\n",
      "\n",
      "Test set: Average loss: 6.62e-01, Predictor Accuracy: (75%), Adversary Accuracy: (74%)\n",
      "\n"
     ]
    },
    {
     "data": {
      "application/vnd.jupyter.widget-view+json": {
       "model_id": "59723fbf10db4ecd8625f491a14ec91c",
       "version_major": 2,
       "version_minor": 0
      },
      "text/plain": [
       "HBox(children=(IntProgress(value=0, max=17), HTML(value='')))"
      ]
     },
     "metadata": {},
     "output_type": "display_data"
    },
    {
     "name": "stdout",
     "output_type": "stream",
     "text": [
      "\n",
      "\n",
      "Test set: Average loss: 6.48e-01, Predictor Accuracy: (76%), Adversary Accuracy: (74%)\n",
      "\n"
     ]
    },
    {
     "data": {
      "application/vnd.jupyter.widget-view+json": {
       "model_id": "3207086f27c5440ebadc15311cd799ea",
       "version_major": 2,
       "version_minor": 0
      },
      "text/plain": [
       "HBox(children=(IntProgress(value=0, max=17), HTML(value='')))"
      ]
     },
     "metadata": {},
     "output_type": "display_data"
    },
    {
     "name": "stdout",
     "output_type": "stream",
     "text": [
      "\n",
      "\n",
      "Test set: Average loss: 6.35e-01, Predictor Accuracy: (76%), Adversary Accuracy: (74%)\n",
      "\n"
     ]
    },
    {
     "data": {
      "application/vnd.jupyter.widget-view+json": {
       "model_id": "fbe13a7b9d024fc288289a235e1eba53",
       "version_major": 2,
       "version_minor": 0
      },
      "text/plain": [
       "HBox(children=(IntProgress(value=0, max=17), HTML(value='')))"
      ]
     },
     "metadata": {},
     "output_type": "display_data"
    },
    {
     "name": "stdout",
     "output_type": "stream",
     "text": [
      "\n",
      "\n",
      "Test set: Average loss: 6.23e-01, Predictor Accuracy: (77%), Adversary Accuracy: (74%)\n",
      "\n"
     ]
    },
    {
     "data": {
      "application/vnd.jupyter.widget-view+json": {
       "model_id": "42c1056b011a48a4af17f635a9a972c3",
       "version_major": 2,
       "version_minor": 0
      },
      "text/plain": [
       "HBox(children=(IntProgress(value=0, max=17), HTML(value='')))"
      ]
     },
     "metadata": {},
     "output_type": "display_data"
    },
    {
     "name": "stdout",
     "output_type": "stream",
     "text": [
      "\n",
      "\n",
      "Test set: Average loss: 6.12e-01, Predictor Accuracy: (77%), Adversary Accuracy: (74%)\n",
      "\n"
     ]
    },
    {
     "data": {
      "application/vnd.jupyter.widget-view+json": {
       "model_id": "b88bd79d1a29458ab73ad132ecaaadde",
       "version_major": 2,
       "version_minor": 0
      },
      "text/plain": [
       "HBox(children=(IntProgress(value=0, max=17), HTML(value='')))"
      ]
     },
     "metadata": {},
     "output_type": "display_data"
    },
    {
     "name": "stdout",
     "output_type": "stream",
     "text": [
      "\n",
      "\n",
      "Test set: Average loss: 6.02e-01, Predictor Accuracy: (77%), Adversary Accuracy: (74%)\n",
      "\n"
     ]
    },
    {
     "data": {
      "application/vnd.jupyter.widget-view+json": {
       "model_id": "ad97786994584d74b9854b61333357ca",
       "version_major": 2,
       "version_minor": 0
      },
      "text/plain": [
       "HBox(children=(IntProgress(value=0, max=17), HTML(value='')))"
      ]
     },
     "metadata": {},
     "output_type": "display_data"
    },
    {
     "name": "stdout",
     "output_type": "stream",
     "text": [
      "\n",
      "\n",
      "Test set: Average loss: 5.92e-01, Predictor Accuracy: (77%), Adversary Accuracy: (74%)\n",
      "\n"
     ]
    },
    {
     "data": {
      "application/vnd.jupyter.widget-view+json": {
       "model_id": "65ee47e9fb914a44ab9adcfd0dfaee82",
       "version_major": 2,
       "version_minor": 0
      },
      "text/plain": [
       "HBox(children=(IntProgress(value=0, max=17), HTML(value='')))"
      ]
     },
     "metadata": {},
     "output_type": "display_data"
    },
    {
     "name": "stdout",
     "output_type": "stream",
     "text": [
      "\n",
      "\n",
      "Test set: Average loss: 5.84e-01, Predictor Accuracy: (78%), Adversary Accuracy: (74%)\n",
      "\n"
     ]
    },
    {
     "data": {
      "application/vnd.jupyter.widget-view+json": {
       "model_id": "6fe75a6790d94af0841e69b617e1d0bf",
       "version_major": 2,
       "version_minor": 0
      },
      "text/plain": [
       "HBox(children=(IntProgress(value=0, max=17), HTML(value='')))"
      ]
     },
     "metadata": {},
     "output_type": "display_data"
    },
    {
     "name": "stdout",
     "output_type": "stream",
     "text": [
      "\n",
      "\n",
      "Test set: Average loss: 5.76e-01, Predictor Accuracy: (78%), Adversary Accuracy: (74%)\n",
      "\n"
     ]
    },
    {
     "data": {
      "application/vnd.jupyter.widget-view+json": {
       "model_id": "f5c79e87779c478e85954859fa11c42e",
       "version_major": 2,
       "version_minor": 0
      },
      "text/plain": [
       "HBox(children=(IntProgress(value=0, max=17), HTML(value='')))"
      ]
     },
     "metadata": {},
     "output_type": "display_data"
    },
    {
     "name": "stdout",
     "output_type": "stream",
     "text": [
      "\n",
      "\n",
      "Test set: Average loss: 5.68e-01, Predictor Accuracy: (78%), Adversary Accuracy: (74%)\n",
      "\n"
     ]
    },
    {
     "data": {
      "application/vnd.jupyter.widget-view+json": {
       "model_id": "ddc31998f42e40089359d381f4b95825",
       "version_major": 2,
       "version_minor": 0
      },
      "text/plain": [
       "HBox(children=(IntProgress(value=0, max=17), HTML(value='')))"
      ]
     },
     "metadata": {},
     "output_type": "display_data"
    },
    {
     "name": "stdout",
     "output_type": "stream",
     "text": [
      "\n",
      "\n",
      "Test set: Average loss: 5.62e-01, Predictor Accuracy: (78%), Adversary Accuracy: (74%)\n",
      "\n"
     ]
    },
    {
     "data": {
      "application/vnd.jupyter.widget-view+json": {
       "model_id": "1cf7c22029f1431c8e717500ed54d29f",
       "version_major": 2,
       "version_minor": 0
      },
      "text/plain": [
       "HBox(children=(IntProgress(value=0, max=17), HTML(value='')))"
      ]
     },
     "metadata": {},
     "output_type": "display_data"
    },
    {
     "name": "stdout",
     "output_type": "stream",
     "text": [
      "\n",
      "\n",
      "Test set: Average loss: 5.55e-01, Predictor Accuracy: (78%), Adversary Accuracy: (74%)\n",
      "\n"
     ]
    },
    {
     "data": {
      "application/vnd.jupyter.widget-view+json": {
       "model_id": "e42b10527c924a8bb4765f957fc7a3c9",
       "version_major": 2,
       "version_minor": 0
      },
      "text/plain": [
       "HBox(children=(IntProgress(value=0, max=17), HTML(value='')))"
      ]
     },
     "metadata": {},
     "output_type": "display_data"
    },
    {
     "name": "stdout",
     "output_type": "stream",
     "text": [
      "\n",
      "\n",
      "Test set: Average loss: 5.50e-01, Predictor Accuracy: (78%), Adversary Accuracy: (74%)\n",
      "\n"
     ]
    },
    {
     "data": {
      "application/vnd.jupyter.widget-view+json": {
       "model_id": "20e8c9609a5e48b5b7a3345439cf62dc",
       "version_major": 2,
       "version_minor": 0
      },
      "text/plain": [
       "HBox(children=(IntProgress(value=0, max=17), HTML(value='')))"
      ]
     },
     "metadata": {},
     "output_type": "display_data"
    },
    {
     "name": "stdout",
     "output_type": "stream",
     "text": [
      "\n",
      "\n",
      "Test set: Average loss: 5.45e-01, Predictor Accuracy: (78%), Adversary Accuracy: (74%)\n",
      "\n"
     ]
    },
    {
     "data": {
      "application/vnd.jupyter.widget-view+json": {
       "model_id": "9abf55ce6c3c4ec2a51cdee6d901030b",
       "version_major": 2,
       "version_minor": 0
      },
      "text/plain": [
       "HBox(children=(IntProgress(value=0, max=17), HTML(value='')))"
      ]
     },
     "metadata": {},
     "output_type": "display_data"
    },
    {
     "name": "stdout",
     "output_type": "stream",
     "text": [
      "\n",
      "\n",
      "Test set: Average loss: 5.40e-01, Predictor Accuracy: (78%), Adversary Accuracy: (74%)\n",
      "\n"
     ]
    },
    {
     "data": {
      "application/vnd.jupyter.widget-view+json": {
       "model_id": "bc99df6dfc524421931884778ebd3e44",
       "version_major": 2,
       "version_minor": 0
      },
      "text/plain": [
       "HBox(children=(IntProgress(value=0, max=17), HTML(value='')))"
      ]
     },
     "metadata": {},
     "output_type": "display_data"
    },
    {
     "name": "stdout",
     "output_type": "stream",
     "text": [
      "\n",
      "\n",
      "Test set: Average loss: 5.36e-01, Predictor Accuracy: (78%), Adversary Accuracy: (74%)\n",
      "\n"
     ]
    },
    {
     "data": {
      "application/vnd.jupyter.widget-view+json": {
       "model_id": "1a71ecf1371f4e97b2bedd6d548387fa",
       "version_major": 2,
       "version_minor": 0
      },
      "text/plain": [
       "HBox(children=(IntProgress(value=0, max=17), HTML(value='')))"
      ]
     },
     "metadata": {},
     "output_type": "display_data"
    },
    {
     "name": "stdout",
     "output_type": "stream",
     "text": [
      "\n",
      "\n",
      "Test set: Average loss: 5.32e-01, Predictor Accuracy: (78%), Adversary Accuracy: (74%)\n",
      "\n"
     ]
    },
    {
     "data": {
      "application/vnd.jupyter.widget-view+json": {
       "model_id": "1115ce2f99124c7c8b16f126926e28bf",
       "version_major": 2,
       "version_minor": 0
      },
      "text/plain": [
       "HBox(children=(IntProgress(value=0, max=17), HTML(value='')))"
      ]
     },
     "metadata": {},
     "output_type": "display_data"
    },
    {
     "name": "stdout",
     "output_type": "stream",
     "text": [
      "\n",
      "\n",
      "Test set: Average loss: 5.28e-01, Predictor Accuracy: (78%), Adversary Accuracy: (74%)\n",
      "\n"
     ]
    },
    {
     "data": {
      "application/vnd.jupyter.widget-view+json": {
       "model_id": "87de6c0183f846ca9aa35fc1a818a726",
       "version_major": 2,
       "version_minor": 0
      },
      "text/plain": [
       "HBox(children=(IntProgress(value=0, max=17), HTML(value='')))"
      ]
     },
     "metadata": {},
     "output_type": "display_data"
    },
    {
     "name": "stdout",
     "output_type": "stream",
     "text": [
      "\n",
      "\n",
      "Test set: Average loss: 5.25e-01, Predictor Accuracy: (78%), Adversary Accuracy: (74%)\n",
      "\n"
     ]
    },
    {
     "data": {
      "application/vnd.jupyter.widget-view+json": {
       "model_id": "4bd54165059547db88b178eaece347c3",
       "version_major": 2,
       "version_minor": 0
      },
      "text/plain": [
       "HBox(children=(IntProgress(value=0, max=17), HTML(value='')))"
      ]
     },
     "metadata": {},
     "output_type": "display_data"
    },
    {
     "name": "stdout",
     "output_type": "stream",
     "text": [
      "\n",
      "\n",
      "Test set: Average loss: 5.22e-01, Predictor Accuracy: (78%), Adversary Accuracy: (74%)\n",
      "\n"
     ]
    },
    {
     "data": {
      "application/vnd.jupyter.widget-view+json": {
       "model_id": "488477e8358c462fb6c3171631849b6d",
       "version_major": 2,
       "version_minor": 0
      },
      "text/plain": [
       "HBox(children=(IntProgress(value=0, max=17), HTML(value='')))"
      ]
     },
     "metadata": {},
     "output_type": "display_data"
    },
    {
     "name": "stdout",
     "output_type": "stream",
     "text": [
      "\n",
      "\n",
      "Test set: Average loss: 5.19e-01, Predictor Accuracy: (78%), Adversary Accuracy: (74%)\n",
      "\n"
     ]
    },
    {
     "data": {
      "application/vnd.jupyter.widget-view+json": {
       "model_id": "9591ae01e6b7470e851927be3c0b4140",
       "version_major": 2,
       "version_minor": 0
      },
      "text/plain": [
       "HBox(children=(IntProgress(value=0, max=17), HTML(value='')))"
      ]
     },
     "metadata": {},
     "output_type": "display_data"
    },
    {
     "name": "stdout",
     "output_type": "stream",
     "text": [
      "\n",
      "\n",
      "Test set: Average loss: 5.17e-01, Predictor Accuracy: (78%), Adversary Accuracy: (74%)\n",
      "\n"
     ]
    },
    {
     "data": {
      "application/vnd.jupyter.widget-view+json": {
       "model_id": "5732e5f1ed06465fa8971e747a08675d",
       "version_major": 2,
       "version_minor": 0
      },
      "text/plain": [
       "HBox(children=(IntProgress(value=0, max=17), HTML(value='')))"
      ]
     },
     "metadata": {},
     "output_type": "display_data"
    },
    {
     "name": "stdout",
     "output_type": "stream",
     "text": [
      "\n",
      "\n",
      "Test set: Average loss: 5.14e-01, Predictor Accuracy: (78%), Adversary Accuracy: (74%)\n",
      "\n"
     ]
    },
    {
     "data": {
      "application/vnd.jupyter.widget-view+json": {
       "model_id": "0455aafba8e946f8b075385ad60d20fa",
       "version_major": 2,
       "version_minor": 0
      },
      "text/plain": [
       "HBox(children=(IntProgress(value=0, max=17), HTML(value='')))"
      ]
     },
     "metadata": {},
     "output_type": "display_data"
    },
    {
     "name": "stdout",
     "output_type": "stream",
     "text": [
      "\n",
      "\n",
      "Test set: Average loss: 5.12e-01, Predictor Accuracy: (78%), Adversary Accuracy: (74%)\n",
      "\n"
     ]
    },
    {
     "data": {
      "application/vnd.jupyter.widget-view+json": {
       "model_id": "d3588b2bb0bc4c3d89cfa30ffe923954",
       "version_major": 2,
       "version_minor": 0
      },
      "text/plain": [
       "HBox(children=(IntProgress(value=0, max=17), HTML(value='')))"
      ]
     },
     "metadata": {},
     "output_type": "display_data"
    },
    {
     "name": "stdout",
     "output_type": "stream",
     "text": [
      "\n",
      "\n",
      "Test set: Average loss: 5.11e-01, Predictor Accuracy: (78%), Adversary Accuracy: (74%)\n",
      "\n"
     ]
    },
    {
     "data": {
      "application/vnd.jupyter.widget-view+json": {
       "model_id": "b083249489154388b4a67a406715296b",
       "version_major": 2,
       "version_minor": 0
      },
      "text/plain": [
       "HBox(children=(IntProgress(value=0, max=17), HTML(value='')))"
      ]
     },
     "metadata": {},
     "output_type": "display_data"
    },
    {
     "name": "stdout",
     "output_type": "stream",
     "text": [
      "\n",
      "\n",
      "Test set: Average loss: 5.09e-01, Predictor Accuracy: (78%), Adversary Accuracy: (74%)\n",
      "\n"
     ]
    },
    {
     "data": {
      "application/vnd.jupyter.widget-view+json": {
       "model_id": "7aef162f295b4902bc9d41fd3d0b84d9",
       "version_major": 2,
       "version_minor": 0
      },
      "text/plain": [
       "HBox(children=(IntProgress(value=0, max=17), HTML(value='')))"
      ]
     },
     "metadata": {},
     "output_type": "display_data"
    },
    {
     "name": "stdout",
     "output_type": "stream",
     "text": [
      "\n",
      "\n",
      "Test set: Average loss: 5.08e-01, Predictor Accuracy: (78%), Adversary Accuracy: (74%)\n",
      "\n"
     ]
    },
    {
     "data": {
      "application/vnd.jupyter.widget-view+json": {
       "model_id": "492a6255dfce453abb75f6a15dc47d04",
       "version_major": 2,
       "version_minor": 0
      },
      "text/plain": [
       "HBox(children=(IntProgress(value=0, max=17), HTML(value='')))"
      ]
     },
     "metadata": {},
     "output_type": "display_data"
    },
    {
     "name": "stdout",
     "output_type": "stream",
     "text": [
      "\n",
      "\n",
      "Test set: Average loss: 5.06e-01, Predictor Accuracy: (78%), Adversary Accuracy: (74%)\n",
      "\n"
     ]
    },
    {
     "data": {
      "application/vnd.jupyter.widget-view+json": {
       "model_id": "67fd9f99d20743d49c54d0488fe4d301",
       "version_major": 2,
       "version_minor": 0
      },
      "text/plain": [
       "HBox(children=(IntProgress(value=0, max=17), HTML(value='')))"
      ]
     },
     "metadata": {},
     "output_type": "display_data"
    },
    {
     "name": "stdout",
     "output_type": "stream",
     "text": [
      "\n",
      "\n",
      "Test set: Average loss: 5.05e-01, Predictor Accuracy: (78%), Adversary Accuracy: (74%)\n",
      "\n"
     ]
    },
    {
     "data": {
      "application/vnd.jupyter.widget-view+json": {
       "model_id": "296d5fe1865f40e1aa2e315329f5feb2",
       "version_major": 2,
       "version_minor": 0
      },
      "text/plain": [
       "HBox(children=(IntProgress(value=0, max=17), HTML(value='')))"
      ]
     },
     "metadata": {},
     "output_type": "display_data"
    },
    {
     "name": "stdout",
     "output_type": "stream",
     "text": [
      "\n",
      "\n",
      "Test set: Average loss: 5.04e-01, Predictor Accuracy: (77%), Adversary Accuracy: (74%)\n",
      "\n"
     ]
    },
    {
     "data": {
      "application/vnd.jupyter.widget-view+json": {
       "model_id": "6896495d6c4b4604ac08e16ccb6624a7",
       "version_major": 2,
       "version_minor": 0
      },
      "text/plain": [
       "HBox(children=(IntProgress(value=0, max=17), HTML(value='')))"
      ]
     },
     "metadata": {},
     "output_type": "display_data"
    },
    {
     "name": "stdout",
     "output_type": "stream",
     "text": [
      "\n",
      "\n",
      "Test set: Average loss: 5.03e-01, Predictor Accuracy: (77%), Adversary Accuracy: (74%)\n",
      "\n"
     ]
    },
    {
     "data": {
      "application/vnd.jupyter.widget-view+json": {
       "model_id": "5a3781bf9bab4fa9892b691590fb404f",
       "version_major": 2,
       "version_minor": 0
      },
      "text/plain": [
       "HBox(children=(IntProgress(value=0, max=17), HTML(value='')))"
      ]
     },
     "metadata": {},
     "output_type": "display_data"
    },
    {
     "name": "stdout",
     "output_type": "stream",
     "text": [
      "\n",
      "\n",
      "Test set: Average loss: 5.03e-01, Predictor Accuracy: (77%), Adversary Accuracy: (74%)\n",
      "\n"
     ]
    },
    {
     "data": {
      "application/vnd.jupyter.widget-view+json": {
       "model_id": "428d88738a81459dad004a212572afd3",
       "version_major": 2,
       "version_minor": 0
      },
      "text/plain": [
       "HBox(children=(IntProgress(value=0, max=17), HTML(value='')))"
      ]
     },
     "metadata": {},
     "output_type": "display_data"
    },
    {
     "name": "stdout",
     "output_type": "stream",
     "text": [
      "\n",
      "\n",
      "Test set: Average loss: 5.02e-01, Predictor Accuracy: (77%), Adversary Accuracy: (74%)\n",
      "\n"
     ]
    },
    {
     "data": {
      "application/vnd.jupyter.widget-view+json": {
       "model_id": "0e91d232e718451c8dd6ce2a419925af",
       "version_major": 2,
       "version_minor": 0
      },
      "text/plain": [
       "HBox(children=(IntProgress(value=0, max=17), HTML(value='')))"
      ]
     },
     "metadata": {},
     "output_type": "display_data"
    },
    {
     "name": "stdout",
     "output_type": "stream",
     "text": [
      "\n",
      "\n",
      "Test set: Average loss: 5.01e-01, Predictor Accuracy: (77%), Adversary Accuracy: (74%)\n",
      "\n"
     ]
    },
    {
     "data": {
      "application/vnd.jupyter.widget-view+json": {
       "model_id": "fb24b8b164864efc8382970d8a9082ab",
       "version_major": 2,
       "version_minor": 0
      },
      "text/plain": [
       "HBox(children=(IntProgress(value=0, max=17), HTML(value='')))"
      ]
     },
     "metadata": {},
     "output_type": "display_data"
    },
    {
     "name": "stdout",
     "output_type": "stream",
     "text": [
      "\n",
      "\n",
      "Test set: Average loss: 5.01e-01, Predictor Accuracy: (77%), Adversary Accuracy: (74%)\n",
      "\n"
     ]
    },
    {
     "data": {
      "application/vnd.jupyter.widget-view+json": {
       "model_id": "7cf02e1812fe46b692737c9d119b3ae0",
       "version_major": 2,
       "version_minor": 0
      },
      "text/plain": [
       "HBox(children=(IntProgress(value=0, max=17), HTML(value='')))"
      ]
     },
     "metadata": {},
     "output_type": "display_data"
    },
    {
     "name": "stdout",
     "output_type": "stream",
     "text": [
      "\n",
      "\n",
      "Test set: Average loss: 5.00e-01, Predictor Accuracy: (77%), Adversary Accuracy: (74%)\n",
      "\n"
     ]
    },
    {
     "data": {
      "application/vnd.jupyter.widget-view+json": {
       "model_id": "9a27694815b548cf8fa9c207cd929392",
       "version_major": 2,
       "version_minor": 0
      },
      "text/plain": [
       "HBox(children=(IntProgress(value=0, max=17), HTML(value='')))"
      ]
     },
     "metadata": {},
     "output_type": "display_data"
    },
    {
     "name": "stdout",
     "output_type": "stream",
     "text": [
      "\n",
      "\n",
      "Test set: Average loss: 5.00e-01, Predictor Accuracy: (77%), Adversary Accuracy: (74%)\n",
      "\n"
     ]
    },
    {
     "data": {
      "application/vnd.jupyter.widget-view+json": {
       "model_id": "7d7b7d3be7e04230b5d5b1ca5bdd2dda",
       "version_major": 2,
       "version_minor": 0
      },
      "text/plain": [
       "HBox(children=(IntProgress(value=0, max=17), HTML(value='')))"
      ]
     },
     "metadata": {},
     "output_type": "display_data"
    },
    {
     "name": "stdout",
     "output_type": "stream",
     "text": [
      "\n",
      "\n",
      "Test set: Average loss: 5.00e-01, Predictor Accuracy: (77%), Adversary Accuracy: (74%)\n",
      "\n"
     ]
    },
    {
     "data": {
      "application/vnd.jupyter.widget-view+json": {
       "model_id": "957b00ac258d4123afec337d2c418d76",
       "version_major": 2,
       "version_minor": 0
      },
      "text/plain": [
       "HBox(children=(IntProgress(value=0, max=17), HTML(value='')))"
      ]
     },
     "metadata": {},
     "output_type": "display_data"
    },
    {
     "name": "stdout",
     "output_type": "stream",
     "text": [
      "\n",
      "\n",
      "Test set: Average loss: 5.00e-01, Predictor Accuracy: (77%), Adversary Accuracy: (74%)\n",
      "\n"
     ]
    },
    {
     "data": {
      "application/vnd.jupyter.widget-view+json": {
       "model_id": "d2edacf107cb4c7ead01c181c06eeb93",
       "version_major": 2,
       "version_minor": 0
      },
      "text/plain": [
       "HBox(children=(IntProgress(value=0, max=17), HTML(value='')))"
      ]
     },
     "metadata": {},
     "output_type": "display_data"
    },
    {
     "name": "stdout",
     "output_type": "stream",
     "text": [
      "\n",
      "\n",
      "Test set: Average loss: 5.00e-01, Predictor Accuracy: (77%), Adversary Accuracy: (74%)\n",
      "\n"
     ]
    },
    {
     "data": {
      "application/vnd.jupyter.widget-view+json": {
       "model_id": "03b9047bbc9746a1a0a81a4038fb0836",
       "version_major": 2,
       "version_minor": 0
      },
      "text/plain": [
       "HBox(children=(IntProgress(value=0, max=17), HTML(value='')))"
      ]
     },
     "metadata": {},
     "output_type": "display_data"
    },
    {
     "name": "stdout",
     "output_type": "stream",
     "text": [
      "\n",
      "\n",
      "Test set: Average loss: 5.00e-01, Predictor Accuracy: (77%), Adversary Accuracy: (74%)\n",
      "\n"
     ]
    },
    {
     "data": {
      "application/vnd.jupyter.widget-view+json": {
       "model_id": "83984b25f7c440a0be05186383ef9e75",
       "version_major": 2,
       "version_minor": 0
      },
      "text/plain": [
       "HBox(children=(IntProgress(value=0, max=17), HTML(value='')))"
      ]
     },
     "metadata": {},
     "output_type": "display_data"
    },
    {
     "name": "stdout",
     "output_type": "stream",
     "text": [
      "\n",
      "\n",
      "Test set: Average loss: 5.00e-01, Predictor Accuracy: (77%), Adversary Accuracy: (74%)\n",
      "\n"
     ]
    },
    {
     "data": {
      "application/vnd.jupyter.widget-view+json": {
       "model_id": "8e46c89bfbc54ed78e4cd8db4fa3124c",
       "version_major": 2,
       "version_minor": 0
      },
      "text/plain": [
       "HBox(children=(IntProgress(value=0, max=17), HTML(value='')))"
      ]
     },
     "metadata": {},
     "output_type": "display_data"
    },
    {
     "name": "stdout",
     "output_type": "stream",
     "text": [
      "\n",
      "\n",
      "Test set: Average loss: 5.00e-01, Predictor Accuracy: (77%), Adversary Accuracy: (74%)\n",
      "\n"
     ]
    },
    {
     "data": {
      "application/vnd.jupyter.widget-view+json": {
       "model_id": "4040abd9318746caa0459f9d97af9258",
       "version_major": 2,
       "version_minor": 0
      },
      "text/plain": [
       "HBox(children=(IntProgress(value=0, max=17), HTML(value='')))"
      ]
     },
     "metadata": {},
     "output_type": "display_data"
    },
    {
     "name": "stdout",
     "output_type": "stream",
     "text": [
      "\n",
      "\n",
      "Test set: Average loss: 5.00e-01, Predictor Accuracy: (76%), Adversary Accuracy: (74%)\n",
      "\n"
     ]
    },
    {
     "data": {
      "application/vnd.jupyter.widget-view+json": {
       "model_id": "a63c7464c4c4402dba5b3359b845556d",
       "version_major": 2,
       "version_minor": 0
      },
      "text/plain": [
       "HBox(children=(IntProgress(value=0, max=17), HTML(value='')))"
      ]
     },
     "metadata": {},
     "output_type": "display_data"
    },
    {
     "name": "stdout",
     "output_type": "stream",
     "text": [
      "\n",
      "\n",
      "Test set: Average loss: 5.00e-01, Predictor Accuracy: (76%), Adversary Accuracy: (74%)\n",
      "\n"
     ]
    },
    {
     "data": {
      "application/vnd.jupyter.widget-view+json": {
       "model_id": "22945af4d13b4eb09880eafd2102a1ad",
       "version_major": 2,
       "version_minor": 0
      },
      "text/plain": [
       "HBox(children=(IntProgress(value=0, max=17), HTML(value='')))"
      ]
     },
     "metadata": {},
     "output_type": "display_data"
    },
    {
     "name": "stdout",
     "output_type": "stream",
     "text": [
      "\n",
      "\n",
      "Test set: Average loss: 5.00e-01, Predictor Accuracy: (76%), Adversary Accuracy: (74%)\n",
      "\n"
     ]
    }
   ],
   "source": [
    "device = torch.device(\"cpu\")\n",
    "\n",
    "# Parameters and Hyperparameters\n",
    "num_predictor_features = train_dataset[0][0].shape[0]\n",
    "num_adversary_features = 3\n",
    "\n",
    "hyperparams = {\n",
    "\"batch_size\": 1000,\n",
    "\"num_epochs\": 50,\n",
    "\"pred_lr_rate\": 0.001,\n",
    "\"adv_lr_rate\":0.001\n",
    "}\n",
    "\n",
    "# Data Loaders\n",
    "# train_loader = torch.utils.data.DataLoader(dataset=train_dataset, batch_size=batch_size, shuffle=True)\n",
    "# test_loader = torch.utils.data.DataLoader(dataset=test_dataset, batch_size=batch_size, shuffle=False)\n",
    "\n",
    "# Models and Optimizers\n",
    "\n",
    "def adversarial_training(hyperparams, alpha=0.01):\n",
    "    torch.manual_seed(1)\n",
    "    train_loader = torch.utils.data.DataLoader(dataset=train_dataset, batch_size=hyperparams[\"batch_size\"], shuffle=True)\n",
    "    test_loader = torch.utils.data.DataLoader(dataset=test_dataset, batch_size=hyperparams[\"batch_size\"], shuffle=False)\n",
    "\n",
    "    predictor = Predictor(num_predictor_features).to(device)\n",
    "    adversary = Adversary(num_adversary_features).to(device)\n",
    "    optimizer_P = optim.Adam(predictor.parameters(), lr=hyperparams[\"pred_lr_rate\"])\n",
    "    optimizer_A = optim.Adam(adversary.parameters(), lr=hyperparams[\"pred_lr_rate\"])\n",
    "    criterion = torch.nn.BCELoss()\n",
    "\n",
    "    train_predictor_accuracies, train_adversary_accuracies = [], []\n",
    "    test_predictor_accuracies, test_adversary_accuracies = [], []\n",
    "\n",
    "    train_predictor_losses, train_adversary_losses = [], []\n",
    "    test_predictor_losses, test_adversary_losses = [], []\n",
    "\n",
    "    for epoch in range(1, hyperparams[\"num_epochs\"] + 1):\n",
    "        train_pred_loss, train_adv_loss, train_pred_accuracy, train_adv_accuracy = train(predictor, adversary, optimizer_P, optimizer_A, device, train_loader, criterion, epoch, alpha=alpha)\n",
    "        train_predictor_losses.append(train_pred_loss)\n",
    "        train_adversary_losses.append(train_adv_loss)\n",
    "        train_predictor_accuracies.append(train_pred_accuracy)\n",
    "        train_adversary_accuracies.append(train_adv_accuracy)\n",
    "\n",
    "        test_pred_labels, test_pred_protect, test_pred_loss, test_adv_loss, test_pred_accuracy, test_adv_accuracy = test(predictor, adversary, device, test_loader, criterion)\n",
    "        test_predictor_losses.append(test_pred_loss)\n",
    "        test_adversary_losses.append(test_adv_loss)\n",
    "        test_predictor_accuracies.append(test_pred_accuracy)\n",
    "        test_adversary_accuracies.append(test_adv_accuracy)\n",
    "    all_losses = [train_predictor_losses, train_adversary_losses, test_predictor_losses, test_adversary_losses]\n",
    "    all_accuracies = [train_predictor_accuracies, train_adversary_accuracies, test_predictor_accuracies, test_adversary_accuracies]\n",
    "    return train_loader, test_loader, test_pred_labels, train_pred_accuracy, test_pred_accuracy, all_losses, all_accuracies\n",
    "train_loader, test_loader, test_pred_labels, train_pred_accuracy, test_pred_accuracy, losses, accuracies = adversarial_training(hyperparams)\n"
   ]
  },
  {
   "cell_type": "code",
   "execution_count": 4,
   "metadata": {},
   "outputs": [
    {
     "name": "stderr",
     "output_type": "stream",
     "text": [
      "/anaconda3/lib/python3.7/site-packages/matplotlib/font_manager.py:1241: UserWarning: findfont: Font family ['normal'] not found. Falling back to DejaVu Sans.\n",
      "  (prop.get_family(), self.defaultFamily[fontext]))\n"
     ]
    },
    {
     "data": {
      "image/png": "[encoded data removed]",
      "text/plain": [
       "<Figure size 720x504 with 1 Axes>"
      ]
     },
     "metadata": {
      "needs_background": "light"
     },
     "output_type": "display_data"
    }
   ],
   "source": [
    "import matplotlib\n",
    "font = {'family' : 'normal',\n",
    "        'size': 15}\n",
    "matplotlib.rc('font', **font)\n",
    "epochs = range(1, hyperparams[\"num_epochs\"] + 1)\n",
    "plt.figure(figsize=(10,7))\n",
    "plt.plot(epochs, accuracies[0], label=\"train_predictor\")\n",
    "plt.plot(epochs, accuracies[1], label=\"train_adversary\")\n",
    "plt.plot(epochs, accuracies[2], label=\"test_predictor\")\n",
    "plt.plot(epochs, accuracies[3], label=\"test_adversary\")\n",
    "plt.title(\"Adversarial Learning Accuracies: adaptive alpha\")\n",
    "plt.xlabel(\"Epoch\")\n",
    "plt.ylabel(\"Accuracy\")\n",
    "plt.legend()\n",
    "plt.savefig(\"../plots/adversarial_model/accuracy_against_epoch.png\")\n",
    "plt.show()"
   ]
  },
  {
   "cell_type": "code",
   "execution_count": 5,
   "metadata": {},
   "outputs": [
    {
     "data": {
      "image/png": "[encoded data removed]",
      "text/plain": [
       "<Figure size 720x504 with 1 Axes>"
      ]
     },
     "metadata": {
      "needs_background": "light"
     },
     "output_type": "display_data"
    }
   ],
   "source": [
    "plt.figure(figsize=(10,7))\n",
    "plt.plot(epochs, losses[0], label=\"train_predictor\")\n",
    "plt.plot(epochs, losses[1], label=\"train_adversary\")\n",
    "plt.plot(epochs, losses[2], label=\"test_predictor\")\n",
    "plt.plot(epochs, losses[3], label=\"test_adversary\")\n",
    "plt.title(\"Adversarial Learning Losses: adaptive alpha\")\n",
    "plt.xlabel(\"Epoch\")\n",
    "plt.ylabel(\"Loss\")\n",
    "plt.legend()\n",
    "plt.savefig(\"../plots/adversarial_model/loss_against_epoch.png\")\n",
    "plt.show()"
   ]
  },
  {
   "cell_type": "code",
   "execution_count": 6,
   "metadata": {},
   "outputs": [
    {
     "name": "stdout",
     "output_type": "stream",
     "text": [
      "Adversarial Model\n",
      "0.766297882464906 Train Acuuracy\n",
      "0.7623126338329764 Test Acuuracy\n",
      "[[1031   16]\n",
      " [ 294  133]]  Females\n",
      "[[1029  754]\n",
      " [ 268 2079]]  Males\n",
      "0.1010854816824966 0.685956416464891 Fraction predicted positive females, males\n",
      "-0.5848709347823944  statistical_parity_difference\n",
      "0.5743362646419915 FNR difference\n",
      "-0.4076010244262779 FPR difference\n",
      "0.6885245901639344 0.11418832552194291  FNR females, males\n",
      "0.015281757402101241 0.42288278182837913  FPR females, males\n",
      "-0.5743362646419915  true_positive_rate_difference\n",
      "-0.4076010244262779  false_positive_rate_difference\n",
      "-0.4909686445341347  average_odds_difference\n"
     ]
    }
   ],
   "source": [
    "###### Fairness Metrics\n",
    "print(\"Adversarial Model\")\n",
    "\n",
    "female_confusion_matrix = binary_confusion_matrix(test_loader.dataset.label, test_pred_labels, test_loader.dataset.protect, 0)\n",
    "male_confusion_matrix = binary_confusion_matrix(test_loader.dataset.label, test_pred_labels, test_loader.dataset.protect, 1)\n",
    "\n",
    "female_fpr = false_positive_rate(female_confusion_matrix)\n",
    "male_fpr = false_positive_rate(male_confusion_matrix)\n",
    "\n",
    "\n",
    "female_fnr = false_negative_rate(female_confusion_matrix)\n",
    "male_fnr = false_negative_rate(male_confusion_matrix)\n",
    "\n",
    "print(train_pred_accuracy, \"Train Acuuracy\")\n",
    "print(test_pred_accuracy, \"Test Acuuracy\")\n",
    "\n",
    "print(female_confusion_matrix, \" Females\")\n",
    "print(male_confusion_matrix, \" Males\")\n",
    "\n",
    "print(frac_predicted_positive(female_confusion_matrix), frac_predicted_positive(male_confusion_matrix), \"Fraction predicted positive females, males\")\n",
    "print(statistical_parity_difference(female_confusion_matrix, male_confusion_matrix), \" statistical_parity_difference\")\n",
    "\n",
    "print(female_fnr - male_fnr, \"FNR difference\")\n",
    "print(female_fpr - male_fpr, \"FPR difference\")\n",
    "print(female_fnr, male_fnr, \" FNR females, males\")\n",
    "print(female_fpr, male_fpr, \" FPR females, males\")\n",
    "print(true_positive_rate_difference(female_confusion_matrix, male_confusion_matrix), \" true_positive_rate_difference\")\n",
    "print(false_positive_rate_difference(female_confusion_matrix, male_confusion_matrix), \" false_positive_rate_difference\")\n",
    "print(average_odds_difference(female_confusion_matrix, male_confusion_matrix), \" average_odds_difference\")\n"
   ]
  },
  {
   "cell_type": "code",
   "execution_count": 7,
   "metadata": {},
   "outputs": [],
   "source": [
    "def fainess_vs_accuracy(hyperparams, alphas):\n",
    "    test_accurcies, test_fairness = [], []\n",
    "    for alpha in alphas:\n",
    "        _, test_loader, test_pred_labels, train_pred_accuracy, test_pred_accuracy,_,_ = adversarial_training(hyperparams, alpha)\n",
    "        female_confusion_matrix = binary_confusion_matrix(test_loader.dataset.label, test_pred_labels, test_loader.dataset.protect, 0)\n",
    "        male_confusion_matrix = binary_confusion_matrix(test_loader.dataset.label, test_pred_labels, test_loader.dataset.protect, 1)\n",
    "\n",
    "        female_fpr = false_positive_rate(female_confusion_matrix)\n",
    "        male_fpr = false_positive_rate(male_confusion_matrix)\n",
    "\n",
    "\n",
    "        female_fnr = false_negative_rate(female_confusion_matrix)\n",
    "        male_fnr = false_negative_rate(male_confusion_matrix)\n",
    "        \n",
    "        avg_odds_diff = average_odds_difference(female_confusion_matrix, male_confusion_matrix)\n",
    "        test_accurcies.append(test_pred_accuracy)\n",
    "        test_fairness.append(avg_odds_diff)\n",
    "    return test_accurcies, test_fairness  \n",
    "\n",
    "alphas = [10**i for i in [-2,-1,0,1,2]]   \n",
    "hyperparams = {\n",
    "\"batch_size\": 1000,\n",
    "\"num_epochs\": 15,\n",
    "\"pred_lr_rate\": 0.001,\n",
    "\"adv_lr_rate\":0.001\n",
    "}\n",
    "\n",
    "# test_accurcies, test_fairness = fainess_vs_accuracy(hyperparams, alphas)   "
   ]
  },
  {
   "cell_type": "code",
   "execution_count": 8,
   "metadata": {},
   "outputs": [],
   "source": [
    "# plt.figure(figsize=(10,7))\n",
    "# plt.plot(alphas, test_accurcies, marker='o', label=\"test_accuracy\")\n",
    "# plt.plot(alphas, test_fairness, marker='o', label=\"test_avg_odds_difference\")\n",
    "# plt.xlabel(\"alpha\")\n",
    "# plt.ylabel(\"Average Odds/Accuracy\")\n",
    "# plt.title(\"Fairness Accuracy Tradeoff: changing alpha\")\n",
    "\n",
    "# plt.legend()\n",
    "# plt.xscale('log', basex=10)\n",
    "# plt.savefig(\"../plots/adversarial_model/fairness_accuracy_against_alpha\")\n",
    "    "
   ]
  },
  {
   "cell_type": "code",
   "execution_count": null,
   "metadata": {},
   "outputs": [],
   "source": []
  }
 ],
 "metadata": {
  "kernelspec": {
   "display_name": "Python 3",
   "language": "python",
   "name": "python3"
  },
  "language_info": {
   "codemirror_mode": {
    "name": "ipython",
    "version": 3
   },
   "file_extension": ".py",
   "mimetype": "text/x-python",
   "name": "python",
   "nbconvert_exporter": "python",
   "pygments_lexer": "ipython3",
   "version": "3.6.1"
  }
 },
 "nbformat": 4,
 "nbformat_minor": 2
}
