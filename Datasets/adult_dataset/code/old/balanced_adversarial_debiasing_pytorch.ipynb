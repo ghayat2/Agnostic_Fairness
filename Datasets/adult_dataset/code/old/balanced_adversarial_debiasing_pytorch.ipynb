{
 "cells": [
  {
   "cell_type": "code",
   "execution_count": 1,
   "metadata": {},
   "outputs": [],
   "source": [
    "import pandas as pd\n",
    "import torch\n",
    "import torch.nn as nn\n",
    "import torch.nn.functional as F\n",
    "import torch.optim as optim\n",
    "from tqdm import tqdm_notebook as tqdm\n",
    "from torchvision import datasets, transforms\n",
    "import pandas as pd\n",
    "from sklearn import preprocessing\n",
    "from sklearn.metrics import *\n",
    "from sklearn.utils import resample\n",
    "import numpy as np\n",
    "from torchvision import datasets, transforms\n",
    "from torch.utils import *\n",
    "import matplotlib.pyplot as plt"
   ]
  },
  {
   "cell_type": "code",
   "execution_count": 2,
   "metadata": {},
   "outputs": [],
   "source": [
    "def get_data(filepath):\n",
    "    return pd.read_csv(filepath) \n",
    "\n",
    "def split_train_test(compas_df, train=0.75):\n",
    "    np.random.seed(seed=1)\n",
    "    shuffled = np.random.permutation(compas_df.index)\n",
    "    n_train = int(len(shuffled) * train)\n",
    "    i_train, i_test = shuffled[:n_train], shuffled[n_train:]\n",
    "    return compas_df.loc[i_train], compas_df.loc[i_test]\n",
    "\n",
    "\n",
    "def process_data(df, label_column, protect_column):\n",
    "    feature_columns = set(df.columns) - {label_column, protect_column}\n",
    "    features = df[list(feature_columns)].values\n",
    "    labels = df[label_column].values.reshape(-1,1)\n",
    "    protect = df[protect_column].values.reshape(-1,1)\n",
    "    return (features, labels, protect)\n",
    "\n",
    "def top_k_proxy_features(df, protected_attribute, label, k):\n",
    "    correlations = []\n",
    "    for feature in df:\n",
    "        if feature not in [protected_attribute, label]:\n",
    "            correlation_score = normalized_mutual_info_score(df[feature], df[protected_attribute], average_method='arithmetic')\n",
    "            correlations.append((feature, correlation_score))\n",
    "    top_k = sorted(correlations, key=lambda kv:kv[1], reverse=True)[:k]\n",
    "    return top_k\n",
    "\n",
    "def df_without_k_proxies(df, protected_attribute, label, k):\n",
    "    top_k = top_k_proxy_features(df, protected_attribute, label, k)\n",
    "    top_k_features = set([feature for feature, _ in top_k])\n",
    "    remaining_features = set(df.columns) - top_k_features\n",
    "    return df[remaining_features]"
   ]
  },
  {
   "cell_type": "code",
   "execution_count": 3,
   "metadata": {},
   "outputs": [],
   "source": [
    "##### Adult Dataset\n",
    "\n",
    "# Loading the dataset\n",
    "filepath = '../data/Adult Dataset/processed_adult.csv'\n",
    "adult_df = pd.read_csv(filepath)\n",
    "label_column = \"income\"\n",
    "protect_column = \"gender\"\n",
    "\n",
    "# Scaling the dataset\n",
    "minmax_scale = preprocessing.MinMaxScaler().fit(adult_df.values)\n",
    "adult_df_scaled = minmax_scale.transform(adult_df.values)\n",
    "adult_df_scaled = pd.DataFrame(adult_df_scaled, index=adult_df.index, columns=adult_df.columns)\n",
    "\n",
    "# Removing proxy features\n",
    "adult_df_without_proxies = df_without_k_proxies(adult_df_scaled, protect_column, label_column, 10)\n",
    "\n",
    "\n",
    "# # Splitting dataset into train, test features\n",
    "# train_df, test_df = split_train_test(adult_df_scaled)\n",
    "# train_features, train_labels, train_protect = process_data(train_df, label_column, protect_column)\n",
    "# test_features, test_labels, test_protect = process_data(test_df, label_column, protect_column)"
   ]
  },
  {
   "cell_type": "code",
   "execution_count": 4,
   "metadata": {},
   "outputs": [],
   "source": [
    "# adult_df_scaled.income.value_counts()"
   ]
  },
  {
   "cell_type": "code",
   "execution_count": 5,
   "metadata": {},
   "outputs": [],
   "source": [
    "class Predictor(nn.Module):\n",
    "    def __init__(self, num_features):\n",
    "        super(Predictor, self).__init__()\n",
    "        self.linear = torch.nn.Linear(num_features, 1)\n",
    "        \n",
    "    def forward(self, x):\n",
    "        y_logits = self.linear(x)\n",
    "        y_pred = F.sigmoid(y_logits)\n",
    "        return y_logits, y_pred \n",
    "\n",
    "\n",
    "class Adversary(nn.Module):\n",
    "    def __init__(self, num_features):\n",
    "        super(Adversary, self).__init__()\n",
    "        self.c = nn.Parameter(torch.ones(1), requires_grad=True)\n",
    "        self.linear = nn.Linear(num_features, 1)\n",
    "\n",
    "    def forward(self, y_logits, y):\n",
    "        s = F.sigmoid((1+abs(self.c))*y_logits) \n",
    "        y = y.view_as(s) \n",
    "        x = torch.cat([s, s*y, s*(1-y)], 1)\n",
    "        z_logits = self.linear(x)\n",
    "        z_pred = F.sigmoid(z_logits)\n",
    "        return z_logits, z_pred \n",
    "\n",
    "\n",
    "class Dataset(data.Dataset):\n",
    "    'Characterizes a dataset for PyTorch'\n",
    "    def __init__(self, df, label_column, protect_column):\n",
    "        'Initialization'\n",
    "        self.features = df.drop([label_column, protect_column], axis=1).values\n",
    "        self.label = df[label_column].values\n",
    "        self.protect = df[protect_column].values\n",
    "\n",
    "    def __len__(self):\n",
    "        'Denotes the total number of samples'\n",
    "        return len(self.features)\n",
    "\n",
    "    def __getitem__(self, index):\n",
    "        'Generates one sample of data'\n",
    "        X = self.features[index]\n",
    "        y = self.label[index]\n",
    "        z = self.protect[index]\n",
    "        return X, y, z\n",
    "    \n",
    "def train(predictor, adversary, optimizer_P, optimizer_A, device, train_loader, epoch, alpha=0.1, verbose=True):\n",
    "    predictor.train()\n",
    "    adversary.train()\n",
    "    sum_num_correct = 0\n",
    "    sum_num_adv_correct = 0\n",
    "    sum_loss = 0\n",
    "    num_batches_since_log = 0\n",
    "\n",
    "    if verbose:\n",
    "        batches = tqdm(enumerate(train_loader), total=len(train_loader))\n",
    "        batches.set_description(\"Epoch NA: Loss (NA) Accuracy (NA %)\")\n",
    "    else:\n",
    "        batches = enumerate(train_loader)\n",
    "    for batch_idx, (X, y, z) in batches:\n",
    "        X, y, z = X.to(device, dtype=torch.float), y.to(device, dtype=torch.float), z.to(device)\n",
    "        \n",
    "        optimizer_P.zero_grad()\n",
    "        optimizer_A.zero_grad()\n",
    "        criterion = torch.nn.BCELoss()\n",
    "        \n",
    "        ### Predictor \n",
    "        y_logits, y_pred = predictor(X)\n",
    "        predictor_loss = criterion(y_pred, y.view_as(y_pred))\n",
    "        \n",
    "        ### Adversary\n",
    "        z_logits, z_pred = adversary(y_logits, y)\n",
    "        adversary_loss = criterion(z_pred, z.view_as(z_pred))\n",
    "        \n",
    "\n",
    "        adversary_grads = torch.autograd.grad(adversary_loss, (predictor.parameters()), retain_graph=True)\n",
    "        normalize = lambda x: x / (torch.norm(x,1) + np.finfo(np.float32).tiny)\n",
    "\n",
    "        predictor_loss.backward(retain_graph=True)\n",
    "        adversary_loss.backward()\n",
    "\n",
    "        for W_grad_predictor, b_grad_predictor in zip(predictor.linear.weight.grad, predictor.linear.bias.grad):\n",
    "            W_grad_adversary = adversary_grads[0].view_as(W_grad_predictor)\n",
    "            unit_W_grad_adversary = normalize(W_grad_adversary)\n",
    "            W_grad_predictor -= torch.sum(unit_W_grad_adversary*W_grad_predictor)*unit_W_grad_adversary\n",
    "            W_grad_predictor -= alpha*W_grad_adversary\n",
    "            \n",
    "            b_grad_adversary = adversary_grads[1].view_as(b_grad_predictor)\n",
    "            unit_b_grad_adversary = normalize(b_grad_adversary)\n",
    "            b_grad_predictor -= torch.sum(unit_b_grad_adversary*b_grad_predictor)*unit_b_grad_adversary\n",
    "            b_grad_predictor -= alpha*b_grad_adversary\n",
    "                \n",
    "        optimizer_P.step()\n",
    "        optimizer_A.step()\n",
    "        \n",
    "        pred = (y_pred > 0.5)*1\n",
    "        correct = pred.eq(y.view_as(pred)).sum().item()\n",
    "        sum_num_correct += correct\n",
    "            \n",
    "        adv_pred = (z_pred > 0.5)*1\n",
    "        adv_correct = adv_pred.eq(z.view_as(adv_pred)).sum().item()\n",
    "        sum_num_adv_correct += adv_correct\n",
    "        \n",
    "        sum_loss += predictor_loss.item() * batch_size\n",
    "        num_batches_since_log += 1\n",
    "\n",
    "        if verbose:\n",
    "            batches.set_description(\n",
    "              \"Epoch {:d}: Predictor Loss ({:.2e}), Adversary Loss ({:.2e}), Accuracy ({:02.0f}%)\".format(\n",
    "                epoch, predictor_loss.item(), adversary_loss.item(), 100. * sum_num_correct / (num_batches_since_log * train_loader.batch_size))\n",
    "            )\n",
    "        \n",
    "    sum_loss /= len(train_loader.dataset)\n",
    "    predictor_accuracy = sum_num_correct / len(train_loader.dataset)\n",
    "    adversary_accuracy = sum_num_adv_correct/len(train_loader.dataset)\n",
    "    print(adversary_accuracy, \" adversary's accuracy\")\n",
    "    return sum_loss, predictor_accuracy, adversary_accuracy\n",
    "\n",
    "def test(predictor, device, test_loader):\n",
    "    predictor.eval()\n",
    "    test_loss = 0\n",
    "    correct = 0\n",
    "    adv_correct = 0\n",
    "    test_pred = torch.zeros(0, 1, dtype=torch.torch.int64)\n",
    "    test_adv_pred = torch.zeros(0, 1, dtype=torch.torch.int64)\n",
    "    with torch.no_grad():\n",
    "        for X, y, z in test_loader:\n",
    "            X, y, z = X.to(device, dtype=torch.float), y.to(device, dtype=torch.float), z.to(device, dtype=torch.float) \n",
    "            y_logit, y_pred = predictor(X)\n",
    "            \n",
    "            z_logit, z_pred = adversary(y_logit, y)\n",
    "            criterion = torch.nn.BCELoss()\n",
    "            loss = criterion(y_pred, y.view_as(y_pred))\n",
    "            test_loss += torch.sum(loss).item() # sum up batch loss\n",
    "            pred = (y_pred > 0.5)*1\n",
    "            test_pred = torch.cat([test_pred, pred], 0)\n",
    "            correct += pred.eq(y.view_as(pred)).sum().item()\n",
    "            \n",
    "            adv_pred = (z_pred > 0.5)*1\n",
    "            test_adv_pred = torch.cat([test_adv_pred, adv_pred], 0)\n",
    "            adv_correct += adv_pred.eq(z.view_as(adv_pred)).sum().item()\n",
    "            \n",
    "\n",
    "    test_loss /= len(test_loader.dataset)\n",
    "    print('\\nTest set: Average loss: {:.2e}, Accuracy: {}/{} ({:.0f}%)\\n'.format(\n",
    "        test_loss, correct, len(test_loader.dataset),\n",
    "        100. * correct / len(test_loader.dataset)))\n",
    "    return test_pred, test_adv_pred, test_loss, correct / len(test_loader.dataset), adv_correct/len(test_loader.dataset)\n",
    "\n"
   ]
  },
  {
   "cell_type": "code",
   "execution_count": 6,
   "metadata": {},
   "outputs": [],
   "source": [
    "def upsample_adult(df):\n",
    "    df_minority = df[df.gender==0]\n",
    "    df_majority = df[df.gender==1]\n",
    "    df_minority_upsampled = resample(df_minority,\n",
    "                                      replace=True,\n",
    "                                      n_samples=len(df_majority),\n",
    "                                      random_state=1)\n",
    "    df_upsampled = pd.concat([df_majority, df_minority_upsampled])\n",
    "    return df_upsampled\n",
    "\n",
    "def downsample_adult_gender(df):\n",
    "    df_minority = df[df.gender==0]\n",
    "    df_majority = df[df.gender==1]\n",
    "    df_majority_downsampled = resample(df_majority,\n",
    "                                       replace=False,\n",
    "                                       n_samples=len(df_minority),\n",
    "                                       random_state=1)\n",
    "    df_downsampled = pd.concat([df_majority_downsampled, df_minority])\n",
    "    return df_downsampled\n",
    "\n",
    "def downsample_adult_income(df):\n",
    "    df_minority = df[df.income==1]\n",
    "    df_majority = df[df.income==0]\n",
    "    df_majority_downsampled = resample(df_majority,\n",
    "                                       replace=False,\n",
    "                                       n_samples=len(df_minority),\n",
    "                                       random_state=1)\n",
    "    df_downsampled = pd.concat([df_majority_downsampled, df_minority])\n",
    "    return df_downsampled\n",
    "\n",
    "def downsample_adult(df):\n",
    "    df_minority_greater = df[(df.income==1) & (df.gender==0)]\n",
    "    df_majority_greater = df[(df.income==1) & (df.gender==1)]\n",
    "    df_majority_downsampled_greater = resample(df_majority_greater,\n",
    "                                       replace=False,\n",
    "                                       n_samples=len(df_minority_greater),\n",
    "                                       random_state=1)\n",
    "    df_minority_less = df[(df.income==0) & (df.gender==0)]\n",
    "    df_majority_less = df[(df.income==0) & (df.gender==1)]\n",
    "    df_majority_downsampled_less = resample(df_majority_less,\n",
    "                                       replace=False,\n",
    "                                       n_samples=len(df_minority_less),\n",
    "                                       random_state=1)\n",
    "    df_downsampled = pd.concat([df_majority_downsampled_greater,\n",
    "                                df_majority_downsampled_less,\n",
    "                                df_minority_greater,\n",
    "                                df_minority_less])\n",
    "    return df_downsampled"
   ]
  },
  {
   "cell_type": "code",
   "execution_count": 7,
   "metadata": {},
   "outputs": [],
   "source": [
    "# bdf = downsample_adult_income(downsample_adult(adult_df_scaled))\n",
    "# bdf = downsample_adult(downsample_adult_income(adult_df_scaled))\n",
    "# len(bdf[(bdf.gender==0) & (bdf.income==0)])"
   ]
  },
  {
   "cell_type": "code",
   "execution_count": 8,
   "metadata": {},
   "outputs": [
    {
     "name": "stderr",
     "output_type": "stream",
     "text": [
      "/Users/joeoconnor/venv/.virtualenvs/py37/lib/python3.7/site-packages/ipykernel_launcher.py:55: TqdmDeprecationWarning: This function will be removed in tqdm==5.0.0\n",
      "Please use `tqdm.notebook.tqdm` instead of `tqdm.tqdm_notebook`\n"
     ]
    },
    {
     "data": {
      "application/vnd.jupyter.widget-view+json": {
       "model_id": "d3262d43447f4c00a21520b03d8ca4b3",
       "version_major": 2,
       "version_minor": 0
      },
      "text/plain": [
       "HBox(children=(IntProgress(value=0, max=6), HTML(value='')))"
      ]
     },
     "metadata": {},
     "output_type": "display_data"
    },
    {
     "name": "stdout",
     "output_type": "stream",
     "text": [
      "\n",
      "0.4945076892350709  adversary's accuracy\n",
      "\n",
      "Test set: Average loss: 8.23e-04, Accuracy: 913/1669 (55%)\n",
      "\n"
     ]
    },
    {
     "name": "stderr",
     "output_type": "stream",
     "text": [
      "/Users/joeoconnor/venv/.virtualenvs/py37/lib/python3.7/site-packages/torch/nn/functional.py:1351: UserWarning: nn.functional.sigmoid is deprecated. Use torch.sigmoid instead.\n",
      "  warnings.warn(\"nn.functional.sigmoid is deprecated. Use torch.sigmoid instead.\")\n"
     ]
    },
    {
     "data": {
      "application/vnd.jupyter.widget-view+json": {
       "model_id": "21f7df6e622e4ad584f05702ed3a2d66",
       "version_major": 2,
       "version_minor": 0
      },
      "text/plain": [
       "HBox(children=(IntProgress(value=0, max=6), HTML(value='')))"
      ]
     },
     "metadata": {},
     "output_type": "display_data"
    },
    {
     "name": "stdout",
     "output_type": "stream",
     "text": [
      "\n",
      "0.4945076892350709  adversary's accuracy\n",
      "\n",
      "Test set: Average loss: 8.18e-04, Accuracy: 953/1669 (57%)\n",
      "\n"
     ]
    },
    {
     "data": {
      "application/vnd.jupyter.widget-view+json": {
       "model_id": "91af42bd06de4c7181b6f76bb23713b5",
       "version_major": 2,
       "version_minor": 0
      },
      "text/plain": [
       "HBox(children=(IntProgress(value=0, max=6), HTML(value='')))"
      ]
     },
     "metadata": {},
     "output_type": "display_data"
    },
    {
     "name": "stdout",
     "output_type": "stream",
     "text": [
      "\n",
      "0.4945076892350709  adversary's accuracy\n",
      "\n",
      "Test set: Average loss: 8.14e-04, Accuracy: 978/1669 (59%)\n",
      "\n"
     ]
    },
    {
     "data": {
      "application/vnd.jupyter.widget-view+json": {
       "model_id": "48cfa6aaad3844c6b07d3ced081de0b6",
       "version_major": 2,
       "version_minor": 0
      },
      "text/plain": [
       "HBox(children=(IntProgress(value=0, max=6), HTML(value='')))"
      ]
     },
     "metadata": {},
     "output_type": "display_data"
    },
    {
     "name": "stdout",
     "output_type": "stream",
     "text": [
      "\n",
      "0.4945076892350709  adversary's accuracy\n",
      "\n",
      "Test set: Average loss: 8.10e-04, Accuracy: 1010/1669 (61%)\n",
      "\n"
     ]
    },
    {
     "data": {
      "application/vnd.jupyter.widget-view+json": {
       "model_id": "c855fd18a84f49f7af9ec6dab5af82ef",
       "version_major": 2,
       "version_minor": 0
      },
      "text/plain": [
       "HBox(children=(IntProgress(value=0, max=6), HTML(value='')))"
      ]
     },
     "metadata": {},
     "output_type": "display_data"
    },
    {
     "name": "stdout",
     "output_type": "stream",
     "text": [
      "\n",
      "0.4945076892350709  adversary's accuracy\n",
      "\n",
      "Test set: Average loss: 8.06e-04, Accuracy: 1046/1669 (63%)\n",
      "\n"
     ]
    },
    {
     "data": {
      "application/vnd.jupyter.widget-view+json": {
       "model_id": "5930a2a28b54436c84a48c7c1b220344",
       "version_major": 2,
       "version_minor": 0
      },
      "text/plain": [
       "HBox(children=(IntProgress(value=0, max=6), HTML(value='')))"
      ]
     },
     "metadata": {},
     "output_type": "display_data"
    },
    {
     "name": "stdout",
     "output_type": "stream",
     "text": [
      "\n",
      "0.4945076892350709  adversary's accuracy\n",
      "\n",
      "Test set: Average loss: 8.02e-04, Accuracy: 1071/1669 (64%)\n",
      "\n"
     ]
    },
    {
     "data": {
      "application/vnd.jupyter.widget-view+json": {
       "model_id": "a5d1a97fe946432383207ed88a79a02d",
       "version_major": 2,
       "version_minor": 0
      },
      "text/plain": [
       "HBox(children=(IntProgress(value=0, max=6), HTML(value='')))"
      ]
     },
     "metadata": {},
     "output_type": "display_data"
    },
    {
     "name": "stdout",
     "output_type": "stream",
     "text": [
      "\n",
      "0.4947074096265229  adversary's accuracy\n",
      "\n",
      "Test set: Average loss: 7.99e-04, Accuracy: 1103/1669 (66%)\n",
      "\n"
     ]
    },
    {
     "data": {
      "application/vnd.jupyter.widget-view+json": {
       "model_id": "2a67092129194cbbb52ccc31fd7de355",
       "version_major": 2,
       "version_minor": 0
      },
      "text/plain": [
       "HBox(children=(IntProgress(value=0, max=6), HTML(value='')))"
      ]
     },
     "metadata": {},
     "output_type": "display_data"
    },
    {
     "name": "stdout",
     "output_type": "stream",
     "text": [
      "\n",
      "0.49530657080087875  adversary's accuracy\n",
      "\n",
      "Test set: Average loss: 7.95e-04, Accuracy: 1122/1669 (67%)\n",
      "\n"
     ]
    },
    {
     "data": {
      "application/vnd.jupyter.widget-view+json": {
       "model_id": "69be824349014ae8ba91abfb1f9347b6",
       "version_major": 2,
       "version_minor": 0
      },
      "text/plain": [
       "HBox(children=(IntProgress(value=0, max=6), HTML(value='')))"
      ]
     },
     "metadata": {},
     "output_type": "display_data"
    },
    {
     "name": "stdout",
     "output_type": "stream",
     "text": [
      "\n",
      "0.49530657080087875  adversary's accuracy\n",
      "\n",
      "Test set: Average loss: 7.92e-04, Accuracy: 1144/1669 (69%)\n",
      "\n"
     ]
    },
    {
     "data": {
      "application/vnd.jupyter.widget-view+json": {
       "model_id": "18f04c090b35480391d30ce91b47e717",
       "version_major": 2,
       "version_minor": 0
      },
      "text/plain": [
       "HBox(children=(IntProgress(value=0, max=6), HTML(value='')))"
      ]
     },
     "metadata": {},
     "output_type": "display_data"
    },
    {
     "name": "stdout",
     "output_type": "stream",
     "text": [
      "\n",
      "0.4963051727581386  adversary's accuracy\n",
      "\n",
      "Test set: Average loss: 7.88e-04, Accuracy: 1159/1669 (69%)\n",
      "\n"
     ]
    },
    {
     "data": {
      "application/vnd.jupyter.widget-view+json": {
       "model_id": "568fb15a0e484329a77a2c858aea214e",
       "version_major": 2,
       "version_minor": 0
      },
      "text/plain": [
       "HBox(children=(IntProgress(value=0, max=6), HTML(value='')))"
      ]
     },
     "metadata": {},
     "output_type": "display_data"
    },
    {
     "name": "stdout",
     "output_type": "stream",
     "text": [
      "\n",
      "0.49830237667265825  adversary's accuracy\n",
      "\n",
      "Test set: Average loss: 7.85e-04, Accuracy: 1170/1669 (70%)\n",
      "\n"
     ]
    },
    {
     "data": {
      "application/vnd.jupyter.widget-view+json": {
       "model_id": "fccdc8d60c5e45a2b35b2185aa644fb2",
       "version_major": 2,
       "version_minor": 0
      },
      "text/plain": [
       "HBox(children=(IntProgress(value=0, max=6), HTML(value='')))"
      ]
     },
     "metadata": {},
     "output_type": "display_data"
    },
    {
     "name": "stdout",
     "output_type": "stream",
     "text": [
      "\n",
      "0.5024965048931496  adversary's accuracy\n",
      "\n",
      "Test set: Average loss: 7.82e-04, Accuracy: 1177/1669 (71%)\n",
      "\n"
     ]
    },
    {
     "data": {
      "application/vnd.jupyter.widget-view+json": {
       "model_id": "0562180167184472ad4b52ca780c8113",
       "version_major": 2,
       "version_minor": 0
      },
      "text/plain": [
       "HBox(children=(IntProgress(value=0, max=6), HTML(value='')))"
      ]
     },
     "metadata": {},
     "output_type": "display_data"
    },
    {
     "name": "stdout",
     "output_type": "stream",
     "text": [
      "\n",
      "0.5032953864589574  adversary's accuracy\n",
      "\n",
      "Test set: Average loss: 7.78e-04, Accuracy: 1177/1669 (71%)\n",
      "\n"
     ]
    },
    {
     "data": {
      "application/vnd.jupyter.widget-view+json": {
       "model_id": "ec1e178a484546ff961aa15d88cb122b",
       "version_major": 2,
       "version_minor": 0
      },
      "text/plain": [
       "HBox(children=(IntProgress(value=0, max=6), HTML(value='')))"
      ]
     },
     "metadata": {},
     "output_type": "display_data"
    },
    {
     "name": "stdout",
     "output_type": "stream",
     "text": [
      "\n",
      "0.5126822448571999  adversary's accuracy\n",
      "\n",
      "Test set: Average loss: 7.75e-04, Accuracy: 1191/1669 (71%)\n",
      "\n"
     ]
    },
    {
     "data": {
      "application/vnd.jupyter.widget-view+json": {
       "model_id": "154d72b51f844ee3919c77380bf931f4",
       "version_major": 2,
       "version_minor": 0
      },
      "text/plain": [
       "HBox(children=(IntProgress(value=0, max=6), HTML(value='')))"
      ]
     },
     "metadata": {},
     "output_type": "display_data"
    },
    {
     "name": "stdout",
     "output_type": "stream",
     "text": [
      "\n",
      "0.5122828040742959  adversary's accuracy\n",
      "\n",
      "Test set: Average loss: 7.72e-04, Accuracy: 1200/1669 (72%)\n",
      "\n"
     ]
    },
    {
     "data": {
      "application/vnd.jupyter.widget-view+json": {
       "model_id": "afe87ea41a93407ba461c6cdbc3e5661",
       "version_major": 2,
       "version_minor": 0
      },
      "text/plain": [
       "HBox(children=(IntProgress(value=0, max=6), HTML(value='')))"
      ]
     },
     "metadata": {},
     "output_type": "display_data"
    },
    {
     "name": "stdout",
     "output_type": "stream",
     "text": [
      "\n",
      "0.512083083682844  adversary's accuracy\n",
      "\n",
      "Test set: Average loss: 7.69e-04, Accuracy: 1210/1669 (72%)\n",
      "\n"
     ]
    },
    {
     "data": {
      "application/vnd.jupyter.widget-view+json": {
       "model_id": "6b14c08b42d94874b52b79b79603fa91",
       "version_major": 2,
       "version_minor": 0
      },
      "text/plain": [
       "HBox(children=(IntProgress(value=0, max=6), HTML(value='')))"
      ]
     },
     "metadata": {},
     "output_type": "display_data"
    },
    {
     "name": "stdout",
     "output_type": "stream",
     "text": [
      "\n",
      "0.5092869982025164  adversary's accuracy\n",
      "\n",
      "Test set: Average loss: 7.66e-04, Accuracy: 1216/1669 (73%)\n",
      "\n"
     ]
    },
    {
     "data": {
      "application/vnd.jupyter.widget-view+json": {
       "model_id": "4313308d8b4f4f888e96c7fc876c4928",
       "version_major": 2,
       "version_minor": 0
      },
      "text/plain": [
       "HBox(children=(IntProgress(value=0, max=6), HTML(value='')))"
      ]
     },
     "metadata": {},
     "output_type": "display_data"
    },
    {
     "name": "stdout",
     "output_type": "stream",
     "text": [
      "\n",
      "0.5078889554623527  adversary's accuracy\n",
      "\n",
      "Test set: Average loss: 7.63e-04, Accuracy: 1225/1669 (73%)\n",
      "\n"
     ]
    },
    {
     "data": {
      "application/vnd.jupyter.widget-view+json": {
       "model_id": "a45126ad585048b1877041e323889625",
       "version_major": 2,
       "version_minor": 0
      },
      "text/plain": [
       "HBox(children=(IntProgress(value=0, max=6), HTML(value='')))"
      ]
     },
     "metadata": {},
     "output_type": "display_data"
    },
    {
     "name": "stdout",
     "output_type": "stream",
     "text": [
      "\n",
      "0.5042939884162173  adversary's accuracy\n",
      "\n",
      "Test set: Average loss: 7.60e-04, Accuracy: 1227/1669 (74%)\n",
      "\n"
     ]
    },
    {
     "data": {
      "application/vnd.jupyter.widget-view+json": {
       "model_id": "5e11bd89d9534b8fbacfdaa3e2ac7a22",
       "version_major": 2,
       "version_minor": 0
      },
      "text/plain": [
       "HBox(children=(IntProgress(value=0, max=6), HTML(value='')))"
      ]
     },
     "metadata": {},
     "output_type": "display_data"
    },
    {
     "name": "stdout",
     "output_type": "stream",
     "text": [
      "\n",
      "0.5030956660675054  adversary's accuracy\n",
      "\n",
      "Test set: Average loss: 7.58e-04, Accuracy: 1222/1669 (73%)\n",
      "\n"
     ]
    },
    {
     "data": {
      "application/vnd.jupyter.widget-view+json": {
       "model_id": "3740b94ff6e24b979ad4be39ef613412",
       "version_major": 2,
       "version_minor": 0
      },
      "text/plain": [
       "HBox(children=(IntProgress(value=0, max=6), HTML(value='')))"
      ]
     },
     "metadata": {},
     "output_type": "display_data"
    },
    {
     "name": "stdout",
     "output_type": "stream",
     "text": [
      "\n",
      "0.5036948272418614  adversary's accuracy\n",
      "\n",
      "Test set: Average loss: 7.55e-04, Accuracy: 1228/1669 (74%)\n",
      "\n"
     ]
    },
    {
     "data": {
      "application/vnd.jupyter.widget-view+json": {
       "model_id": "95f97de2e89f42e7a56dce422f6ac9ea",
       "version_major": 2,
       "version_minor": 0
      },
      "text/plain": [
       "HBox(children=(IntProgress(value=0, max=6), HTML(value='')))"
      ]
     },
     "metadata": {},
     "output_type": "display_data"
    },
    {
     "name": "stdout",
     "output_type": "stream",
     "text": [
      "\n",
      "0.5030956660675054  adversary's accuracy\n",
      "\n",
      "Test set: Average loss: 7.52e-04, Accuracy: 1235/1669 (74%)\n",
      "\n"
     ]
    },
    {
     "data": {
      "application/vnd.jupyter.widget-view+json": {
       "model_id": "d4773aeb3e734593822c46fea4b931d4",
       "version_major": 2,
       "version_minor": 0
      },
      "text/plain": [
       "HBox(children=(IntProgress(value=0, max=6), HTML(value='')))"
      ]
     },
     "metadata": {},
     "output_type": "display_data"
    },
    {
     "name": "stdout",
     "output_type": "stream",
     "text": [
      "\n",
      "0.5002995805871779  adversary's accuracy\n",
      "\n",
      "Test set: Average loss: 7.49e-04, Accuracy: 1239/1669 (74%)\n",
      "\n"
     ]
    },
    {
     "data": {
      "application/vnd.jupyter.widget-view+json": {
       "model_id": "b56d9bf69c14444b9d6420ba57e0d553",
       "version_major": 2,
       "version_minor": 0
      },
      "text/plain": [
       "HBox(children=(IntProgress(value=0, max=6), HTML(value='')))"
      ]
     },
     "metadata": {},
     "output_type": "display_data"
    },
    {
     "name": "stdout",
     "output_type": "stream",
     "text": [
      "\n",
      "0.49950069902137006  adversary's accuracy\n",
      "\n",
      "Test set: Average loss: 7.46e-04, Accuracy: 1239/1669 (74%)\n",
      "\n"
     ]
    },
    {
     "data": {
      "application/vnd.jupyter.widget-view+json": {
       "model_id": "9f057e7fde9e4a34b630acc3a0f68c16",
       "version_major": 2,
       "version_minor": 0
      },
      "text/plain": [
       "HBox(children=(IntProgress(value=0, max=6), HTML(value='')))"
      ]
     },
     "metadata": {},
     "output_type": "display_data"
    },
    {
     "name": "stdout",
     "output_type": "stream",
     "text": [
      "\n",
      "0.49970041941282206  adversary's accuracy\n",
      "\n",
      "Test set: Average loss: 7.44e-04, Accuracy: 1237/1669 (74%)\n",
      "\n"
     ]
    },
    {
     "data": {
      "application/vnd.jupyter.widget-view+json": {
       "model_id": "4d66eb7b79c9450e9b6d0d72b9604c89",
       "version_major": 2,
       "version_minor": 0
      },
      "text/plain": [
       "HBox(children=(IntProgress(value=0, max=6), HTML(value='')))"
      ]
     },
     "metadata": {},
     "output_type": "display_data"
    },
    {
     "name": "stdout",
     "output_type": "stream",
     "text": [
      "\n",
      "0.49910125823846613  adversary's accuracy\n",
      "\n",
      "Test set: Average loss: 7.41e-04, Accuracy: 1238/1669 (74%)\n",
      "\n"
     ]
    },
    {
     "data": {
      "application/vnd.jupyter.widget-view+json": {
       "model_id": "1046cc6036b6428fb56fa30950cf9ad2",
       "version_major": 2,
       "version_minor": 0
      },
      "text/plain": [
       "HBox(children=(IntProgress(value=0, max=6), HTML(value='')))"
      ]
     },
     "metadata": {},
     "output_type": "display_data"
    },
    {
     "name": "stdout",
     "output_type": "stream",
     "text": [
      "\n",
      "0.4989015378470142  adversary's accuracy\n",
      "\n",
      "Test set: Average loss: 7.39e-04, Accuracy: 1242/1669 (74%)\n",
      "\n"
     ]
    },
    {
     "data": {
      "application/vnd.jupyter.widget-view+json": {
       "model_id": "609f15e0ab1e44639894070d011e3312",
       "version_major": 2,
       "version_minor": 0
      },
      "text/plain": [
       "HBox(children=(IntProgress(value=0, max=6), HTML(value='')))"
      ]
     },
     "metadata": {},
     "output_type": "display_data"
    },
    {
     "name": "stdout",
     "output_type": "stream",
     "text": [
      "\n",
      "0.49950069902137006  adversary's accuracy\n",
      "\n",
      "Test set: Average loss: 7.36e-04, Accuracy: 1242/1669 (74%)\n",
      "\n"
     ]
    },
    {
     "data": {
      "application/vnd.jupyter.widget-view+json": {
       "model_id": "5017fbab50fc473f8774205f04e16f25",
       "version_major": 2,
       "version_minor": 0
      },
      "text/plain": [
       "HBox(children=(IntProgress(value=0, max=6), HTML(value='')))"
      ]
     },
     "metadata": {},
     "output_type": "display_data"
    },
    {
     "name": "stdout",
     "output_type": "stream",
     "text": [
      "\n",
      "0.5006990213700819  adversary's accuracy\n",
      "\n",
      "Test set: Average loss: 7.34e-04, Accuracy: 1245/1669 (75%)\n",
      "\n"
     ]
    },
    {
     "data": {
      "application/vnd.jupyter.widget-view+json": {
       "model_id": "49872b069c6a44b5ac27661df7147c50",
       "version_major": 2,
       "version_minor": 0
      },
      "text/plain": [
       "HBox(children=(IntProgress(value=0, max=6), HTML(value='')))"
      ]
     },
     "metadata": {},
     "output_type": "display_data"
    },
    {
     "name": "stdout",
     "output_type": "stream",
     "text": [
      "\n",
      "0.5010984621529858  adversary's accuracy\n",
      "\n",
      "Test set: Average loss: 7.32e-04, Accuracy: 1245/1669 (75%)\n",
      "\n"
     ]
    },
    {
     "data": {
      "application/vnd.jupyter.widget-view+json": {
       "model_id": "86805266e1094c8298f1c669fdba2374",
       "version_major": 2,
       "version_minor": 0
      },
      "text/plain": [
       "HBox(children=(IntProgress(value=0, max=6), HTML(value='')))"
      ]
     },
     "metadata": {},
     "output_type": "display_data"
    },
    {
     "name": "stdout",
     "output_type": "stream",
     "text": [
      "\n",
      "0.5010984621529858  adversary's accuracy\n",
      "\n",
      "Test set: Average loss: 7.29e-04, Accuracy: 1242/1669 (74%)\n",
      "\n"
     ]
    },
    {
     "data": {
      "application/vnd.jupyter.widget-view+json": {
       "model_id": "d53d0afd95cf42e69e079d0fb243f3e2",
       "version_major": 2,
       "version_minor": 0
      },
      "text/plain": [
       "HBox(children=(IntProgress(value=0, max=6), HTML(value='')))"
      ]
     },
     "metadata": {},
     "output_type": "display_data"
    },
    {
     "name": "stdout",
     "output_type": "stream",
     "text": [
      "\n",
      "0.5012981825444378  adversary's accuracy\n",
      "\n",
      "Test set: Average loss: 7.27e-04, Accuracy: 1246/1669 (75%)\n",
      "\n"
     ]
    },
    {
     "data": {
      "application/vnd.jupyter.widget-view+json": {
       "model_id": "769506144e284030a44d1fbe590872c2",
       "version_major": 2,
       "version_minor": 0
      },
      "text/plain": [
       "HBox(children=(IntProgress(value=0, max=6), HTML(value='')))"
      ]
     },
     "metadata": {},
     "output_type": "display_data"
    },
    {
     "name": "stdout",
     "output_type": "stream",
     "text": [
      "\n",
      "0.5010984621529858  adversary's accuracy\n",
      "\n",
      "Test set: Average loss: 7.25e-04, Accuracy: 1248/1669 (75%)\n",
      "\n"
     ]
    },
    {
     "data": {
      "application/vnd.jupyter.widget-view+json": {
       "model_id": "10ef2d9002a243ec91f0270fa48c1285",
       "version_major": 2,
       "version_minor": 0
      },
      "text/plain": [
       "HBox(children=(IntProgress(value=0, max=6), HTML(value='')))"
      ]
     },
     "metadata": {},
     "output_type": "display_data"
    },
    {
     "name": "stdout",
     "output_type": "stream",
     "text": [
      "\n",
      "0.5010984621529858  adversary's accuracy\n",
      "\n",
      "Test set: Average loss: 7.23e-04, Accuracy: 1245/1669 (75%)\n",
      "\n"
     ]
    },
    {
     "data": {
      "application/vnd.jupyter.widget-view+json": {
       "model_id": "d270878fdfc54b87a3d9a212fb5866d6",
       "version_major": 2,
       "version_minor": 0
      },
      "text/plain": [
       "HBox(children=(IntProgress(value=0, max=6), HTML(value='')))"
      ]
     },
     "metadata": {},
     "output_type": "display_data"
    },
    {
     "name": "stdout",
     "output_type": "stream",
     "text": [
      "\n",
      "0.5020970641102457  adversary's accuracy\n",
      "\n",
      "Test set: Average loss: 7.21e-04, Accuracy: 1247/1669 (75%)\n",
      "\n"
     ]
    },
    {
     "data": {
      "application/vnd.jupyter.widget-view+json": {
       "model_id": "7c916674df644241be159aba866ebdbd",
       "version_major": 2,
       "version_minor": 0
      },
      "text/plain": [
       "HBox(children=(IntProgress(value=0, max=6), HTML(value='')))"
      ]
     },
     "metadata": {},
     "output_type": "display_data"
    },
    {
     "name": "stdout",
     "output_type": "stream",
     "text": [
      "\n",
      "0.5032953864589574  adversary's accuracy\n",
      "\n",
      "Test set: Average loss: 7.18e-04, Accuracy: 1249/1669 (75%)\n",
      "\n"
     ]
    },
    {
     "data": {
      "application/vnd.jupyter.widget-view+json": {
       "model_id": "405f3a7234c641558ef49157ac5f5c8d",
       "version_major": 2,
       "version_minor": 0
      },
      "text/plain": [
       "HBox(children=(IntProgress(value=0, max=6), HTML(value='')))"
      ]
     },
     "metadata": {},
     "output_type": "display_data"
    },
    {
     "name": "stdout",
     "output_type": "stream",
     "text": [
      "\n",
      "0.5028959456760536  adversary's accuracy\n",
      "\n",
      "Test set: Average loss: 7.16e-04, Accuracy: 1248/1669 (75%)\n",
      "\n"
     ]
    },
    {
     "data": {
      "application/vnd.jupyter.widget-view+json": {
       "model_id": "88d4c1e99fba4f679f083da0d3ce0547",
       "version_major": 2,
       "version_minor": 0
      },
      "text/plain": [
       "HBox(children=(IntProgress(value=0, max=6), HTML(value='')))"
      ]
     },
     "metadata": {},
     "output_type": "display_data"
    },
    {
     "name": "stdout",
     "output_type": "stream",
     "text": [
      "\n",
      "0.5032953864589574  adversary's accuracy\n",
      "\n",
      "Test set: Average loss: 7.14e-04, Accuracy: 1249/1669 (75%)\n",
      "\n"
     ]
    },
    {
     "data": {
      "application/vnd.jupyter.widget-view+json": {
       "model_id": "b29f50a98277410d859708670b50e93d",
       "version_major": 2,
       "version_minor": 0
      },
      "text/plain": [
       "HBox(children=(IntProgress(value=0, max=6), HTML(value='')))"
      ]
     },
     "metadata": {},
     "output_type": "display_data"
    },
    {
     "name": "stdout",
     "output_type": "stream",
     "text": [
      "\n",
      "0.5034951068504094  adversary's accuracy\n",
      "\n",
      "Test set: Average loss: 7.13e-04, Accuracy: 1248/1669 (75%)\n",
      "\n"
     ]
    },
    {
     "data": {
      "application/vnd.jupyter.widget-view+json": {
       "model_id": "6760386572e7413cbeb227ca47c6bf9d",
       "version_major": 2,
       "version_minor": 0
      },
      "text/plain": [
       "HBox(children=(IntProgress(value=0, max=6), HTML(value='')))"
      ]
     },
     "metadata": {},
     "output_type": "display_data"
    },
    {
     "name": "stdout",
     "output_type": "stream",
     "text": [
      "\n",
      "0.5028959456760536  adversary's accuracy\n",
      "\n",
      "Test set: Average loss: 7.11e-04, Accuracy: 1249/1669 (75%)\n",
      "\n"
     ]
    },
    {
     "data": {
      "application/vnd.jupyter.widget-view+json": {
       "model_id": "80c76a6db35844e08d3c6456ec1bc60b",
       "version_major": 2,
       "version_minor": 0
      },
      "text/plain": [
       "HBox(children=(IntProgress(value=0, max=6), HTML(value='')))"
      ]
     },
     "metadata": {},
     "output_type": "display_data"
    },
    {
     "name": "stdout",
     "output_type": "stream",
     "text": [
      "\n",
      "0.5030956660675054  adversary's accuracy\n",
      "\n",
      "Test set: Average loss: 7.09e-04, Accuracy: 1250/1669 (75%)\n",
      "\n"
     ]
    },
    {
     "data": {
      "application/vnd.jupyter.widget-view+json": {
       "model_id": "27b58c4458a140b59580e8a9215bc32e",
       "version_major": 2,
       "version_minor": 0
      },
      "text/plain": [
       "HBox(children=(IntProgress(value=0, max=6), HTML(value='')))"
      ]
     },
     "metadata": {},
     "output_type": "display_data"
    },
    {
     "name": "stdout",
     "output_type": "stream",
     "text": [
      "\n",
      "0.5036948272418614  adversary's accuracy\n",
      "\n",
      "Test set: Average loss: 7.07e-04, Accuracy: 1250/1669 (75%)\n",
      "\n"
     ]
    },
    {
     "data": {
      "application/vnd.jupyter.widget-view+json": {
       "model_id": "d3775d5941f749a8a7a752fdd564f8ca",
       "version_major": 2,
       "version_minor": 0
      },
      "text/plain": [
       "HBox(children=(IntProgress(value=0, max=6), HTML(value='')))"
      ]
     },
     "metadata": {},
     "output_type": "display_data"
    },
    {
     "name": "stdout",
     "output_type": "stream",
     "text": [
      "\n",
      "0.5034951068504094  adversary's accuracy\n",
      "\n",
      "Test set: Average loss: 7.05e-04, Accuracy: 1252/1669 (75%)\n",
      "\n"
     ]
    },
    {
     "data": {
      "application/vnd.jupyter.widget-view+json": {
       "model_id": "b14403d1bac34a08830c19c33d1481c8",
       "version_major": 2,
       "version_minor": 0
      },
      "text/plain": [
       "HBox(children=(IntProgress(value=0, max=6), HTML(value='')))"
      ]
     },
     "metadata": {},
     "output_type": "display_data"
    },
    {
     "name": "stdout",
     "output_type": "stream",
     "text": [
      "\n",
      "0.5036948272418614  adversary's accuracy\n",
      "\n",
      "Test set: Average loss: 7.03e-04, Accuracy: 1254/1669 (75%)\n",
      "\n"
     ]
    },
    {
     "data": {
      "application/vnd.jupyter.widget-view+json": {
       "model_id": "1455e337e5cf44058ab72ad12ea795a9",
       "version_major": 2,
       "version_minor": 0
      },
      "text/plain": [
       "HBox(children=(IntProgress(value=0, max=6), HTML(value='')))"
      ]
     },
     "metadata": {},
     "output_type": "display_data"
    },
    {
     "name": "stdout",
     "output_type": "stream",
     "text": [
      "\n",
      "0.5034951068504094  adversary's accuracy\n",
      "\n",
      "Test set: Average loss: 7.01e-04, Accuracy: 1249/1669 (75%)\n",
      "\n"
     ]
    },
    {
     "data": {
      "application/vnd.jupyter.widget-view+json": {
       "model_id": "346e4eb1818448b282245e86d515a25a",
       "version_major": 2,
       "version_minor": 0
      },
      "text/plain": [
       "HBox(children=(IntProgress(value=0, max=6), HTML(value='')))"
      ]
     },
     "metadata": {},
     "output_type": "display_data"
    },
    {
     "name": "stdout",
     "output_type": "stream",
     "text": [
      "\n",
      "0.5030956660675054  adversary's accuracy\n",
      "\n",
      "Test set: Average loss: 6.99e-04, Accuracy: 1250/1669 (75%)\n",
      "\n"
     ]
    },
    {
     "data": {
      "application/vnd.jupyter.widget-view+json": {
       "model_id": "2287a6a3da304790ab8142e93a77443e",
       "version_major": 2,
       "version_minor": 0
      },
      "text/plain": [
       "HBox(children=(IntProgress(value=0, max=6), HTML(value='')))"
      ]
     },
     "metadata": {},
     "output_type": "display_data"
    },
    {
     "name": "stdout",
     "output_type": "stream",
     "text": [
      "\n",
      "0.5032953864589574  adversary's accuracy\n",
      "\n",
      "Test set: Average loss: 6.97e-04, Accuracy: 1254/1669 (75%)\n",
      "\n"
     ]
    },
    {
     "data": {
      "application/vnd.jupyter.widget-view+json": {
       "model_id": "d51efc4c4e874a018a1443353f730ab3",
       "version_major": 2,
       "version_minor": 0
      },
      "text/plain": [
       "HBox(children=(IntProgress(value=0, max=6), HTML(value='')))"
      ]
     },
     "metadata": {},
     "output_type": "display_data"
    },
    {
     "name": "stdout",
     "output_type": "stream",
     "text": [
      "\n",
      "0.5028959456760536  adversary's accuracy\n",
      "\n",
      "Test set: Average loss: 6.96e-04, Accuracy: 1247/1669 (75%)\n",
      "\n"
     ]
    },
    {
     "data": {
      "application/vnd.jupyter.widget-view+json": {
       "model_id": "1706ad1057a24763b1abab23434e0bc3",
       "version_major": 2,
       "version_minor": 0
      },
      "text/plain": [
       "HBox(children=(IntProgress(value=0, max=6), HTML(value='')))"
      ]
     },
     "metadata": {},
     "output_type": "display_data"
    },
    {
     "name": "stdout",
     "output_type": "stream",
     "text": [
      "\n",
      "0.5034951068504094  adversary's accuracy\n",
      "\n",
      "Test set: Average loss: 6.94e-04, Accuracy: 1248/1669 (75%)\n",
      "\n"
     ]
    },
    {
     "data": {
      "application/vnd.jupyter.widget-view+json": {
       "model_id": "5b322df736074b579aa84b85aa79eb0f",
       "version_major": 2,
       "version_minor": 0
      },
      "text/plain": [
       "HBox(children=(IntProgress(value=0, max=6), HTML(value='')))"
      ]
     },
     "metadata": {},
     "output_type": "display_data"
    },
    {
     "name": "stdout",
     "output_type": "stream",
     "text": [
      "\n",
      "0.5034951068504094  adversary's accuracy\n",
      "\n",
      "Test set: Average loss: 6.93e-04, Accuracy: 1250/1669 (75%)\n",
      "\n"
     ]
    }
   ],
   "source": [
    "device = torch.device(\"cpu\")\n",
    "\n",
    "# Data Loading\n",
    "label_column = \"income\"\n",
    "protect_column = \"gender\"\n",
    "train_df_balanced, test_df_balanced = split_train_test(downsample_adult_income(downsample_adult(adult_df_without_proxies)))\n",
    "# train_df_balanced = upsample_adult(train_df)\n",
    "# test_df_balanced = upsample_adult(test_df)\n",
    "train_features, train_labels, train_protect = process_data(train_df_balanced, label_column, protect_column)\n",
    "test_features, test_labels, test_protect = process_data(test_df_balanced, label_column, protect_column)\n",
    "train_dataset = Dataset(train_df_balanced, label_column, protect_column)\n",
    "test_dataset = Dataset(test_df_balanced, label_column, protect_column)\n",
    "batch_size = 1000\n",
    "train_loader = torch.utils.data.DataLoader(dataset=train_dataset, batch_size=batch_size, shuffle=True)\n",
    "test_loader = torch.utils.data.DataLoader(dataset=test_dataset, batch_size=batch_size, shuffle=False)\n",
    "\n",
    "\n",
    "# Parameters\n",
    "num_predictor_features = train_dataset[0][0].shape[0]\n",
    "num_adversary_features = 3\n",
    "num_epochs = 50\n",
    "lr_rate = 0.001\n",
    "alpha = 0.5\n",
    "\n",
    "# Model and Optimizer\n",
    "torch.manual_seed(1)\n",
    "predictor = Predictor(num_predictor_features).to(device)\n",
    "adversary = Adversary(num_adversary_features).to(device)\n",
    "optimizer_P = optim.Adam(predictor.parameters(), lr=lr_rate)\n",
    "optimizer_A = optim.Adam(adversary.parameters(), lr=lr_rate)\n",
    "\n",
    "train_predictor_accuracies, train_adversary_accuracies = [], []\n",
    "test_predictor_accuracies, test_adversary_accuracies = [], []\n",
    "for epoch in range(1, num_epochs + 1):\n",
    "    _, predictor_accuracy, adversary_accuracy = train(predictor, adversary, optimizer_P, optimizer_A, device, train_loader, epoch,alpha=alpha)\n",
    "    train_predictor_accuracies.append(predictor_accuracy)\n",
    "    train_adversary_accuracies.append(adversary_accuracy)\n",
    "    test_pred_labels, test_pred_protect, loss, test_pred_accuracy, test_adv_accuracy = test(predictor, device, test_loader)\n",
    "    test_predictor_accuracies.append(test_pred_accuracy)\n",
    "    test_adversary_accuracies.append(test_adv_accuracy)\n",
    "    \n",
    "    "
   ]
  },
  {
   "cell_type": "code",
   "execution_count": 9,
   "metadata": {},
   "outputs": [
    {
     "data": {
      "image/png": "[encoded data removed]",
      "text/plain": [
       "<Figure size 1080x576 with 1 Axes>"
      ]
     },
     "metadata": {
      "needs_background": "light"
     },
     "output_type": "display_data"
    }
   ],
   "source": [
    "epochs = range(1, num_epochs + 1)\n",
    "plt.figure(figsize=(15,8))\n",
    "plt.plot(epochs, train_predictor_accuracies, label=\"train_predictor\")\n",
    "plt.plot(epochs, train_adversary_accuracies, label=\"train_adversary\")\n",
    "plt.plot(epochs, test_predictor_accuracies, label=\"test_predictor\")\n",
    "plt.plot(epochs, test_adversary_accuracies, label=\"test_adversary\")\n",
    "plt.legend()\n",
    "plt.show()"
   ]
  },
  {
   "cell_type": "code",
   "execution_count": 10,
   "metadata": {},
   "outputs": [],
   "source": [
    "def binary_confusion_matrix(true_labels, pred_labels, protect, protect_group):\n",
    "    indices = np.where(protect == protect_group)\n",
    "    group_pred_labels = pred_labels[indices]\n",
    "    group_true_labels = true_labels[indices]\n",
    "\n",
    "    return confusion_matrix(group_true_labels, group_pred_labels)\n",
    "\n",
    "def false_positive_rate(group_confusion_matrix):\n",
    "    return group_confusion_matrix[0][1]/np.sum(group_confusion_matrix[:,1])\n",
    "\n",
    "def true_positive_rate(group_confusion_matrix):\n",
    "    return group_confusion_matrix[1][1]/np.sum(group_confusion_matrix[1,:])\n",
    "\n",
    "def false_negative_rate(group_confusion_matrix):\n",
    "    return group_confusion_matrix[1][0]/np.sum(group_confusion_matrix[:,0])\n",
    "\n",
    "def true_negative_rate(group_confusion_matrix):\n",
    "    return group_confusion_matrix[0][0]/np.sum(group_confusion_matrix[0,:])\n",
    "\n",
    "def false_positive_rate_difference(confusion_matrix_1, confusion_matrix_2):\n",
    "    return false_positive_rate(confusion_matrix_1) - false_positive_rate(confusion_matrix_2) \n",
    "\n",
    "def true_positive_rate_difference(confusion_matrix_1, confusion_matrix_2):\n",
    "    return true_positive_rate(confusion_matrix_1) - true_positive_rate(confusion_matrix_2) \n",
    "\n",
    "def false_negative_rate_difference():\n",
    "    return false_negative_rate(confusion_matrix_1) - false_negative_rate(confusion_matrix_2)\n",
    "\n",
    "def average_odds_difference(confusion_matrix_1, confusion_matrix_2):\n",
    "    fpr_difference = false_positive_rate_difference(confusion_matrix_1, confusion_matrix_2)\n",
    "    tpr_difference = true_positive_rate_difference(confusion_matrix_1, confusion_matrix_2)\n",
    "    return 0.5*(fpr_difference + tpr_difference)\n",
    "\n",
    "def statistical_parity_difference(confusion_matrix_1, confusion_matrix_2):\n",
    "    frac_prediced_positive_1 = np.sum(confusion_matrix_1[:,1])/np.sum(confusion_matrix_1)\n",
    "    frac_prediced_positive_2 = np.sum(confusion_matrix_2[:,1])/np.sum(confusion_matrix_2)\n",
    "    return frac_prediced_positive_1 - frac_prediced_positive_2"
   ]
  },
  {
   "cell_type": "code",
   "execution_count": 11,
   "metadata": {},
   "outputs": [
    {
     "name": "stdout",
     "output_type": "stream",
     "text": [
      "[[339  86]\n",
      " [111 317]]  Females\n",
      "[[298 113]\n",
      " [109 296]]  Males\n",
      "0.24666666666666667 0.2678132678132678  FNR females, males\n",
      "0.21339950372208435 0.2762836185819071  FPR females, males\n",
      "-0.02877531434613706  statistical_parity_difference\n",
      "-0.026547053391605138  average_odds_difference\n"
     ]
    }
   ],
   "source": [
    "###### Fairness Metrics\n",
    "\n",
    "female_confusion_matrix = binary_confusion_matrix(test_labels, test_pred_labels, test_protect, 0)\n",
    "male_confusion_matrix = binary_confusion_matrix(test_labels, test_pred_labels, test_protect, 1)\n",
    "\n",
    "\n",
    "female_fpr = false_positive_rate(female_confusion_matrix)\n",
    "male_fpr = false_positive_rate(male_confusion_matrix)\n",
    "\n",
    "\n",
    "female_fnr = false_negative_rate(female_confusion_matrix)\n",
    "male_fnr = false_negative_rate(male_confusion_matrix)\n",
    "\n",
    "\n",
    "print(female_confusion_matrix, \" Females\")\n",
    "print(male_confusion_matrix, \" Males\")\n",
    "\n",
    "print(female_fnr, male_fnr, \" FNR females, males\")\n",
    "print(female_fpr, male_fpr, \" FPR females, males\")\n",
    "print(statistical_parity_difference(female_confusion_matrix, male_confusion_matrix), \" statistical_parity_difference\")\n",
    "print(average_odds_difference(female_confusion_matrix, male_confusion_matrix), \" average_odds_difference\")\n"
   ]
  },
  {
   "cell_type": "code",
   "execution_count": 12,
   "metadata": {},
   "outputs": [
    {
     "data": {
      "text/plain": [
       "tensor([0, 1])"
      ]
     },
     "execution_count": 12,
     "metadata": {},
     "output_type": "execute_result"
    }
   ],
   "source": [
    "test_pred_protect.unique()"
   ]
  },
  {
   "cell_type": "code",
   "execution_count": 13,
   "metadata": {},
   "outputs": [],
   "source": [
    "# from sklearn.metrics import accuracy_score\n",
    "# accuracy_score(test_labels, test_pred_labels) "
   ]
  }
 ],
 "metadata": {
  "kernelspec": {
   "display_name": "Python 3",
   "language": "python",
   "name": "python3"
  },
  "language_info": {
   "codemirror_mode": {
    "name": "ipython",
    "version": 3
   },
   "file_extension": ".py",
   "mimetype": "text/x-python",
   "name": "python",
   "nbconvert_exporter": "python",
   "pygments_lexer": "ipython3",
   "version": "3.7.4"
  }
 },
 "nbformat": 4,
 "nbformat_minor": 2
}
