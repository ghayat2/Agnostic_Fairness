{
 "cells": [
  {
   "cell_type": "code",
   "execution_count": 1,
   "metadata": {},
   "outputs": [
    {
     "name": "stderr",
     "output_type": "stream",
     "text": [
      "/anaconda3/lib/python3.7/site-packages/nbformat/current.py:19: UserWarning: nbformat.current is deprecated.\n",
      "\n",
      "- use nbformat for read/write/validate public API\n",
      "- use nbformat.vX directly to composing notebooks of a particular version\n",
      "\n",
      "  \"\"\")\n"
     ]
    },
    {
     "name": "stdout",
     "output_type": "stream",
     "text": [
      "importing Jupyter notebook from load_dataset.ipynb\n",
      "importing Jupyter notebook from adversarial_debiasing_model.ipynb\n",
      "importing Jupyter notebook from fairness_metrics.ipynb\n"
     ]
    }
   ],
   "source": [
    "import io, os, sys, types\n",
    "from IPython import get_ipython\n",
    "from nbformat import current\n",
    "from IPython.core.interactiveshell import InteractiveShell\n",
    "\n",
    "def find_notebook(fullname, path=None):\n",
    "    \"\"\"find a notebook, given its fully qualified name and an optional path\n",
    "\n",
    "    This turns \"foo.bar\" into \"foo/bar.ipynb\"\n",
    "    and tries turning \"Foo_Bar\" into \"Foo Bar\" if Foo_Bar\n",
    "    does not exist.\n",
    "    \"\"\"\n",
    "    name = fullname.rsplit('.', 1)[-1]\n",
    "    if not path:\n",
    "        path = ['']\n",
    "    for d in path:\n",
    "        nb_path = os.path.join(d, name + \".ipynb\")\n",
    "        if os.path.isfile(nb_path):\n",
    "            return nb_path\n",
    "        # let import Notebook_Name find \"Notebook Name.ipynb\"\n",
    "        nb_path = nb_path.replace(\"_\", \" \")\n",
    "        if os.path.isfile(nb_path):\n",
    "            return nb_path\n",
    "\n",
    "\n",
    "class NotebookLoader(object):\n",
    "    \"\"\"Module Loader for Jupyter Notebooks\"\"\"\n",
    "    def __init__(self, path=None):\n",
    "        self.shell = InteractiveShell.instance()\n",
    "        self.path = path\n",
    "\n",
    "    def load_module(self, fullname):\n",
    "        \"\"\"import a notebook as a module\"\"\"\n",
    "        path = find_notebook(fullname, self.path)\n",
    "\n",
    "        print (\"importing Jupyter notebook from %s\" % path)\n",
    "\n",
    "        # load the notebook object\n",
    "        with io.open(path, 'r', encoding='utf-8') as f:\n",
    "            nb = current.read(f, 'json')\n",
    "\n",
    "\n",
    "        # create the module and add it to sys.modules\n",
    "        # if name in sys.modules:\n",
    "        #    return sys.modules[name]\n",
    "        mod = types.ModuleType(fullname)\n",
    "        mod.__file__ = path\n",
    "        mod.__loader__ = self\n",
    "        mod.__dict__['get_ipython'] = get_ipython\n",
    "        sys.modules[fullname] = mod\n",
    "\n",
    "        # extra work to ensure that magics that would affect the user_ns\n",
    "        # actually affect the notebook module's ns\n",
    "        save_user_ns = self.shell.user_ns\n",
    "        self.shell.user_ns = mod.__dict__\n",
    "\n",
    "        try:\n",
    "            for cell in nb.worksheets[0].cells:\n",
    "                if cell.cell_type == 'code' and cell.language == 'python':\n",
    "                    # transform the input to executable Python\n",
    "                    code = self.shell.input_transformer_manager.transform_cell(cell.input)\n",
    "                    # run the code in themodule\n",
    "                    exec(code, mod.__dict__)\n",
    "        finally:\n",
    "            self.shell.user_ns = save_user_ns\n",
    "        return mod\n",
    "\n",
    "\n",
    "class NotebookFinder(object):\n",
    "    \"\"\"Module finder that locates Jupyter Notebooks\"\"\"\n",
    "    def __init__(self):\n",
    "        self.loaders = {}\n",
    "\n",
    "    def find_module(self, fullname, path=None):\n",
    "        nb_path = find_notebook(fullname, path)\n",
    "        if not nb_path:\n",
    "            return\n",
    "\n",
    "        key = path\n",
    "        if path:\n",
    "            # lists aren't hashable\n",
    "            key = os.path.sep.join(path)\n",
    "\n",
    "        if key not in self.loaders:\n",
    "            self.loaders[key] = NotebookLoader(path)\n",
    "        return self.loaders[key]\n",
    "\n",
    "sys.meta_path.append(NotebookFinder())\n",
    "\n",
    "from load_dataset import *\n",
    "from adversarial_debiasing_model import *\n",
    "from fairness_metrics import *"
   ]
  },
  {
   "cell_type": "code",
   "execution_count": 2,
   "metadata": {},
   "outputs": [
    {
     "name": "stdout",
     "output_type": "stream",
     "text": [
      "loaded\n",
      "scaled\n",
      "[[1477 1736]\n",
      " [1078 2135]]  balanced is_recid race_African-American\n",
      "balanced\n"
     ]
    }
   ],
   "source": [
    "# Data Loading\n",
    "filepath = \"../data/Compas Dataset/processed_compas.csv\"\n",
    "label, protect = \"is_recid\", \"race_African-American\"\n",
    "\n",
    "balanced = {\"label_only\":True,\"downsample\":True}\n",
    "num_proxy_to_remove = 0\n",
    "train_dataset, test_dataset = train_test_dataset(filepath, label, protect, \n",
    "                                                 is_scaled=True,\n",
    "                                                 num_proxy_to_remove=num_proxy_to_remove,\n",
    "                                                 balanced=balanced\n",
    "                                                )"
   ]
  },
  {
   "cell_type": "code",
   "execution_count": 3,
   "metadata": {},
   "outputs": [
    {
     "data": {
      "application/vnd.jupyter.widget-view+json": {
       "model_id": "737853f17dcb48bb97e0fa7068fec98b",
       "version_major": 2,
       "version_minor": 0
      },
      "text/plain": [
       "HBox(children=(IntProgress(value=0, max=5), HTML(value='')))"
      ]
     },
     "metadata": {},
     "output_type": "display_data"
    },
    {
     "name": "stderr",
     "output_type": "stream",
     "text": [
      "/anaconda3/lib/python3.7/site-packages/torch/nn/functional.py:1351: UserWarning: nn.functional.sigmoid is deprecated. Use torch.sigmoid instead.\n",
      "  warnings.warn(\"nn.functional.sigmoid is deprecated. Use torch.sigmoid instead.\")\n"
     ]
    },
    {
     "name": "stdout",
     "output_type": "stream",
     "text": [
      "\n",
      "\n",
      "Test set: Average loss: 8.66e-01, Predictor Accuracy: (47%), Adversary Accuracy: (62%)\n",
      "\n"
     ]
    },
    {
     "data": {
      "application/vnd.jupyter.widget-view+json": {
       "model_id": "5a22285257164d60b17e2cd1dac125fc",
       "version_major": 2,
       "version_minor": 0
      },
      "text/plain": [
       "HBox(children=(IntProgress(value=0, max=5), HTML(value='')))"
      ]
     },
     "metadata": {},
     "output_type": "display_data"
    },
    {
     "name": "stdout",
     "output_type": "stream",
     "text": [
      "\n",
      "\n",
      "Test set: Average loss: 8.65e-01, Predictor Accuracy: (47%), Adversary Accuracy: (62%)\n",
      "\n"
     ]
    },
    {
     "data": {
      "application/vnd.jupyter.widget-view+json": {
       "model_id": "b7b8b3f8682c45e58f4415747733cbf3",
       "version_major": 2,
       "version_minor": 0
      },
      "text/plain": [
       "HBox(children=(IntProgress(value=0, max=5), HTML(value='')))"
      ]
     },
     "metadata": {},
     "output_type": "display_data"
    },
    {
     "name": "stdout",
     "output_type": "stream",
     "text": [
      "\n",
      "\n",
      "Test set: Average loss: 8.64e-01, Predictor Accuracy: (48%), Adversary Accuracy: (62%)\n",
      "\n"
     ]
    },
    {
     "data": {
      "application/vnd.jupyter.widget-view+json": {
       "model_id": "3b75c673a0da459989d5c0b46eaaf5ed",
       "version_major": 2,
       "version_minor": 0
      },
      "text/plain": [
       "HBox(children=(IntProgress(value=0, max=5), HTML(value='')))"
      ]
     },
     "metadata": {},
     "output_type": "display_data"
    },
    {
     "name": "stdout",
     "output_type": "stream",
     "text": [
      "\n",
      "\n",
      "Test set: Average loss: 8.63e-01, Predictor Accuracy: (50%), Adversary Accuracy: (62%)\n",
      "\n"
     ]
    },
    {
     "data": {
      "application/vnd.jupyter.widget-view+json": {
       "model_id": "9af1b93726274e5d8af8c554592c1200",
       "version_major": 2,
       "version_minor": 0
      },
      "text/plain": [
       "HBox(children=(IntProgress(value=0, max=5), HTML(value='')))"
      ]
     },
     "metadata": {},
     "output_type": "display_data"
    },
    {
     "name": "stdout",
     "output_type": "stream",
     "text": [
      "\n",
      "\n",
      "Test set: Average loss: 8.62e-01, Predictor Accuracy: (50%), Adversary Accuracy: (62%)\n",
      "\n"
     ]
    },
    {
     "data": {
      "application/vnd.jupyter.widget-view+json": {
       "model_id": "66c5f502ccc4462fa4abd47ccfba2d08",
       "version_major": 2,
       "version_minor": 0
      },
      "text/plain": [
       "HBox(children=(IntProgress(value=0, max=5), HTML(value='')))"
      ]
     },
     "metadata": {},
     "output_type": "display_data"
    },
    {
     "name": "stdout",
     "output_type": "stream",
     "text": [
      "\n",
      "\n",
      "Test set: Average loss: 8.60e-01, Predictor Accuracy: (52%), Adversary Accuracy: (62%)\n",
      "\n"
     ]
    },
    {
     "data": {
      "application/vnd.jupyter.widget-view+json": {
       "model_id": "a403150aaea945cab1cbdbc05539363d",
       "version_major": 2,
       "version_minor": 0
      },
      "text/plain": [
       "HBox(children=(IntProgress(value=0, max=5), HTML(value='')))"
      ]
     },
     "metadata": {},
     "output_type": "display_data"
    },
    {
     "name": "stdout",
     "output_type": "stream",
     "text": [
      "\n",
      "\n",
      "Test set: Average loss: 8.59e-01, Predictor Accuracy: (52%), Adversary Accuracy: (62%)\n",
      "\n"
     ]
    },
    {
     "data": {
      "application/vnd.jupyter.widget-view+json": {
       "model_id": "4081ef52bac94af7b39e2c230099388f",
       "version_major": 2,
       "version_minor": 0
      },
      "text/plain": [
       "HBox(children=(IntProgress(value=0, max=5), HTML(value='')))"
      ]
     },
     "metadata": {},
     "output_type": "display_data"
    },
    {
     "name": "stdout",
     "output_type": "stream",
     "text": [
      "\n",
      "\n",
      "Test set: Average loss: 8.58e-01, Predictor Accuracy: (54%), Adversary Accuracy: (62%)\n",
      "\n"
     ]
    },
    {
     "data": {
      "application/vnd.jupyter.widget-view+json": {
       "model_id": "f38b6119f46b47ce9542b23a0f2686c1",
       "version_major": 2,
       "version_minor": 0
      },
      "text/plain": [
       "HBox(children=(IntProgress(value=0, max=5), HTML(value='')))"
      ]
     },
     "metadata": {},
     "output_type": "display_data"
    },
    {
     "name": "stdout",
     "output_type": "stream",
     "text": [
      "\n",
      "\n",
      "Test set: Average loss: 8.57e-01, Predictor Accuracy: (55%), Adversary Accuracy: (62%)\n",
      "\n"
     ]
    },
    {
     "data": {
      "application/vnd.jupyter.widget-view+json": {
       "model_id": "0e2fda3bfb8e476ba0ffde25249602a7",
       "version_major": 2,
       "version_minor": 0
      },
      "text/plain": [
       "HBox(children=(IntProgress(value=0, max=5), HTML(value='')))"
      ]
     },
     "metadata": {},
     "output_type": "display_data"
    },
    {
     "name": "stdout",
     "output_type": "stream",
     "text": [
      "\n",
      "\n",
      "Test set: Average loss: 8.56e-01, Predictor Accuracy: (55%), Adversary Accuracy: (62%)\n",
      "\n"
     ]
    },
    {
     "data": {
      "application/vnd.jupyter.widget-view+json": {
       "model_id": "2c04e9506849474d9480596cc54fe843",
       "version_major": 2,
       "version_minor": 0
      },
      "text/plain": [
       "HBox(children=(IntProgress(value=0, max=5), HTML(value='')))"
      ]
     },
     "metadata": {},
     "output_type": "display_data"
    },
    {
     "name": "stdout",
     "output_type": "stream",
     "text": [
      "\n",
      "\n",
      "Test set: Average loss: 8.55e-01, Predictor Accuracy: (56%), Adversary Accuracy: (62%)\n",
      "\n"
     ]
    },
    {
     "data": {
      "application/vnd.jupyter.widget-view+json": {
       "model_id": "1c872639d34a4361a81a2ada9d13ed46",
       "version_major": 2,
       "version_minor": 0
      },
      "text/plain": [
       "HBox(children=(IntProgress(value=0, max=5), HTML(value='')))"
      ]
     },
     "metadata": {},
     "output_type": "display_data"
    },
    {
     "name": "stdout",
     "output_type": "stream",
     "text": [
      "\n",
      "\n",
      "Test set: Average loss: 8.54e-01, Predictor Accuracy: (57%), Adversary Accuracy: (62%)\n",
      "\n"
     ]
    },
    {
     "data": {
      "application/vnd.jupyter.widget-view+json": {
       "model_id": "9285f1445f794a03b53c9e897036f932",
       "version_major": 2,
       "version_minor": 0
      },
      "text/plain": [
       "HBox(children=(IntProgress(value=0, max=5), HTML(value='')))"
      ]
     },
     "metadata": {},
     "output_type": "display_data"
    },
    {
     "name": "stdout",
     "output_type": "stream",
     "text": [
      "\n",
      "\n",
      "Test set: Average loss: 8.53e-01, Predictor Accuracy: (58%), Adversary Accuracy: (62%)\n",
      "\n"
     ]
    },
    {
     "data": {
      "application/vnd.jupyter.widget-view+json": {
       "model_id": "5d4e7d8b3fbb48618422aee44d277f90",
       "version_major": 2,
       "version_minor": 0
      },
      "text/plain": [
       "HBox(children=(IntProgress(value=0, max=5), HTML(value='')))"
      ]
     },
     "metadata": {},
     "output_type": "display_data"
    },
    {
     "name": "stdout",
     "output_type": "stream",
     "text": [
      "\n",
      "\n",
      "Test set: Average loss: 8.52e-01, Predictor Accuracy: (58%), Adversary Accuracy: (62%)\n",
      "\n"
     ]
    },
    {
     "data": {
      "application/vnd.jupyter.widget-view+json": {
       "model_id": "0b31961f611b4b0b8a31a63cc3bdd23f",
       "version_major": 2,
       "version_minor": 0
      },
      "text/plain": [
       "HBox(children=(IntProgress(value=0, max=5), HTML(value='')))"
      ]
     },
     "metadata": {},
     "output_type": "display_data"
    },
    {
     "name": "stdout",
     "output_type": "stream",
     "text": [
      "\n",
      "\n",
      "Test set: Average loss: 8.51e-01, Predictor Accuracy: (59%), Adversary Accuracy: (62%)\n",
      "\n"
     ]
    },
    {
     "data": {
      "application/vnd.jupyter.widget-view+json": {
       "model_id": "c466c48dc57f4db78c900ff02a60b17b",
       "version_major": 2,
       "version_minor": 0
      },
      "text/plain": [
       "HBox(children=(IntProgress(value=0, max=5), HTML(value='')))"
      ]
     },
     "metadata": {},
     "output_type": "display_data"
    },
    {
     "name": "stdout",
     "output_type": "stream",
     "text": [
      "\n",
      "\n",
      "Test set: Average loss: 8.50e-01, Predictor Accuracy: (59%), Adversary Accuracy: (62%)\n",
      "\n"
     ]
    },
    {
     "data": {
      "application/vnd.jupyter.widget-view+json": {
       "model_id": "d46b7fb29b284af1ae92429d1715f517",
       "version_major": 2,
       "version_minor": 0
      },
      "text/plain": [
       "HBox(children=(IntProgress(value=0, max=5), HTML(value='')))"
      ]
     },
     "metadata": {},
     "output_type": "display_data"
    },
    {
     "name": "stdout",
     "output_type": "stream",
     "text": [
      "\n",
      "\n",
      "Test set: Average loss: 8.49e-01, Predictor Accuracy: (60%), Adversary Accuracy: (62%)\n",
      "\n"
     ]
    },
    {
     "data": {
      "application/vnd.jupyter.widget-view+json": {
       "model_id": "d3e600b665fb4ac5a60f035e5028603a",
       "version_major": 2,
       "version_minor": 0
      },
      "text/plain": [
       "HBox(children=(IntProgress(value=0, max=5), HTML(value='')))"
      ]
     },
     "metadata": {},
     "output_type": "display_data"
    },
    {
     "name": "stdout",
     "output_type": "stream",
     "text": [
      "\n",
      "\n",
      "Test set: Average loss: 8.48e-01, Predictor Accuracy: (59%), Adversary Accuracy: (62%)\n",
      "\n"
     ]
    },
    {
     "data": {
      "application/vnd.jupyter.widget-view+json": {
       "model_id": "d3935277c1434ab8bf6c204347a128dc",
       "version_major": 2,
       "version_minor": 0
      },
      "text/plain": [
       "HBox(children=(IntProgress(value=0, max=5), HTML(value='')))"
      ]
     },
     "metadata": {},
     "output_type": "display_data"
    },
    {
     "name": "stdout",
     "output_type": "stream",
     "text": [
      "\n",
      "\n",
      "Test set: Average loss: 8.47e-01, Predictor Accuracy: (59%), Adversary Accuracy: (62%)\n",
      "\n"
     ]
    },
    {
     "data": {
      "application/vnd.jupyter.widget-view+json": {
       "model_id": "cbbb3fb1e7da49aa97b88474a297ce6a",
       "version_major": 2,
       "version_minor": 0
      },
      "text/plain": [
       "HBox(children=(IntProgress(value=0, max=5), HTML(value='')))"
      ]
     },
     "metadata": {},
     "output_type": "display_data"
    },
    {
     "name": "stdout",
     "output_type": "stream",
     "text": [
      "\n",
      "\n",
      "Test set: Average loss: 8.46e-01, Predictor Accuracy: (59%), Adversary Accuracy: (62%)\n",
      "\n"
     ]
    },
    {
     "data": {
      "application/vnd.jupyter.widget-view+json": {
       "model_id": "572fb0633cf14b9584ae2a8d14fade91",
       "version_major": 2,
       "version_minor": 0
      },
      "text/plain": [
       "HBox(children=(IntProgress(value=0, max=5), HTML(value='')))"
      ]
     },
     "metadata": {},
     "output_type": "display_data"
    },
    {
     "name": "stdout",
     "output_type": "stream",
     "text": [
      "\n",
      "\n",
      "Test set: Average loss: 8.45e-01, Predictor Accuracy: (59%), Adversary Accuracy: (62%)\n",
      "\n"
     ]
    },
    {
     "data": {
      "application/vnd.jupyter.widget-view+json": {
       "model_id": "a82343ab8539480fbb787b9985872dc3",
       "version_major": 2,
       "version_minor": 0
      },
      "text/plain": [
       "HBox(children=(IntProgress(value=0, max=5), HTML(value='')))"
      ]
     },
     "metadata": {},
     "output_type": "display_data"
    },
    {
     "name": "stdout",
     "output_type": "stream",
     "text": [
      "\n",
      "\n",
      "Test set: Average loss: 8.44e-01, Predictor Accuracy: (59%), Adversary Accuracy: (62%)\n",
      "\n"
     ]
    },
    {
     "data": {
      "application/vnd.jupyter.widget-view+json": {
       "model_id": "62d38979545241389b9512a5e49fe9b1",
       "version_major": 2,
       "version_minor": 0
      },
      "text/plain": [
       "HBox(children=(IntProgress(value=0, max=5), HTML(value='')))"
      ]
     },
     "metadata": {},
     "output_type": "display_data"
    },
    {
     "name": "stdout",
     "output_type": "stream",
     "text": [
      "\n",
      "\n",
      "Test set: Average loss: 8.43e-01, Predictor Accuracy: (59%), Adversary Accuracy: (62%)\n",
      "\n"
     ]
    },
    {
     "data": {
      "application/vnd.jupyter.widget-view+json": {
       "model_id": "8c2791f811574620990bbcdebfed1c39",
       "version_major": 2,
       "version_minor": 0
      },
      "text/plain": [
       "HBox(children=(IntProgress(value=0, max=5), HTML(value='')))"
      ]
     },
     "metadata": {},
     "output_type": "display_data"
    },
    {
     "name": "stdout",
     "output_type": "stream",
     "text": [
      "\n",
      "\n",
      "Test set: Average loss: 8.42e-01, Predictor Accuracy: (59%), Adversary Accuracy: (62%)\n",
      "\n"
     ]
    },
    {
     "data": {
      "application/vnd.jupyter.widget-view+json": {
       "model_id": "a2aa91fcc39b4247aa079c524b70bcec",
       "version_major": 2,
       "version_minor": 0
      },
      "text/plain": [
       "HBox(children=(IntProgress(value=0, max=5), HTML(value='')))"
      ]
     },
     "metadata": {},
     "output_type": "display_data"
    },
    {
     "name": "stdout",
     "output_type": "stream",
     "text": [
      "\n",
      "\n",
      "Test set: Average loss: 8.41e-01, Predictor Accuracy: (59%), Adversary Accuracy: (62%)\n",
      "\n"
     ]
    },
    {
     "data": {
      "application/vnd.jupyter.widget-view+json": {
       "model_id": "eccbe8f805ec430db5007e688612dac9",
       "version_major": 2,
       "version_minor": 0
      },
      "text/plain": [
       "HBox(children=(IntProgress(value=0, max=5), HTML(value='')))"
      ]
     },
     "metadata": {},
     "output_type": "display_data"
    },
    {
     "name": "stdout",
     "output_type": "stream",
     "text": [
      "\n",
      "\n",
      "Test set: Average loss: 8.40e-01, Predictor Accuracy: (60%), Adversary Accuracy: (62%)\n",
      "\n"
     ]
    },
    {
     "data": {
      "application/vnd.jupyter.widget-view+json": {
       "model_id": "b8e9621916484760bad4a40a4cc21681",
       "version_major": 2,
       "version_minor": 0
      },
      "text/plain": [
       "HBox(children=(IntProgress(value=0, max=5), HTML(value='')))"
      ]
     },
     "metadata": {},
     "output_type": "display_data"
    },
    {
     "name": "stdout",
     "output_type": "stream",
     "text": [
      "\n",
      "\n",
      "Test set: Average loss: 8.39e-01, Predictor Accuracy: (60%), Adversary Accuracy: (62%)\n",
      "\n"
     ]
    },
    {
     "data": {
      "application/vnd.jupyter.widget-view+json": {
       "model_id": "9d4e44045d9847a090c7d1fb114ca63a",
       "version_major": 2,
       "version_minor": 0
      },
      "text/plain": [
       "HBox(children=(IntProgress(value=0, max=5), HTML(value='')))"
      ]
     },
     "metadata": {},
     "output_type": "display_data"
    },
    {
     "name": "stdout",
     "output_type": "stream",
     "text": [
      "\n",
      "\n",
      "Test set: Average loss: 8.39e-01, Predictor Accuracy: (60%), Adversary Accuracy: (62%)\n",
      "\n"
     ]
    },
    {
     "data": {
      "application/vnd.jupyter.widget-view+json": {
       "model_id": "7c5b1cd829924e359528244da718cb4c",
       "version_major": 2,
       "version_minor": 0
      },
      "text/plain": [
       "HBox(children=(IntProgress(value=0, max=5), HTML(value='')))"
      ]
     },
     "metadata": {},
     "output_type": "display_data"
    },
    {
     "name": "stdout",
     "output_type": "stream",
     "text": [
      "\n",
      "\n",
      "Test set: Average loss: 8.38e-01, Predictor Accuracy: (60%), Adversary Accuracy: (62%)\n",
      "\n"
     ]
    },
    {
     "data": {
      "application/vnd.jupyter.widget-view+json": {
       "model_id": "e9ec04631570488695f94f47acfd08a4",
       "version_major": 2,
       "version_minor": 0
      },
      "text/plain": [
       "HBox(children=(IntProgress(value=0, max=5), HTML(value='')))"
      ]
     },
     "metadata": {},
     "output_type": "display_data"
    },
    {
     "name": "stdout",
     "output_type": "stream",
     "text": [
      "\n",
      "\n",
      "Test set: Average loss: 8.37e-01, Predictor Accuracy: (60%), Adversary Accuracy: (62%)\n",
      "\n"
     ]
    },
    {
     "data": {
      "application/vnd.jupyter.widget-view+json": {
       "model_id": "0ac4c64169f8465d8ac9d5e563231ee7",
       "version_major": 2,
       "version_minor": 0
      },
      "text/plain": [
       "HBox(children=(IntProgress(value=0, max=5), HTML(value='')))"
      ]
     },
     "metadata": {},
     "output_type": "display_data"
    },
    {
     "name": "stdout",
     "output_type": "stream",
     "text": [
      "\n",
      "\n",
      "Test set: Average loss: 8.36e-01, Predictor Accuracy: (60%), Adversary Accuracy: (62%)\n",
      "\n"
     ]
    },
    {
     "data": {
      "application/vnd.jupyter.widget-view+json": {
       "model_id": "17771dcea9ad48ecb8eb056e23fe91d2",
       "version_major": 2,
       "version_minor": 0
      },
      "text/plain": [
       "HBox(children=(IntProgress(value=0, max=5), HTML(value='')))"
      ]
     },
     "metadata": {},
     "output_type": "display_data"
    },
    {
     "name": "stdout",
     "output_type": "stream",
     "text": [
      "\n",
      "\n",
      "Test set: Average loss: 8.35e-01, Predictor Accuracy: (60%), Adversary Accuracy: (62%)\n",
      "\n"
     ]
    },
    {
     "data": {
      "application/vnd.jupyter.widget-view+json": {
       "model_id": "680d07af823b4f1abe9c341dff94ed78",
       "version_major": 2,
       "version_minor": 0
      },
      "text/plain": [
       "HBox(children=(IntProgress(value=0, max=5), HTML(value='')))"
      ]
     },
     "metadata": {},
     "output_type": "display_data"
    },
    {
     "name": "stdout",
     "output_type": "stream",
     "text": [
      "\n",
      "\n",
      "Test set: Average loss: 8.35e-01, Predictor Accuracy: (60%), Adversary Accuracy: (62%)\n",
      "\n"
     ]
    },
    {
     "data": {
      "application/vnd.jupyter.widget-view+json": {
       "model_id": "f05d937eaf1c45099909600a857ba48d",
       "version_major": 2,
       "version_minor": 0
      },
      "text/plain": [
       "HBox(children=(IntProgress(value=0, max=5), HTML(value='')))"
      ]
     },
     "metadata": {},
     "output_type": "display_data"
    },
    {
     "name": "stdout",
     "output_type": "stream",
     "text": [
      "\n",
      "\n",
      "Test set: Average loss: 8.34e-01, Predictor Accuracy: (60%), Adversary Accuracy: (62%)\n",
      "\n"
     ]
    },
    {
     "data": {
      "application/vnd.jupyter.widget-view+json": {
       "model_id": "140e24a9b4734c168e8dba4dfc2189fa",
       "version_major": 2,
       "version_minor": 0
      },
      "text/plain": [
       "HBox(children=(IntProgress(value=0, max=5), HTML(value='')))"
      ]
     },
     "metadata": {},
     "output_type": "display_data"
    },
    {
     "name": "stdout",
     "output_type": "stream",
     "text": [
      "\n",
      "\n",
      "Test set: Average loss: 8.33e-01, Predictor Accuracy: (60%), Adversary Accuracy: (62%)\n",
      "\n"
     ]
    },
    {
     "data": {
      "application/vnd.jupyter.widget-view+json": {
       "model_id": "bc6fd8e318024bb3861032325473a30f",
       "version_major": 2,
       "version_minor": 0
      },
      "text/plain": [
       "HBox(children=(IntProgress(value=0, max=5), HTML(value='')))"
      ]
     },
     "metadata": {},
     "output_type": "display_data"
    },
    {
     "name": "stdout",
     "output_type": "stream",
     "text": [
      "\n",
      "\n",
      "Test set: Average loss: 8.32e-01, Predictor Accuracy: (60%), Adversary Accuracy: (62%)\n",
      "\n"
     ]
    },
    {
     "data": {
      "application/vnd.jupyter.widget-view+json": {
       "model_id": "379e74b137084bf1af34b22dd6c0bec1",
       "version_major": 2,
       "version_minor": 0
      },
      "text/plain": [
       "HBox(children=(IntProgress(value=0, max=5), HTML(value='')))"
      ]
     },
     "metadata": {},
     "output_type": "display_data"
    },
    {
     "name": "stdout",
     "output_type": "stream",
     "text": [
      "\n",
      "\n",
      "Test set: Average loss: 8.32e-01, Predictor Accuracy: (60%), Adversary Accuracy: (62%)\n",
      "\n"
     ]
    },
    {
     "data": {
      "application/vnd.jupyter.widget-view+json": {
       "model_id": "3691c2e490524137909d3368caf7e526",
       "version_major": 2,
       "version_minor": 0
      },
      "text/plain": [
       "HBox(children=(IntProgress(value=0, max=5), HTML(value='')))"
      ]
     },
     "metadata": {},
     "output_type": "display_data"
    },
    {
     "name": "stdout",
     "output_type": "stream",
     "text": [
      "\n",
      "\n",
      "Test set: Average loss: 8.31e-01, Predictor Accuracy: (61%), Adversary Accuracy: (62%)\n",
      "\n"
     ]
    },
    {
     "data": {
      "application/vnd.jupyter.widget-view+json": {
       "model_id": "4f7e1b7ec2dd48509626fca1cf00b533",
       "version_major": 2,
       "version_minor": 0
      },
      "text/plain": [
       "HBox(children=(IntProgress(value=0, max=5), HTML(value='')))"
      ]
     },
     "metadata": {},
     "output_type": "display_data"
    },
    {
     "name": "stdout",
     "output_type": "stream",
     "text": [
      "\n",
      "\n",
      "Test set: Average loss: 8.30e-01, Predictor Accuracy: (61%), Adversary Accuracy: (62%)\n",
      "\n"
     ]
    },
    {
     "data": {
      "application/vnd.jupyter.widget-view+json": {
       "model_id": "a2834b9a9e6841a1b121f06a2d198a0d",
       "version_major": 2,
       "version_minor": 0
      },
      "text/plain": [
       "HBox(children=(IntProgress(value=0, max=5), HTML(value='')))"
      ]
     },
     "metadata": {},
     "output_type": "display_data"
    },
    {
     "name": "stdout",
     "output_type": "stream",
     "text": [
      "\n",
      "\n",
      "Test set: Average loss: 8.29e-01, Predictor Accuracy: (61%), Adversary Accuracy: (62%)\n",
      "\n"
     ]
    }
   ],
   "source": [
    "device = torch.device(\"cpu\")\n",
    "\n",
    "# Parameters and Hyperparameters\n",
    "num_predictor_features = train_dataset[0][0].shape[0]\n",
    "num_adversary_features = 1\n",
    "\n",
    "hyperparams = {\n",
    "\"batch_size\": 1000,\n",
    "\"num_epochs\": 40,\n",
    "\"pred_lr_rate\": 0.001,\n",
    "\"adv_lr_rate\":0.001\n",
    "}\n",
    "\n",
    "# Data Loaders\n",
    "# train_loader = torch.utils.data.DataLoader(dataset=train_dataset, batch_size=batch_size, shuffle=True)\n",
    "# test_loader = torch.utils.data.DataLoader(dataset=test_dataset, batch_size=batch_size, shuffle=False)\n",
    "\n",
    "# Models and Optimizers\n",
    "\n",
    "def adversarial_training(hyperparams, alpha=0.1):\n",
    "    torch.manual_seed(1)\n",
    "    train_loader = torch.utils.data.DataLoader(dataset=train_dataset, batch_size=hyperparams[\"batch_size\"], shuffle=True)\n",
    "    test_loader = torch.utils.data.DataLoader(dataset=test_dataset, batch_size=hyperparams[\"batch_size\"], shuffle=False)\n",
    "\n",
    "    predictor = Predictor(num_predictor_features).to(device)\n",
    "    adversary = Adversary(num_adversary_features).to(device)\n",
    "    optimizer_P = optim.Adam(predictor.parameters(), lr=hyperparams[\"pred_lr_rate\"])\n",
    "    optimizer_A = optim.Adam(adversary.parameters(), lr=hyperparams[\"pred_lr_rate\"])\n",
    "    criterion = torch.nn.BCELoss()\n",
    "\n",
    "    train_predictor_accuracies, train_adversary_accuracies = [], []\n",
    "    test_predictor_accuracies, test_adversary_accuracies = [], []\n",
    "\n",
    "    train_predictor_losses, train_adversary_losses = [], []\n",
    "    test_predictor_losses, test_adversary_losses = [], []\n",
    "\n",
    "    for epoch in range(1, hyperparams[\"num_epochs\"] + 1):\n",
    "        train_pred_loss, train_adv_loss, train_pred_accuracy, train_adv_accuracy = train(predictor, adversary, optimizer_P, optimizer_A, device, train_loader, criterion, epoch, alpha=alpha)\n",
    "        train_predictor_losses.append(train_pred_loss)\n",
    "        train_adversary_losses.append(train_adv_loss)\n",
    "        train_predictor_accuracies.append(train_pred_accuracy)\n",
    "        train_adversary_accuracies.append(train_adv_accuracy)\n",
    "\n",
    "        test_pred_labels, test_pred_protect, test_pred_loss, test_adv_loss, test_pred_accuracy, test_adv_accuracy = test(predictor, adversary, device, test_loader, criterion)\n",
    "        test_predictor_losses.append(test_pred_loss)\n",
    "        test_adversary_losses.append(test_adv_loss)\n",
    "        test_predictor_accuracies.append(test_pred_accuracy)\n",
    "        test_adversary_accuracies.append(test_adv_accuracy)\n",
    "    all_losses = [train_predictor_losses, train_adversary_losses, test_predictor_losses, test_adversary_losses]\n",
    "    all_accuracies = [train_predictor_accuracies, train_adversary_accuracies, test_predictor_accuracies, test_adversary_accuracies]\n",
    "    return train_loader, test_loader, test_pred_labels, train_pred_accuracy, test_pred_accuracy, all_losses, all_accuracies\n",
    "train_loader, test_loader, test_pred_labels, train_pred_accuracy, test_pred_accuracy, losses, accuracies = adversarial_training(hyperparams)\n"
   ]
  },
  {
   "cell_type": "code",
   "execution_count": 4,
   "metadata": {},
   "outputs": [
    {
     "name": "stderr",
     "output_type": "stream",
     "text": [
      "/anaconda3/lib/python3.7/site-packages/matplotlib/font_manager.py:1241: UserWarning: findfont: Font family ['normal'] not found. Falling back to DejaVu Sans.\n",
      "  (prop.get_family(), self.defaultFamily[fontext]))\n"
     ]
    },
    {
     "data": {
      "image/png": "[encoded data removed]",
      "text/plain": [
       "<Figure size 720x504 with 1 Axes>"
      ]
     },
     "metadata": {
      "needs_background": "light"
     },
     "output_type": "display_data"
    }
   ],
   "source": [
    "import matplotlib\n",
    "font = {'family' : 'normal',\n",
    "        'size': 15}\n",
    "matplotlib.rc('font', **font)\n",
    "epochs = range(1, hyperparams[\"num_epochs\"] + 1)\n",
    "plt.figure(figsize=(10,7))\n",
    "plt.plot(epochs, accuracies[0], label=\"train_predictor\")\n",
    "plt.plot(epochs, accuracies[1], label=\"train_adversary\")\n",
    "plt.plot(epochs, accuracies[2], label=\"test_predictor\")\n",
    "plt.plot(epochs, accuracies[3], label=\"test_adversary\")\n",
    "plt.title(\"Adversarial Learning Accuracies: adaptive alpha\")\n",
    "plt.xlabel(\"Epoch\")\n",
    "plt.ylabel(\"Accuracy\")\n",
    "plt.legend()\n",
    "plt.savefig(\"../plots/adversarial_model/accuracy_against_epoch.png\")\n",
    "plt.show()"
   ]
  },
  {
   "cell_type": "code",
   "execution_count": 5,
   "metadata": {},
   "outputs": [
    {
     "data": {
      "image/png": "[encoded data removed]",
      "text/plain": [
       "<Figure size 720x504 with 1 Axes>"
      ]
     },
     "metadata": {
      "needs_background": "light"
     },
     "output_type": "display_data"
    }
   ],
   "source": [
    "plt.figure(figsize=(10,7))\n",
    "plt.plot(epochs, losses[0], label=\"train_predictor\")\n",
    "plt.plot(epochs, losses[1], label=\"train_adversary\")\n",
    "plt.plot(epochs, losses[2], label=\"test_predictor\")\n",
    "plt.plot(epochs, losses[3], label=\"test_adversary\")\n",
    "plt.title(\"Adversarial Learning Losses: adaptive alpha\")\n",
    "plt.xlabel(\"Epoch\")\n",
    "plt.ylabel(\"Loss\")\n",
    "plt.legend()\n",
    "plt.savefig(\"../plots/adversarial_model/loss_against_epoch.png\")\n",
    "plt.show()"
   ]
  },
  {
   "cell_type": "code",
   "execution_count": 6,
   "metadata": {},
   "outputs": [
    {
     "name": "stdout",
     "output_type": "stream",
     "text": [
      "Simple Logistic Model\n",
      "[[211 246]\n",
      " [135 407]]  Blacks\n",
      "[[212 137]\n",
      " [108 151]]  Whites\n",
      "0.6536536536536537 0.47368421052631576 Fraction predicted positive females, males\n",
      "0.17996944312733792  statistical_parity_difference\n",
      "0.14574307336372128 FPR difference\n",
      "-0.16791092621350923 FNR difference\n",
      "0.16791092621350923  true_positive_rate_difference\n",
      "0.14574307336372128  false_positive_rate_difference\n",
      "0.15682699978861525  average_odds_difference\n"
     ]
    }
   ],
   "source": [
    "###### Fairness Metrics\n",
    "print(\"Simple Logistic Model\")\n",
    "\n",
    "black_confusion_matrix = binary_confusion_matrix(test_loader.dataset.label, test_pred_labels, test_loader.dataset.protect, 1)\n",
    "white_confusion_matrix = binary_confusion_matrix(test_loader.dataset.label, test_pred_labels, test_loader.dataset.protect, 0)\n",
    "\n",
    "black_fpr = false_positive_rate(black_confusion_matrix)\n",
    "white_fpr = false_positive_rate(white_confusion_matrix)\n",
    "\n",
    "\n",
    "black_fnr = false_negative_rate(black_confusion_matrix)\n",
    "white_fnr = false_negative_rate(white_confusion_matrix)\n",
    "\n",
    "# print(train_accuracy, \"Train Acuuracy\")\n",
    "# print(test_accuracy, \"Test Acuuracy\")\n",
    "\n",
    "print(black_confusion_matrix, \" Blacks\")\n",
    "print(white_confusion_matrix, \" Whites\")\n",
    "\n",
    "print(frac_predicted_positive(black_confusion_matrix), frac_predicted_positive(white_confusion_matrix), \"Fraction predicted positive females, males\")\n",
    "print(statistical_parity_difference(black_confusion_matrix, white_confusion_matrix), \" statistical_parity_difference\")\n",
    "\n",
    "print(black_fpr - white_fpr, \"FPR difference\")\n",
    "print(black_fnr - white_fnr, \"FNR difference\")\n",
    "\n",
    "# print(female_fnr, male_fnr, \" FNR Blacks, Whites\")\n",
    "# print(female_fpr, male_fpr, \" FPR Blacks, Whites\")\n",
    "print(true_positive_rate_difference(black_confusion_matrix, white_confusion_matrix), \" true_positive_rate_difference\")\n",
    "print(false_positive_rate_difference(black_confusion_matrix, white_confusion_matrix), \" false_positive_rate_difference\")\n",
    "print(average_odds_difference(black_confusion_matrix, white_confusion_matrix), \" average_odds_difference\")\n"
   ]
  },
  {
   "cell_type": "code",
   "execution_count": 7,
   "metadata": {},
   "outputs": [],
   "source": [
    "def fainess_vs_accuracy(hyperparams, alphas):\n",
    "    test_accurcies, test_fairness = [], []\n",
    "    for alpha in alphas:\n",
    "        _, test_loader, test_pred_labels, train_pred_accuracy, test_pred_accuracy,_,_ = adversarial_training(hyperparams, alpha)\n",
    "        female_confusion_matrix = binary_confusion_matrix(test_loader.dataset.label, test_pred_labels, test_loader.dataset.protect, 0)\n",
    "        male_confusion_matrix = binary_confusion_matrix(test_loader.dataset.label, test_pred_labels, test_loader.dataset.protect, 1)\n",
    "\n",
    "        female_fpr = false_positive_rate(female_confusion_matrix)\n",
    "        male_fpr = false_positive_rate(male_confusion_matrix)\n",
    "\n",
    "\n",
    "        female_fnr = false_negative_rate(female_confusion_matrix)\n",
    "        male_fnr = false_negative_rate(male_confusion_matrix)\n",
    "        \n",
    "        avg_odds_diff = average_odds_difference(female_confusion_matrix, male_confusion_matrix)\n",
    "        test_accurcies.append(test_pred_accuracy)\n",
    "        test_fairness.append(avg_odds_diff)\n",
    "    return test_accurcies, test_fairness  \n",
    "\n",
    "alphas = [10**i for i in [-2,-1,0,1,2]]   \n",
    "hyperparams = {\n",
    "\"batch_size\": 1000,\n",
    "\"num_epochs\": 15,\n",
    "\"pred_lr_rate\": 0.001,\n",
    "\"adv_lr_rate\":0.001\n",
    "}\n",
    "\n",
    "# test_accurcies, test_fairness = fainess_vs_accuracy(hyperparams, alphas)   "
   ]
  },
  {
   "cell_type": "code",
   "execution_count": 8,
   "metadata": {},
   "outputs": [],
   "source": [
    "# plt.figure(figsize=(10,7))\n",
    "# plt.plot(alphas, test_accurcies, marker='o', label=\"test_accuracy\")\n",
    "# plt.plot(alphas, test_fairness, marker='o', label=\"test_avg_odds_difference\")\n",
    "# plt.xlabel(\"alpha\")\n",
    "# plt.ylabel(\"Average Odds/Accuracy\")\n",
    "# plt.title(\"Fairness Accuracy Tradeoff: changing alpha\")\n",
    "\n",
    "# plt.legend()\n",
    "# plt.xscale('log', basex=10)\n",
    "# plt.savefig(\"../plots/adversarial_model/fairness_accuracy_against_alpha\")\n",
    "    "
   ]
  },
  {
   "cell_type": "code",
   "execution_count": null,
   "metadata": {},
   "outputs": [],
   "source": []
  }
 ],
 "metadata": {
  "kernelspec": {
   "display_name": "Python 3",
   "language": "python",
   "name": "python3"
  },
  "language_info": {
   "codemirror_mode": {
    "name": "ipython",
    "version": 3
   },
   "file_extension": ".py",
   "mimetype": "text/x-python",
   "name": "python",
   "nbconvert_exporter": "python",
   "pygments_lexer": "ipython3",
   "version": "3.7.3"
  }
 },
 "nbformat": 4,
 "nbformat_minor": 2
}
