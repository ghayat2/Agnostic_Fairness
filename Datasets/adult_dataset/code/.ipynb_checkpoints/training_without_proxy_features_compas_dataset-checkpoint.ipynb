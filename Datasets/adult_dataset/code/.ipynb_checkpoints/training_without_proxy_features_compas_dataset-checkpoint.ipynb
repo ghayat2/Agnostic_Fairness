{
 "cells": [
  {
   "cell_type": "code",
   "execution_count": 1,
   "metadata": {},
   "outputs": [],
   "source": [
    "from sklearn.metrics import normalized_mutual_info_score\n",
    "from sklearn import preprocessing"
   ]
  },
  {
   "cell_type": "code",
   "execution_count": 2,
   "metadata": {},
   "outputs": [
    {
     "name": "stderr",
     "output_type": "stream",
     "text": [
      "/anaconda3/lib/python3.7/site-packages/nbformat/current.py:19: UserWarning: nbformat.current is deprecated.\n",
      "\n",
      "- use nbformat for read/write/validate public API\n",
      "- use nbformat.vX directly to composing notebooks of a particular version\n",
      "\n",
      "  \"\"\")\n"
     ]
    },
    {
     "name": "stdout",
     "output_type": "stream",
     "text": [
      "importing Jupyter notebook from adversarial_debiasing_model.ipynb\n"
     ]
    }
   ],
   "source": [
    "import io, os, sys, types\n",
    "from IPython import get_ipython\n",
    "from nbformat import current\n",
    "from IPython.core.interactiveshell import InteractiveShell\n",
    "\n",
    "def find_notebook(fullname, path=None):\n",
    "    \"\"\"find a notebook, given its fully qualified name and an optional path\n",
    "\n",
    "    This turns \"foo.bar\" into \"foo/bar.ipynb\"\n",
    "    and tries turning \"Foo_Bar\" into \"Foo Bar\" if Foo_Bar\n",
    "    does not exist.\n",
    "    \"\"\"\n",
    "    name = fullname.rsplit('.', 1)[-1]\n",
    "    if not path:\n",
    "        path = ['']\n",
    "    for d in path:\n",
    "        nb_path = os.path.join(d, name + \".ipynb\")\n",
    "        if os.path.isfile(nb_path):\n",
    "            return nb_path\n",
    "        # let import Notebook_Name find \"Notebook Name.ipynb\"\n",
    "        nb_path = nb_path.replace(\"_\", \" \")\n",
    "        if os.path.isfile(nb_path):\n",
    "            return nb_path\n",
    "\n",
    "\n",
    "class NotebookLoader(object):\n",
    "    \"\"\"Module Loader for Jupyter Notebooks\"\"\"\n",
    "    def __init__(self, path=None):\n",
    "        self.shell = InteractiveShell.instance()\n",
    "        self.path = path\n",
    "\n",
    "    def load_module(self, fullname):\n",
    "        \"\"\"import a notebook as a module\"\"\"\n",
    "        path = find_notebook(fullname, self.path)\n",
    "\n",
    "        print (\"importing Jupyter notebook from %s\" % path)\n",
    "\n",
    "        # load the notebook object\n",
    "        with io.open(path, 'r', encoding='utf-8') as f:\n",
    "            nb = current.read(f, 'json')\n",
    "\n",
    "\n",
    "        # create the module and add it to sys.modules\n",
    "        # if name in sys.modules:\n",
    "        #    return sys.modules[name]\n",
    "        mod = types.ModuleType(fullname)\n",
    "        mod.__file__ = path\n",
    "        mod.__loader__ = self\n",
    "        mod.__dict__['get_ipython'] = get_ipython\n",
    "        sys.modules[fullname] = mod\n",
    "\n",
    "        # extra work to ensure that magics that would affect the user_ns\n",
    "        # actually affect the notebook module's ns\n",
    "        save_user_ns = self.shell.user_ns\n",
    "        self.shell.user_ns = mod.__dict__\n",
    "\n",
    "        try:\n",
    "            for cell in nb.worksheets[0].cells:\n",
    "                if cell.cell_type == 'code' and cell.language == 'python':\n",
    "                    # transform the input to executable Python\n",
    "                    code = self.shell.input_transformer_manager.transform_cell(cell.input)\n",
    "                    # run the code in themodule\n",
    "                    exec(code, mod.__dict__)\n",
    "        finally:\n",
    "            self.shell.user_ns = save_user_ns\n",
    "        return mod\n",
    "\n",
    "\n",
    "class NotebookFinder(object):\n",
    "    \"\"\"Module finder that locates Jupyter Notebooks\"\"\"\n",
    "    def __init__(self):\n",
    "        self.loaders = {}\n",
    "\n",
    "    def find_module(self, fullname, path=None):\n",
    "        nb_path = find_notebook(fullname, path)\n",
    "        if not nb_path:\n",
    "            return\n",
    "\n",
    "        key = path\n",
    "        if path:\n",
    "            # lists aren't hashable\n",
    "            key = os.path.sep.join(path)\n",
    "\n",
    "        if key not in self.loaders:\n",
    "            self.loaders[key] = NotebookLoader(path)\n",
    "        return self.loaders[key]\n",
    "\n",
    "sys.meta_path.append(NotebookFinder())\n",
    "\n",
    "from adversarial_debiasing_model import *"
   ]
  },
  {
   "cell_type": "code",
   "execution_count": 3,
   "metadata": {},
   "outputs": [],
   "source": [
    "def top_k_proxy_features(df, protected_attribute, label, k):\n",
    "    correlations = []\n",
    "    for feature in df:\n",
    "        if feature not in [protected_attribute, label]:\n",
    "            correlation_score = normalized_mutual_info_score(df[feature], df[protected_attribute], average_method='arithmetic')\n",
    "            correlations.append((feature, correlation_score))\n",
    "    top_k = sorted(correlations, key=lambda kv:kv[1], reverse=True)[:k]\n",
    "    return top_k\n",
    "\n",
    "def df_without_k_proxies(df, protected_attribute, label, k):\n",
    "    top_k = top_k_proxy_features(df, protected_attribute, label, k)\n",
    "    top_k_features = set([feature for feature, _ in top_k])\n",
    "    remaining_features = set(df.columns) - top_k_features\n",
    "    return df[remaining_features]"
   ]
  },
  {
   "cell_type": "code",
   "execution_count": 6,
   "metadata": {},
   "outputs": [],
   "source": [
    "###### Compas dataset\n",
    "\n",
    "# Loading the dataset\n",
    "filepath = '../data/Compas Dataset/processed_compas.csv'\n",
    "compas_df = pd.read_csv(filepath)\n",
    "label_column = \"is_recid\"\n",
    "protect_column = \"race_African-American\"\n",
    "\n",
    "# Scaling the dataset\n",
    "minmax_scale = preprocessing.MinMaxScaler().fit(compas_df.values)\n",
    "compas_df_scaled = minmax_scale.transform(compas_df.values)\n",
    "compas_df_scaled = pd.DataFrame(compas_df_scaled, index=compas_df.index, columns=compas_df.columns)\n",
    "\n",
    "# Removing proxy features\n",
    "compas_df_without_proxies = df_without_k_proxies(compas_df_scaled, protect_column, label_column, 10)\n",
    "\n",
    "# Splitting dataset into train, test features\n",
    "train_df, test_df = split_train_test(compas_df_without_proxies)\n",
    "train_features, train_labels, train_protect = process_data(train_df, label_column, protect_column)\n",
    "test_features, test_labels, test_protect = process_data(test_df, label_column, protect_column)\n"
   ]
  },
  {
   "cell_type": "code",
   "execution_count": 7,
   "metadata": {},
   "outputs": [
    {
     "name": "stdout",
     "output_type": "stream",
     "text": [
      "WARNING:tensorflow:From /anaconda3/lib/python3.7/site-packages/tensorflow_core/python/ops/resource_variable_ops.py:1630: calling BaseResourceVariable.__init__ (from tensorflow.python.ops.resource_variable_ops) with constraint is deprecated and will be removed in a future version.\n",
      "Instructions for updating:\n",
      "If using Keras pass *_constraint arguments to layers.\n",
      "epoch 0; iter: 0; batch classifier loss: 0.705005\n",
      "epoch 1; iter: 0; batch classifier loss: 0.660108\n",
      "epoch 2; iter: 0; batch classifier loss: 0.617336\n",
      "epoch 3; iter: 0; batch classifier loss: 0.641363\n",
      "epoch 4; iter: 0; batch classifier loss: 0.600203\n",
      "epoch 5; iter: 0; batch classifier loss: 0.611006\n",
      "epoch 6; iter: 0; batch classifier loss: 0.667978\n",
      "epoch 7; iter: 0; batch classifier loss: 0.591578\n",
      "epoch 8; iter: 0; batch classifier loss: 0.665581\n",
      "epoch 9; iter: 0; batch classifier loss: 0.623784\n",
      "Train Accuracy:  0.7263785394932936\n",
      "Test Accuracy:  0.7223960661600357\n"
     ]
    },
    {
     "data": {
      "image/png": "[encoded data removed]",
      "text/plain": [
       "<Figure size 432x288 with 1 Axes>"
      ]
     },
     "metadata": {
      "needs_background": "light"
     },
     "output_type": "display_data"
    }
   ],
   "source": [
    "####### Hyperparameters\n",
    "hyperparameters = {'adversary_loss_weight':0.1, \n",
    "                    'batch_size':64, \n",
    "                    'num_epochs':10, \n",
    "                    'learning_rate':0.001\n",
    "                    }\n",
    "\n",
    "\n",
    "def train_model(scope_name, hyperparameters, debias):\n",
    "    with tf.Session() as sess:\n",
    "        model = AdversarialLogisticModel(scope_name, sess, hyperparameters, seed=1, debias=debias)\n",
    "        trained_model, epoch_losses = model.fit(train_features, train_labels, train_protect)\n",
    "        train_pred_labels = trained_model.predict(train_features, train_labels, train_protect)\n",
    "        test_pred_labels = trained_model.predict(test_features, test_labels, test_protect)\n",
    "    return epoch_losses, train_pred_labels, test_pred_labels\n",
    "\n",
    "epoch_losses, train_pred_labels, test_pred_labels = train_model(\"training\", hyperparameters, False)\n",
    "print(\"Train Accuracy: \", accuracy_score(train_labels, train_pred_labels))\n",
    "print(\"Test Accuracy: \", accuracy_score(test_labels, test_pred_labels))\n",
    "plt.plot(list(range(1, hyperparameters['num_epochs']+1)), epoch_losses)\n",
    "plt.show()\n"
   ]
  },
  {
   "cell_type": "code",
   "execution_count": 8,
   "metadata": {},
   "outputs": [
    {
     "name": "stdout",
     "output_type": "stream",
     "text": [
      "[[761   1]\n",
      " [412 143]]  Blacks\n",
      "[[645   0]\n",
      " [208  67]]  Whites\n",
      "0.006944444444444444 0.0  FPR blacks, whites\n",
      "0.3512361466325661 0.24384525205158264  FNR blacks, whites\n",
      "0.03651332078835298  statistical_parity_difference\n",
      "0.010482869232869228  average_odds_difference\n"
     ]
    }
   ],
   "source": [
    "###### Fairness Metrics\n",
    "\n",
    "black_confusion_matrix = binary_confusion_matrix(test_labels, test_pred_labels, test_protect, 1)\n",
    "white_confusion_matrix = binary_confusion_matrix(test_labels, test_pred_labels, test_protect, 0)\n",
    "\n",
    "black_fpr = false_positive_rate(black_confusion_matrix)\n",
    "white_fpr = false_positive_rate(white_confusion_matrix)\n",
    "\n",
    "black_fnr = false_negative_rate(black_confusion_matrix)\n",
    "white_fnr = false_negative_rate(white_confusion_matrix)\n",
    "\n",
    "\n",
    "print(black_confusion_matrix, \" Blacks\")\n",
    "print(white_confusion_matrix, \" Whites\")\n",
    "\n",
    "print(black_fpr, white_fpr, \" FPR blacks, whites\")\n",
    "print(black_fnr, white_fnr, \" FNR blacks, whites\")\n",
    "print(statistical_parity_difference(black_confusion_matrix, white_confusion_matrix), \" statistical_parity_difference\")\n",
    "print(average_odds_difference(black_confusion_matrix, white_confusion_matrix), \" average_odds_difference\")\n"
   ]
  },
  {
   "cell_type": "code",
   "execution_count": null,
   "metadata": {},
   "outputs": [],
   "source": []
  }
 ],
 "metadata": {
  "kernelspec": {
   "display_name": "Python 3",
   "language": "python",
   "name": "python3"
  },
  "language_info": {
   "codemirror_mode": {
    "name": "ipython",
    "version": 3
   },
   "file_extension": ".py",
   "mimetype": "text/x-python",
   "name": "python",
   "nbconvert_exporter": "python",
   "pygments_lexer": "ipython3",
   "version": "3.7.3"
  }
 },
 "nbformat": 4,
 "nbformat_minor": 2
}
