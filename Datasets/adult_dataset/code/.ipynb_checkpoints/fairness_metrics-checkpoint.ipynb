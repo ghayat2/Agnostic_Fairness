{
 "cells": [
  {
   "cell_type": "code",
   "execution_count": 1,
   "metadata": {},
   "outputs": [],
   "source": [
    "from sklearn.metrics import *\n",
    "import numpy as np"
   ]
  },
  {
   "cell_type": "code",
   "execution_count": 2,
   "metadata": {},
   "outputs": [],
   "source": [
    "##### Fairness Metrics\n",
    "def binary_confusion_matrix(true_labels, pred_labels, protect, protect_group):\n",
    "    indices = np.where(protect == protect_group)\n",
    "    group_pred_labels = pred_labels[indices]\n",
    "    group_true_labels = true_labels[indices]\n",
    "\n",
    "    return confusion_matrix(group_true_labels, group_pred_labels)\n",
    "\n",
    "def false_positive_rate(group_confusion_matrix):\n",
    "    return group_confusion_matrix[0][1]/np.sum(group_confusion_matrix[0,:])\n",
    "\n",
    "def true_negative_rate(group_confusion_matrix):\n",
    "    return 1 - false_positive_rate(group_confusion_matrix)\n",
    "\n",
    "def false_negative_rate(group_confusion_matrix):\n",
    "    return group_confusion_matrix[1][0]/np.sum(group_confusion_matrix[1,:])\n",
    "\n",
    "def true_positive_rate(group_confusion_matrix):\n",
    "    return 1 - false_negative_rate(group_confusion_matrix)\n",
    "\n",
    "def false_positive_rate_difference(confusion_matrix_1, confusion_matrix_2):\n",
    "    return false_positive_rate(confusion_matrix_1) - false_positive_rate(confusion_matrix_2) \n",
    "\n",
    "def true_positive_rate_difference(confusion_matrix_1, confusion_matrix_2):\n",
    "    return true_positive_rate(confusion_matrix_1) - true_positive_rate(confusion_matrix_2) \n",
    "\n",
    "def false_negative_rate_difference(confusion_matrix_1, confusion_matrix_2):\n",
    "    return false_negative_rate(confusion_matrix_1) - false_negative_rate(confusion_matrix_2)\n",
    "\n",
    "def average_odds_difference(confusion_matrix_1, confusion_matrix_2):\n",
    "    fpr_difference = false_positive_rate_difference(confusion_matrix_1, confusion_matrix_2)\n",
    "    tpr_difference = true_positive_rate_difference(confusion_matrix_1, confusion_matrix_2)\n",
    "    return 0.5*(fpr_difference + tpr_difference)\n",
    "\n",
    "def frac_predicted_positive(confusion_matrix):\n",
    "    return np.sum(confusion_matrix[:,1])/np.sum(confusion_matrix)\n",
    "\n",
    "def statistical_parity_difference(confusion_matrix_1, confusion_matrix_2):\n",
    "    frac_prediced_positive_1 = frac_predicted_positive(confusion_matrix_1)\n",
    "    frac_prediced_positive_2 = frac_predicted_positive(confusion_matrix_2)\n",
    "    return frac_prediced_positive_1 - frac_prediced_positive_2\n"
   ]
  }
 ],
 "metadata": {
  "kernelspec": {
   "display_name": "Python 3",
   "language": "python",
   "name": "python3"
  },
  "language_info": {
   "codemirror_mode": {
    "name": "ipython",
    "version": 3
   },
   "file_extension": ".py",
   "mimetype": "text/x-python",
   "name": "python",
   "nbconvert_exporter": "python",
   "pygments_lexer": "ipython3",
   "version": "3.7.3"
  }
 },
 "nbformat": 4,
 "nbformat_minor": 2
}
