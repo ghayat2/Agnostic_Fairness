{
 "cells": [
  {
   "cell_type": "code",
   "execution_count": 1,
   "metadata": {},
   "outputs": [],
   "source": [
    "import pandas as pd\n",
    "import torch\n",
    "import torch.nn as nn\n",
    "import torch.nn.functional as F\n",
    "import torch.optim as optim\n",
    "from tqdm import tqdm_notebook as tqdm\n",
    "from torchvision import datasets, transforms\n",
    "import pandas as pd\n",
    "from sklearn import preprocessing\n",
    "from sklearn.metrics import *\n",
    "from sklearn.utils import resample\n",
    "import numpy as np\n",
    "from torchvision import datasets, transforms\n",
    "from torch.utils import *\n",
    "import matplotlib.pyplot as plt"
   ]
  },
  {
   "cell_type": "code",
   "execution_count": 2,
   "metadata": {},
   "outputs": [],
   "source": [
    "def get_data(filepath):\n",
    "    return pd.read_csv(filepath) \n",
    "\n",
    "def split_train_test(compas_df, train=0.75):\n",
    "    np.random.seed(seed=1)\n",
    "    shuffled = np.random.permutation(compas_df.index)\n",
    "    n_train = int(len(shuffled) * train)\n",
    "    i_train, i_test = shuffled[:n_train], shuffled[n_train:]\n",
    "    return compas_df.loc[i_train], compas_df.loc[i_test]\n",
    "\n",
    "\n",
    "def process_data(df, label_column, protect_column):\n",
    "    feature_columns = set(df.columns) - {label_column, protect_column}\n",
    "    features = df[list(feature_columns)].values\n",
    "    labels = df[label_column].values.reshape(-1,1)\n",
    "    protect = df[protect_column].values.reshape(-1,1)\n",
    "    return (features, labels, protect)\n",
    "\n",
    "def top_k_proxy_features(df, protected_attribute, label, k):\n",
    "    correlations = []\n",
    "    for feature in df:\n",
    "        if feature not in [protected_attribute, label]:\n",
    "            correlation_score = normalized_mutual_info_score(df[feature], df[protected_attribute], average_method='arithmetic')\n",
    "            correlations.append((feature, correlation_score))\n",
    "    top_k = sorted(correlations, key=lambda kv:kv[1], reverse=True)[:k]\n",
    "    return top_k\n",
    "\n",
    "def df_without_k_proxies(df, protected_attribute, label, k):\n",
    "    top_k = top_k_proxy_features(df, protected_attribute, label, k)\n",
    "    top_k_features = set([feature for feature, _ in top_k])\n",
    "    remaining_features = set(df.columns) - top_k_features\n",
    "    return df[remaining_features]"
   ]
  },
  {
   "cell_type": "code",
   "execution_count": 3,
   "metadata": {},
   "outputs": [],
   "source": [
    "##### Adult Dataset\n",
    "\n",
    "# Loading the dataset\n",
    "filepath = '../data/Adult Dataset/processed_adult.csv'\n",
    "adult_df = pd.read_csv(filepath)\n",
    "label_column = \"income\"\n",
    "protect_column = \"gender\"\n",
    "\n",
    "# Scaling the dataset\n",
    "minmax_scale = preprocessing.MinMaxScaler().fit(adult_df.values)\n",
    "adult_df_scaled = minmax_scale.transform(adult_df.values)\n",
    "adult_df_scaled = pd.DataFrame(adult_df_scaled, index=adult_df.index, columns=adult_df.columns)\n",
    "\n",
    "# Removing proxy features\n",
    "adult_df_without_proxies = df_without_k_proxies(adult_df_scaled, protect_column, label_column, 10)\n",
    "\n",
    "\n",
    "# # Splitting dataset into train, test features\n",
    "# train_df, test_df = split_train_test(adult_df_scaled)\n",
    "# train_features, train_labels, train_protect = process_data(train_df, label_column, protect_column)\n",
    "# test_features, test_labels, test_protect = process_data(test_df, label_column, protect_column)"
   ]
  },
  {
   "cell_type": "code",
   "execution_count": 4,
   "metadata": {},
   "outputs": [],
   "source": [
    "# adult_df_scaled.income.value_counts()"
   ]
  },
  {
   "cell_type": "code",
   "execution_count": 5,
   "metadata": {},
   "outputs": [],
   "source": [
    "class Predictor(nn.Module):\n",
    "    def __init__(self, num_features):\n",
    "        super(Predictor, self).__init__()\n",
    "        self.linear = torch.nn.Linear(num_features, 1)\n",
    "        \n",
    "    def forward(self, x):\n",
    "        y_logits = self.linear(x)\n",
    "        y_pred = F.sigmoid(y_logits)\n",
    "        return y_logits, y_pred \n",
    "\n",
    "\n",
    "class Adversary(nn.Module):\n",
    "    def __init__(self, num_features):\n",
    "        super(Adversary, self).__init__()\n",
    "        self.c = nn.Parameter(torch.ones(1), requires_grad=True)\n",
    "        self.linear = nn.Linear(num_features, 1)\n",
    "\n",
    "    def forward(self, y_logits, y):\n",
    "        s = F.sigmoid((1+abs(self.c))*y_logits) \n",
    "        y = y.view_as(s) \n",
    "        x = torch.cat([s, s*y, s*(1-y)], 1)\n",
    "        z_logits = self.linear(x)\n",
    "        z_pred = F.sigmoid(z_logits)\n",
    "        return z_logits, z_pred \n",
    "\n",
    "\n",
    "class Dataset(data.Dataset):\n",
    "    'Characterizes a dataset for PyTorch'\n",
    "    def __init__(self, df, label_column, protect_column):\n",
    "        'Initialization'\n",
    "        self.features = df.drop([label_column, protect_column], axis=1).values\n",
    "        self.label = df[label_column].values\n",
    "        self.protect = df[protect_column].values\n",
    "\n",
    "    def __len__(self):\n",
    "        'Denotes the total number of samples'\n",
    "        return len(self.features)\n",
    "\n",
    "    def __getitem__(self, index):\n",
    "        'Generates one sample of data'\n",
    "        X = self.features[index]\n",
    "        y = self.label[index]\n",
    "        z = self.protect[index]\n",
    "        return X, y, z\n",
    "    \n",
    "def train(predictor, adversary, optimizer_P, optimizer_A, device, train_loader, epoch, alpha=0.1, verbose=True):\n",
    "    predictor.train()\n",
    "    adversary.train()\n",
    "    sum_num_correct = 0\n",
    "    sum_num_adv_correct = 0\n",
    "    sum_loss = 0\n",
    "    num_batches_since_log = 0\n",
    "\n",
    "    if verbose:\n",
    "        batches = tqdm(enumerate(train_loader), total=len(train_loader))\n",
    "        batches.set_description(\"Epoch NA: Loss (NA) Accuracy (NA %)\")\n",
    "    else:\n",
    "        batches = enumerate(train_loader)\n",
    "    for batch_idx, (X, y, z) in batches:\n",
    "        X, y, z = X.to(device, dtype=torch.float), y.to(device, dtype=torch.float), z.to(device)\n",
    "        \n",
    "        optimizer_P.zero_grad()\n",
    "        optimizer_A.zero_grad()\n",
    "        criterion = torch.nn.BCELoss()\n",
    "        \n",
    "        ### Predictor \n",
    "        y_logits, y_pred = predictor(X)\n",
    "        predictor_loss = criterion(y_pred, y.view_as(y_pred))\n",
    "        \n",
    "        ### Adversary\n",
    "        z_logits, z_pred = adversary(y_logits, y)\n",
    "        adversary_loss = criterion(z_pred, z.view_as(z_pred))\n",
    "        \n",
    "\n",
    "        adversary_grads = torch.autograd.grad(adversary_loss, (predictor.parameters()), retain_graph=True)\n",
    "        normalize = lambda x: x / (torch.norm(x,1) + np.finfo(np.float32).tiny)\n",
    "\n",
    "        predictor_loss.backward(retain_graph=True)\n",
    "        adversary_loss.backward()\n",
    "\n",
    "        for W_grad_predictor, b_grad_predictor in zip(predictor.linear.weight.grad, predictor.linear.bias.grad):\n",
    "            W_grad_adversary = adversary_grads[0].view_as(W_grad_predictor)\n",
    "            unit_W_grad_adversary = normalize(W_grad_adversary)\n",
    "            W_grad_predictor -= torch.sum(unit_W_grad_adversary*W_grad_predictor)*unit_W_grad_adversary\n",
    "            W_grad_predictor -= alpha*W_grad_adversary\n",
    "            \n",
    "            b_grad_adversary = adversary_grads[1].view_as(b_grad_predictor)\n",
    "            unit_b_grad_adversary = normalize(b_grad_adversary)\n",
    "            b_grad_predictor -= torch.sum(unit_b_grad_adversary*b_grad_predictor)*unit_b_grad_adversary\n",
    "            b_grad_predictor -= alpha*b_grad_adversary\n",
    "                \n",
    "        optimizer_P.step()\n",
    "        optimizer_A.step()\n",
    "        \n",
    "        pred = (y_pred > 0.5)*1\n",
    "        correct = pred.eq(y.view_as(pred)).sum().item()\n",
    "        sum_num_correct += correct\n",
    "            \n",
    "        adv_pred = (z_pred > 0.5)*1\n",
    "        adv_correct = adv_pred.eq(z.view_as(adv_pred)).sum().item()\n",
    "        sum_num_adv_correct += adv_correct\n",
    "        \n",
    "        sum_loss += predictor_loss.item() * batch_size\n",
    "        num_batches_since_log += 1\n",
    "\n",
    "        if verbose:\n",
    "            batches.set_description(\n",
    "              \"Epoch {:d}: Predictor Loss ({:.2e}), Adversary Loss ({:.2e}), Accuracy ({:02.0f}%)\".format(\n",
    "                epoch, predictor_loss.item(), adversary_loss.item(), 100. * sum_num_correct / (num_batches_since_log * train_loader.batch_size))\n",
    "            )\n",
    "        \n",
    "    sum_loss /= len(train_loader.dataset)\n",
    "    predictor_accuracy = sum_num_correct / len(train_loader.dataset)\n",
    "    adversary_accuracy = sum_num_adv_correct/len(train_loader.dataset)\n",
    "    print(adversary_accuracy, \" adversary's accuracy\")\n",
    "    return sum_loss, predictor_accuracy, adversary_accuracy\n",
    "\n",
    "def test(predictor, device, test_loader):\n",
    "    predictor.eval()\n",
    "    test_loss = 0\n",
    "    correct = 0\n",
    "    adv_correct = 0\n",
    "    test_pred = torch.zeros(0, 1, dtype=torch.torch.int64)\n",
    "    test_adv_pred = torch.zeros(0, 1, dtype=torch.torch.int64)\n",
    "    with torch.no_grad():\n",
    "        for X, y, z in test_loader:\n",
    "            X, y, z = X.to(device, dtype=torch.float), y.to(device, dtype=torch.float), z.to(device, dtype=torch.float) \n",
    "            y_logit, y_pred = predictor(X)\n",
    "            \n",
    "            z_logit, z_pred = adversary(y_logit, y)\n",
    "            criterion = torch.nn.BCELoss()\n",
    "            loss = criterion(y_pred, y.view_as(y_pred))\n",
    "            test_loss += torch.sum(loss).item() # sum up batch loss\n",
    "            pred = (y_pred > 0.5)*1\n",
    "            test_pred = torch.cat([test_pred, pred], 0)\n",
    "            correct += pred.eq(y.view_as(pred)).sum().item()\n",
    "            \n",
    "            adv_pred = (z_pred > 0.5)*1\n",
    "            test_adv_pred = torch.cat([test_adv_pred, adv_pred], 0)\n",
    "            adv_correct += adv_pred.eq(z.view_as(adv_pred)).sum().item()\n",
    "            \n",
    "\n",
    "    test_loss /= len(test_loader.dataset)\n",
    "    print('\\nTest set: Average loss: {:.2e}, Accuracy: {}/{} ({:.0f}%)\\n'.format(\n",
    "        test_loss, correct, len(test_loader.dataset),\n",
    "        100. * correct / len(test_loader.dataset)))\n",
    "    return test_pred, test_adv_pred, test_loss, correct / len(test_loader.dataset), adv_correct/len(test_loader.dataset)\n",
    "\n"
   ]
  },
  {
   "cell_type": "code",
   "execution_count": 6,
   "metadata": {},
   "outputs": [],
   "source": [
    "def upsample_adult(df):\n",
    "    df_minority = df[df.gender==0]\n",
    "    df_majority = df[df.gender==1]\n",
    "    df_minority_upsampled = resample(df_minority,\n",
    "                                      replace=True,\n",
    "                                      n_samples=len(df_majority),\n",
    "                                      random_state=1)\n",
    "    df_upsampled = pd.concat([df_majority, df_minority_upsampled])\n",
    "    return df_upsampled\n",
    "\n",
    "def downsample_adult_gender(df):\n",
    "    df_minority = df[df.gender==0]\n",
    "    df_majority = df[df.gender==1]\n",
    "    df_majority_downsampled = resample(df_majority,\n",
    "                                       replace=False,\n",
    "                                       n_samples=len(df_minority),\n",
    "                                       random_state=1)\n",
    "    df_downsampled = pd.concat([df_majority_downsampled, df_minority])\n",
    "    return df_downsampled\n",
    "\n",
    "def downsample_adult_income(df):\n",
    "    df_minority = df[df.income==1]\n",
    "    df_majority = df[df.income==0]\n",
    "    df_majority_downsampled = resample(df_majority,\n",
    "                                       replace=False,\n",
    "                                       n_samples=len(df_minority),\n",
    "                                       random_state=1)\n",
    "    df_downsampled = pd.concat([df_majority_downsampled, df_minority])\n",
    "    return df_downsampled\n",
    "\n",
    "def downsample_adult(df):\n",
    "    df_minority_greater = df[(df.income==1) & (df.gender==0)]\n",
    "    df_majority_greater = df[(df.income==1) & (df.gender==1)]\n",
    "    df_majority_downsampled_greater = resample(df_majority_greater,\n",
    "                                       replace=False,\n",
    "                                       n_samples=len(df_minority_greater),\n",
    "                                       random_state=1)\n",
    "    df_minority_less = df[(df.income==0) & (df.gender==0)]\n",
    "    df_majority_less = df[(df.income==0) & (df.gender==1)]\n",
    "    df_majority_downsampled_less = resample(df_majority_less,\n",
    "                                       replace=False,\n",
    "                                       n_samples=len(df_minority_less),\n",
    "                                       random_state=1)\n",
    "    df_downsampled = pd.concat([df_majority_downsampled_greater,\n",
    "                                df_majority_downsampled_less,\n",
    "                                df_minority_greater,\n",
    "                                df_minority_less])\n",
    "    return df_downsampled"
   ]
  },
  {
   "cell_type": "code",
   "execution_count": 7,
   "metadata": {},
   "outputs": [],
   "source": [
    "# bdf = downsample_adult_income(downsample_adult(adult_df_scaled))\n",
    "# len(bdf[bdf.income==0])"
   ]
  },
  {
   "cell_type": "code",
   "execution_count": 8,
   "metadata": {},
   "outputs": [
    {
     "name": "stderr",
     "output_type": "stream",
     "text": [
      "/Users/joeoconnor/venv/.virtualenvs/py37/lib/python3.7/site-packages/ipykernel_launcher.py:55: TqdmDeprecationWarning: This function will be removed in tqdm==5.0.0\n",
      "Please use `tqdm.notebook.tqdm` instead of `tqdm.tqdm_notebook`\n"
     ]
    },
    {
     "data": {
      "application/vnd.jupyter.widget-view+json": {
       "model_id": "6586a0ffc77c414f95aee0f5e2e50877",
       "version_major": 2,
       "version_minor": 0
      },
      "text/plain": [
       "HBox(children=(IntProgress(value=0, max=6), HTML(value='')))"
      ]
     },
     "metadata": {},
     "output_type": "display_data"
    },
    {
     "name": "stdout",
     "output_type": "stream",
     "text": [
      "\n",
      "0.4945076892350709  adversary's accuracy\n",
      "\n",
      "Test set: Average loss: 8.07e-04, Accuracy: 1078/1669 (65%)\n",
      "\n"
     ]
    },
    {
     "name": "stderr",
     "output_type": "stream",
     "text": [
      "/Users/joeoconnor/venv/.virtualenvs/py37/lib/python3.7/site-packages/torch/nn/functional.py:1351: UserWarning: nn.functional.sigmoid is deprecated. Use torch.sigmoid instead.\n",
      "  warnings.warn(\"nn.functional.sigmoid is deprecated. Use torch.sigmoid instead.\")\n"
     ]
    },
    {
     "data": {
      "application/vnd.jupyter.widget-view+json": {
       "model_id": "1af0b0ffd65c45b8b0ee22341d357b16",
       "version_major": 2,
       "version_minor": 0
      },
      "text/plain": [
       "HBox(children=(IntProgress(value=0, max=6), HTML(value='')))"
      ]
     },
     "metadata": {},
     "output_type": "display_data"
    },
    {
     "name": "stdout",
     "output_type": "stream",
     "text": [
      "\n",
      "0.4945076892350709  adversary's accuracy\n",
      "\n",
      "Test set: Average loss: 8.03e-04, Accuracy: 1104/1669 (66%)\n",
      "\n"
     ]
    },
    {
     "data": {
      "application/vnd.jupyter.widget-view+json": {
       "model_id": "9874c6cb534c4c8bac3f3940838ac850",
       "version_major": 2,
       "version_minor": 0
      },
      "text/plain": [
       "HBox(children=(IntProgress(value=0, max=6), HTML(value='')))"
      ]
     },
     "metadata": {},
     "output_type": "display_data"
    },
    {
     "name": "stdout",
     "output_type": "stream",
     "text": [
      "\n",
      "0.4945076892350709  adversary's accuracy\n",
      "\n",
      "Test set: Average loss: 7.99e-04, Accuracy: 1119/1669 (67%)\n",
      "\n"
     ]
    },
    {
     "data": {
      "application/vnd.jupyter.widget-view+json": {
       "model_id": "c5c4a20c6e9041ffad570fe9c6a9c175",
       "version_major": 2,
       "version_minor": 0
      },
      "text/plain": [
       "HBox(children=(IntProgress(value=0, max=6), HTML(value='')))"
      ]
     },
     "metadata": {},
     "output_type": "display_data"
    },
    {
     "name": "stdout",
     "output_type": "stream",
     "text": [
      "\n",
      "0.4945076892350709  adversary's accuracy\n",
      "\n",
      "Test set: Average loss: 7.95e-04, Accuracy: 1141/1669 (68%)\n",
      "\n"
     ]
    },
    {
     "data": {
      "application/vnd.jupyter.widget-view+json": {
       "model_id": "3fccd6b245e0445c91e2026902792cd3",
       "version_major": 2,
       "version_minor": 0
      },
      "text/plain": [
       "HBox(children=(IntProgress(value=0, max=6), HTML(value='')))"
      ]
     },
     "metadata": {},
     "output_type": "display_data"
    },
    {
     "name": "stdout",
     "output_type": "stream",
     "text": [
      "\n",
      "0.4945076892350709  adversary's accuracy\n",
      "\n",
      "Test set: Average loss: 7.92e-04, Accuracy: 1158/1669 (69%)\n",
      "\n"
     ]
    },
    {
     "data": {
      "application/vnd.jupyter.widget-view+json": {
       "model_id": "4ac602d186644a70a8f850f6180fb3ed",
       "version_major": 2,
       "version_minor": 0
      },
      "text/plain": [
       "HBox(children=(IntProgress(value=0, max=6), HTML(value='')))"
      ]
     },
     "metadata": {},
     "output_type": "display_data"
    },
    {
     "name": "stdout",
     "output_type": "stream",
     "text": [
      "\n",
      "0.4945076892350709  adversary's accuracy\n",
      "\n",
      "Test set: Average loss: 7.88e-04, Accuracy: 1175/1669 (70%)\n",
      "\n"
     ]
    },
    {
     "data": {
      "application/vnd.jupyter.widget-view+json": {
       "model_id": "9c2f85ea86dc4e62b3237587189cd0ce",
       "version_major": 2,
       "version_minor": 0
      },
      "text/plain": [
       "HBox(children=(IntProgress(value=0, max=6), HTML(value='')))"
      ]
     },
     "metadata": {},
     "output_type": "display_data"
    },
    {
     "name": "stdout",
     "output_type": "stream",
     "text": [
      "\n",
      "0.4945076892350709  adversary's accuracy\n",
      "\n",
      "Test set: Average loss: 7.85e-04, Accuracy: 1170/1669 (70%)\n",
      "\n"
     ]
    },
    {
     "data": {
      "application/vnd.jupyter.widget-view+json": {
       "model_id": "c991f5c410b8439cbf0ce52a30602c86",
       "version_major": 2,
       "version_minor": 0
      },
      "text/plain": [
       "HBox(children=(IntProgress(value=0, max=6), HTML(value='')))"
      ]
     },
     "metadata": {},
     "output_type": "display_data"
    },
    {
     "name": "stdout",
     "output_type": "stream",
     "text": [
      "\n",
      "0.4951068504094268  adversary's accuracy\n",
      "\n",
      "Test set: Average loss: 7.82e-04, Accuracy: 1176/1669 (70%)\n",
      "\n"
     ]
    },
    {
     "data": {
      "application/vnd.jupyter.widget-view+json": {
       "model_id": "e55436b6e0d348f08b147e423424a99b",
       "version_major": 2,
       "version_minor": 0
      },
      "text/plain": [
       "HBox(children=(IntProgress(value=0, max=6), HTML(value='')))"
      ]
     },
     "metadata": {},
     "output_type": "display_data"
    },
    {
     "name": "stdout",
     "output_type": "stream",
     "text": [
      "\n",
      "0.4957060115837827  adversary's accuracy\n",
      "\n",
      "Test set: Average loss: 7.79e-04, Accuracy: 1182/1669 (71%)\n",
      "\n"
     ]
    },
    {
     "data": {
      "application/vnd.jupyter.widget-view+json": {
       "model_id": "762d6a1a78d545819ef44d9f4593bf16",
       "version_major": 2,
       "version_minor": 0
      },
      "text/plain": [
       "HBox(children=(IntProgress(value=0, max=6), HTML(value='')))"
      ]
     },
     "metadata": {},
     "output_type": "display_data"
    },
    {
     "name": "stdout",
     "output_type": "stream",
     "text": [
      "\n",
      "0.49530657080087875  adversary's accuracy\n",
      "\n",
      "Test set: Average loss: 7.76e-04, Accuracy: 1188/1669 (71%)\n",
      "\n"
     ]
    },
    {
     "data": {
      "application/vnd.jupyter.widget-view+json": {
       "model_id": "8750bbb6a7744da3be45af767028d409",
       "version_major": 2,
       "version_minor": 0
      },
      "text/plain": [
       "HBox(children=(IntProgress(value=0, max=6), HTML(value='')))"
      ]
     },
     "metadata": {},
     "output_type": "display_data"
    },
    {
     "name": "stdout",
     "output_type": "stream",
     "text": [
      "\n",
      "0.4971040543239465  adversary's accuracy\n",
      "\n",
      "Test set: Average loss: 7.73e-04, Accuracy: 1194/1669 (72%)\n",
      "\n"
     ]
    },
    {
     "data": {
      "application/vnd.jupyter.widget-view+json": {
       "model_id": "d1e37bb49d3d42b785cbcb014004e7b8",
       "version_major": 2,
       "version_minor": 0
      },
      "text/plain": [
       "HBox(children=(IntProgress(value=0, max=6), HTML(value='')))"
      ]
     },
     "metadata": {},
     "output_type": "display_data"
    },
    {
     "name": "stdout",
     "output_type": "stream",
     "text": [
      "\n",
      "0.5008987417615338  adversary's accuracy\n",
      "\n",
      "Test set: Average loss: 7.70e-04, Accuracy: 1198/1669 (72%)\n",
      "\n"
     ]
    },
    {
     "data": {
      "application/vnd.jupyter.widget-view+json": {
       "model_id": "93076604ee0b433586cdf0990453bea5",
       "version_major": 2,
       "version_minor": 0
      },
      "text/plain": [
       "HBox(children=(IntProgress(value=0, max=6), HTML(value='')))"
      ]
     },
     "metadata": {},
     "output_type": "display_data"
    },
    {
     "name": "stdout",
     "output_type": "stream",
     "text": [
      "\n",
      "0.5010984621529858  adversary's accuracy\n",
      "\n",
      "Test set: Average loss: 7.67e-04, Accuracy: 1203/1669 (72%)\n",
      "\n"
     ]
    },
    {
     "data": {
      "application/vnd.jupyter.widget-view+json": {
       "model_id": "3438a5011f8b4049843eeb06cfc05208",
       "version_major": 2,
       "version_minor": 0
      },
      "text/plain": [
       "HBox(children=(IntProgress(value=0, max=6), HTML(value='')))"
      ]
     },
     "metadata": {},
     "output_type": "display_data"
    },
    {
     "name": "stdout",
     "output_type": "stream",
     "text": [
      "\n",
      "0.5034951068504094  adversary's accuracy\n",
      "\n",
      "Test set: Average loss: 7.64e-04, Accuracy: 1210/1669 (72%)\n",
      "\n"
     ]
    },
    {
     "data": {
      "application/vnd.jupyter.widget-view+json": {
       "model_id": "02de3a86750c44808ccee7fdcda66b7e",
       "version_major": 2,
       "version_minor": 0
      },
      "text/plain": [
       "HBox(children=(IntProgress(value=0, max=6), HTML(value='')))"
      ]
     },
     "metadata": {},
     "output_type": "display_data"
    },
    {
     "name": "stdout",
     "output_type": "stream",
     "text": [
      "\n",
      "0.5040942680247653  adversary's accuracy\n",
      "\n",
      "Test set: Average loss: 7.61e-04, Accuracy: 1213/1669 (73%)\n",
      "\n"
     ]
    },
    {
     "data": {
      "application/vnd.jupyter.widget-view+json": {
       "model_id": "ec6f5adf90a644d4b434ecf905fe2f7b",
       "version_major": 2,
       "version_minor": 0
      },
      "text/plain": [
       "HBox(children=(IntProgress(value=0, max=6), HTML(value='')))"
      ]
     },
     "metadata": {},
     "output_type": "display_data"
    },
    {
     "name": "stdout",
     "output_type": "stream",
     "text": [
      "\n",
      "0.5044937088076693  adversary's accuracy\n",
      "\n",
      "Test set: Average loss: 7.58e-04, Accuracy: 1214/1669 (73%)\n",
      "\n"
     ]
    },
    {
     "data": {
      "application/vnd.jupyter.widget-view+json": {
       "model_id": "022317540bbf4239aecdb5269e9d26fc",
       "version_major": 2,
       "version_minor": 0
      },
      "text/plain": [
       "HBox(children=(IntProgress(value=0, max=6), HTML(value='')))"
      ]
     },
     "metadata": {},
     "output_type": "display_data"
    },
    {
     "name": "stdout",
     "output_type": "stream",
     "text": [
      "\n",
      "0.5052925903734772  adversary's accuracy\n",
      "\n",
      "Test set: Average loss: 7.56e-04, Accuracy: 1219/1669 (73%)\n",
      "\n"
     ]
    },
    {
     "data": {
      "application/vnd.jupyter.widget-view+json": {
       "model_id": "bc0cfe95cab64f02a7c5896524aa8a20",
       "version_major": 2,
       "version_minor": 0
      },
      "text/plain": [
       "HBox(children=(IntProgress(value=0, max=6), HTML(value='')))"
      ]
     },
     "metadata": {},
     "output_type": "display_data"
    },
    {
     "name": "stdout",
     "output_type": "stream",
     "text": [
      "\n",
      "0.5070900738965448  adversary's accuracy\n",
      "\n",
      "Test set: Average loss: 7.53e-04, Accuracy: 1225/1669 (73%)\n",
      "\n"
     ]
    },
    {
     "data": {
      "application/vnd.jupyter.widget-view+json": {
       "model_id": "3a0e921f490944f3a49db7173a118866",
       "version_major": 2,
       "version_minor": 0
      },
      "text/plain": [
       "HBox(children=(IntProgress(value=0, max=6), HTML(value='')))"
      ]
     },
     "metadata": {},
     "output_type": "display_data"
    },
    {
     "name": "stdout",
     "output_type": "stream",
     "text": [
      "\n",
      "0.5090872778110646  adversary's accuracy\n",
      "\n",
      "Test set: Average loss: 7.50e-04, Accuracy: 1234/1669 (74%)\n",
      "\n"
     ]
    },
    {
     "data": {
      "application/vnd.jupyter.widget-view+json": {
       "model_id": "f4030c02b2ba4082a50a3ff61741de71",
       "version_major": 2,
       "version_minor": 0
      },
      "text/plain": [
       "HBox(children=(IntProgress(value=0, max=6), HTML(value='')))"
      ]
     },
     "metadata": {},
     "output_type": "display_data"
    },
    {
     "name": "stdout",
     "output_type": "stream",
     "text": [
      "\n",
      "0.512083083682844  adversary's accuracy\n",
      "\n",
      "Test set: Average loss: 7.47e-04, Accuracy: 1234/1669 (74%)\n",
      "\n"
     ]
    },
    {
     "data": {
      "application/vnd.jupyter.widget-view+json": {
       "model_id": "94a4687900e04797b8cbfb134989597d",
       "version_major": 2,
       "version_minor": 0
      },
      "text/plain": [
       "HBox(children=(IntProgress(value=0, max=6), HTML(value='')))"
      ]
     },
     "metadata": {},
     "output_type": "display_data"
    },
    {
     "name": "stdout",
     "output_type": "stream",
     "text": [
      "\n",
      "0.5070900738965448  adversary's accuracy\n",
      "\n",
      "Test set: Average loss: 7.45e-04, Accuracy: 1235/1669 (74%)\n",
      "\n"
     ]
    },
    {
     "data": {
      "application/vnd.jupyter.widget-view+json": {
       "model_id": "38ad27c676bb44ffbe228a7f88e65e2e",
       "version_major": 2,
       "version_minor": 0
      },
      "text/plain": [
       "HBox(children=(IntProgress(value=0, max=6), HTML(value='')))"
      ]
     },
     "metadata": {},
     "output_type": "display_data"
    },
    {
     "name": "stdout",
     "output_type": "stream",
     "text": [
      "\n",
      "0.5070900738965448  adversary's accuracy\n",
      "\n",
      "Test set: Average loss: 7.42e-04, Accuracy: 1233/1669 (74%)\n",
      "\n"
     ]
    },
    {
     "data": {
      "application/vnd.jupyter.widget-view+json": {
       "model_id": "9398452122f944ea84f2a2ecba33342a",
       "version_major": 2,
       "version_minor": 0
      },
      "text/plain": [
       "HBox(children=(IntProgress(value=0, max=6), HTML(value='')))"
      ]
     },
     "metadata": {},
     "output_type": "display_data"
    },
    {
     "name": "stdout",
     "output_type": "stream",
     "text": [
      "\n",
      "0.5040942680247653  adversary's accuracy\n",
      "\n",
      "Test set: Average loss: 7.39e-04, Accuracy: 1235/1669 (74%)\n",
      "\n"
     ]
    },
    {
     "data": {
      "application/vnd.jupyter.widget-view+json": {
       "model_id": "ccc8fe264f3a46c2a0d8a5ef3369d818",
       "version_major": 2,
       "version_minor": 0
      },
      "text/plain": [
       "HBox(children=(IntProgress(value=0, max=6), HTML(value='')))"
      ]
     },
     "metadata": {},
     "output_type": "display_data"
    },
    {
     "name": "stdout",
     "output_type": "stream",
     "text": [
      "\n",
      "0.5052925903734772  adversary's accuracy\n",
      "\n",
      "Test set: Average loss: 7.37e-04, Accuracy: 1235/1669 (74%)\n",
      "\n"
     ]
    },
    {
     "data": {
      "application/vnd.jupyter.widget-view+json": {
       "model_id": "592b21b26f3a44bc928348544de1eeaa",
       "version_major": 2,
       "version_minor": 0
      },
      "text/plain": [
       "HBox(children=(IntProgress(value=0, max=6), HTML(value='')))"
      ]
     },
     "metadata": {},
     "output_type": "display_data"
    },
    {
     "name": "stdout",
     "output_type": "stream",
     "text": [
      "\n",
      "0.5036948272418614  adversary's accuracy\n",
      "\n",
      "Test set: Average loss: 7.34e-04, Accuracy: 1240/1669 (74%)\n",
      "\n"
     ]
    },
    {
     "data": {
      "application/vnd.jupyter.widget-view+json": {
       "model_id": "1cac19cf94fd4daabbe4e63fb5f73484",
       "version_major": 2,
       "version_minor": 0
      },
      "text/plain": [
       "HBox(children=(IntProgress(value=0, max=6), HTML(value='')))"
      ]
     },
     "metadata": {},
     "output_type": "display_data"
    },
    {
     "name": "stdout",
     "output_type": "stream",
     "text": [
      "\n",
      "0.5014979029358898  adversary's accuracy\n",
      "\n",
      "Test set: Average loss: 7.32e-04, Accuracy: 1243/1669 (74%)\n",
      "\n"
     ]
    },
    {
     "data": {
      "application/vnd.jupyter.widget-view+json": {
       "model_id": "157c3d06d5b246ccac7a2911626e88a4",
       "version_major": 2,
       "version_minor": 0
      },
      "text/plain": [
       "HBox(children=(IntProgress(value=0, max=6), HTML(value='')))"
      ]
     },
     "metadata": {},
     "output_type": "display_data"
    },
    {
     "name": "stdout",
     "output_type": "stream",
     "text": [
      "\n",
      "0.5022967845016976  adversary's accuracy\n",
      "\n",
      "Test set: Average loss: 7.30e-04, Accuracy: 1242/1669 (74%)\n",
      "\n"
     ]
    },
    {
     "data": {
      "application/vnd.jupyter.widget-view+json": {
       "model_id": "a8d9c3c8caee4dbf8c96c18eee51686c",
       "version_major": 2,
       "version_minor": 0
      },
      "text/plain": [
       "HBox(children=(IntProgress(value=0, max=6), HTML(value='')))"
      ]
     },
     "metadata": {},
     "output_type": "display_data"
    },
    {
     "name": "stdout",
     "output_type": "stream",
     "text": [
      "\n",
      "0.5042939884162173  adversary's accuracy\n",
      "\n",
      "Test set: Average loss: 7.28e-04, Accuracy: 1242/1669 (74%)\n",
      "\n"
     ]
    },
    {
     "data": {
      "application/vnd.jupyter.widget-view+json": {
       "model_id": "eb8e2764817e46508e628213ab926a51",
       "version_major": 2,
       "version_minor": 0
      },
      "text/plain": [
       "HBox(children=(IntProgress(value=0, max=6), HTML(value='')))"
      ]
     },
     "metadata": {},
     "output_type": "display_data"
    },
    {
     "name": "stdout",
     "output_type": "stream",
     "text": [
      "\n",
      "0.5040942680247653  adversary's accuracy\n",
      "\n",
      "Test set: Average loss: 7.25e-04, Accuracy: 1241/1669 (74%)\n",
      "\n"
     ]
    },
    {
     "data": {
      "application/vnd.jupyter.widget-view+json": {
       "model_id": "686ec5111a2e4ea2847c5eafcaff750c",
       "version_major": 2,
       "version_minor": 0
      },
      "text/plain": [
       "HBox(children=(IntProgress(value=0, max=6), HTML(value='')))"
      ]
     },
     "metadata": {},
     "output_type": "display_data"
    },
    {
     "name": "stdout",
     "output_type": "stream",
     "text": [
      "\n",
      "0.5034951068504094  adversary's accuracy\n",
      "\n",
      "Test set: Average loss: 7.23e-04, Accuracy: 1243/1669 (74%)\n",
      "\n"
     ]
    },
    {
     "data": {
      "application/vnd.jupyter.widget-view+json": {
       "model_id": "e432d50f12e24c63b41d81278a74b41d",
       "version_major": 2,
       "version_minor": 0
      },
      "text/plain": [
       "HBox(children=(IntProgress(value=0, max=6), HTML(value='')))"
      ]
     },
     "metadata": {},
     "output_type": "display_data"
    },
    {
     "name": "stdout",
     "output_type": "stream",
     "text": [
      "\n",
      "0.5034951068504094  adversary's accuracy\n",
      "\n",
      "Test set: Average loss: 7.21e-04, Accuracy: 1244/1669 (75%)\n",
      "\n"
     ]
    },
    {
     "data": {
      "application/vnd.jupyter.widget-view+json": {
       "model_id": "577711efd1fc4f90a782fb13f611b5e3",
       "version_major": 2,
       "version_minor": 0
      },
      "text/plain": [
       "HBox(children=(IntProgress(value=0, max=6), HTML(value='')))"
      ]
     },
     "metadata": {},
     "output_type": "display_data"
    },
    {
     "name": "stdout",
     "output_type": "stream",
     "text": [
      "\n",
      "0.5038945476333133  adversary's accuracy\n",
      "\n",
      "Test set: Average loss: 7.19e-04, Accuracy: 1236/1669 (74%)\n",
      "\n"
     ]
    },
    {
     "data": {
      "application/vnd.jupyter.widget-view+json": {
       "model_id": "78879307d4bf4fc3a0e5df1d2829a3b3",
       "version_major": 2,
       "version_minor": 0
      },
      "text/plain": [
       "HBox(children=(IntProgress(value=0, max=6), HTML(value='')))"
      ]
     },
     "metadata": {},
     "output_type": "display_data"
    },
    {
     "name": "stdout",
     "output_type": "stream",
     "text": [
      "\n",
      "0.5034951068504094  adversary's accuracy\n",
      "\n",
      "Test set: Average loss: 7.17e-04, Accuracy: 1240/1669 (74%)\n",
      "\n"
     ]
    },
    {
     "data": {
      "application/vnd.jupyter.widget-view+json": {
       "model_id": "1ccdc7d4aae04df196e2b6f982582717",
       "version_major": 2,
       "version_minor": 0
      },
      "text/plain": [
       "HBox(children=(IntProgress(value=0, max=6), HTML(value='')))"
      ]
     },
     "metadata": {},
     "output_type": "display_data"
    },
    {
     "name": "stdout",
     "output_type": "stream",
     "text": [
      "\n",
      "0.5042939884162173  adversary's accuracy\n",
      "\n",
      "Test set: Average loss: 7.15e-04, Accuracy: 1243/1669 (74%)\n",
      "\n"
     ]
    },
    {
     "data": {
      "application/vnd.jupyter.widget-view+json": {
       "model_id": "bdcc0c04cc5e48c3b6b0d9c8cf138fd2",
       "version_major": 2,
       "version_minor": 0
      },
      "text/plain": [
       "HBox(children=(IntProgress(value=0, max=6), HTML(value='')))"
      ]
     },
     "metadata": {},
     "output_type": "display_data"
    },
    {
     "name": "stdout",
     "output_type": "stream",
     "text": [
      "\n",
      "0.5046934291991212  adversary's accuracy\n",
      "\n",
      "Test set: Average loss: 7.13e-04, Accuracy: 1242/1669 (74%)\n",
      "\n"
     ]
    },
    {
     "data": {
      "application/vnd.jupyter.widget-view+json": {
       "model_id": "a5965afe95954e27aa0ec3dbdb81a26a",
       "version_major": 2,
       "version_minor": 0
      },
      "text/plain": [
       "HBox(children=(IntProgress(value=0, max=6), HTML(value='')))"
      ]
     },
     "metadata": {},
     "output_type": "display_data"
    },
    {
     "name": "stdout",
     "output_type": "stream",
     "text": [
      "\n",
      "0.5058917515478331  adversary's accuracy\n",
      "\n",
      "Test set: Average loss: 7.11e-04, Accuracy: 1242/1669 (74%)\n",
      "\n"
     ]
    },
    {
     "data": {
      "application/vnd.jupyter.widget-view+json": {
       "model_id": "9c4dcc40db87420382387a5b7a5febdc",
       "version_major": 2,
       "version_minor": 0
      },
      "text/plain": [
       "HBox(children=(IntProgress(value=0, max=6), HTML(value='')))"
      ]
     },
     "metadata": {},
     "output_type": "display_data"
    },
    {
     "name": "stdout",
     "output_type": "stream",
     "text": [
      "\n",
      "0.5058917515478331  adversary's accuracy\n",
      "\n",
      "Test set: Average loss: 7.09e-04, Accuracy: 1244/1669 (75%)\n",
      "\n"
     ]
    },
    {
     "data": {
      "application/vnd.jupyter.widget-view+json": {
       "model_id": "da8f5044cbbe4eb599956293e3e96866",
       "version_major": 2,
       "version_minor": 0
      },
      "text/plain": [
       "HBox(children=(IntProgress(value=0, max=6), HTML(value='')))"
      ]
     },
     "metadata": {},
     "output_type": "display_data"
    },
    {
     "name": "stdout",
     "output_type": "stream",
     "text": [
      "\n",
      "0.5064909127221889  adversary's accuracy\n",
      "\n",
      "Test set: Average loss: 7.07e-04, Accuracy: 1245/1669 (75%)\n",
      "\n"
     ]
    },
    {
     "data": {
      "application/vnd.jupyter.widget-view+json": {
       "model_id": "2661f3cd3472439bbfcbae98a9a95063",
       "version_major": 2,
       "version_minor": 0
      },
      "text/plain": [
       "HBox(children=(IntProgress(value=0, max=6), HTML(value='')))"
      ]
     },
     "metadata": {},
     "output_type": "display_data"
    },
    {
     "name": "stdout",
     "output_type": "stream",
     "text": [
      "\n",
      "0.5062911923307369  adversary's accuracy\n",
      "\n",
      "Test set: Average loss: 7.05e-04, Accuracy: 1241/1669 (74%)\n",
      "\n"
     ]
    },
    {
     "data": {
      "application/vnd.jupyter.widget-view+json": {
       "model_id": "43afe1b9af474bb295911030b9912431",
       "version_major": 2,
       "version_minor": 0
      },
      "text/plain": [
       "HBox(children=(IntProgress(value=0, max=6), HTML(value='')))"
      ]
     },
     "metadata": {},
     "output_type": "display_data"
    },
    {
     "name": "stdout",
     "output_type": "stream",
     "text": [
      "\n",
      "0.5064909127221889  adversary's accuracy\n",
      "\n",
      "Test set: Average loss: 7.04e-04, Accuracy: 1245/1669 (75%)\n",
      "\n"
     ]
    },
    {
     "data": {
      "application/vnd.jupyter.widget-view+json": {
       "model_id": "b9373f63690645ceaa5793c7fec2ceab",
       "version_major": 2,
       "version_minor": 0
      },
      "text/plain": [
       "HBox(children=(IntProgress(value=0, max=6), HTML(value='')))"
      ]
     },
     "metadata": {},
     "output_type": "display_data"
    },
    {
     "name": "stdout",
     "output_type": "stream",
     "text": [
      "\n",
      "0.5064909127221889  adversary's accuracy\n",
      "\n",
      "Test set: Average loss: 7.02e-04, Accuracy: 1245/1669 (75%)\n",
      "\n"
     ]
    },
    {
     "data": {
      "application/vnd.jupyter.widget-view+json": {
       "model_id": "4dd41cfb843a4377b8bf4dbb767c14d9",
       "version_major": 2,
       "version_minor": 0
      },
      "text/plain": [
       "HBox(children=(IntProgress(value=0, max=6), HTML(value='')))"
      ]
     },
     "metadata": {},
     "output_type": "display_data"
    },
    {
     "name": "stdout",
     "output_type": "stream",
     "text": [
      "\n",
      "0.5072897942879968  adversary's accuracy\n",
      "\n",
      "Test set: Average loss: 7.00e-04, Accuracy: 1247/1669 (75%)\n",
      "\n"
     ]
    },
    {
     "data": {
      "application/vnd.jupyter.widget-view+json": {
       "model_id": "2985f1bf68984ce8bc0932d0e62378c8",
       "version_major": 2,
       "version_minor": 0
      },
      "text/plain": [
       "HBox(children=(IntProgress(value=0, max=6), HTML(value='')))"
      ]
     },
     "metadata": {},
     "output_type": "display_data"
    },
    {
     "name": "stdout",
     "output_type": "stream",
     "text": [
      "\n",
      "0.5068903535050928  adversary's accuracy\n",
      "\n",
      "Test set: Average loss: 6.98e-04, Accuracy: 1247/1669 (75%)\n",
      "\n"
     ]
    },
    {
     "data": {
      "application/vnd.jupyter.widget-view+json": {
       "model_id": "388f40a96c4c4fe89e971e6b0310d9f9",
       "version_major": 2,
       "version_minor": 0
      },
      "text/plain": [
       "HBox(children=(IntProgress(value=0, max=6), HTML(value='')))"
      ]
     },
     "metadata": {},
     "output_type": "display_data"
    },
    {
     "name": "stdout",
     "output_type": "stream",
     "text": [
      "\n",
      "0.5070900738965448  adversary's accuracy\n",
      "\n",
      "Test set: Average loss: 6.96e-04, Accuracy: 1248/1669 (75%)\n",
      "\n"
     ]
    },
    {
     "data": {
      "application/vnd.jupyter.widget-view+json": {
       "model_id": "7765ada6e1024a27a0695846751cc6a5",
       "version_major": 2,
       "version_minor": 0
      },
      "text/plain": [
       "HBox(children=(IntProgress(value=0, max=6), HTML(value='')))"
      ]
     },
     "metadata": {},
     "output_type": "display_data"
    },
    {
     "name": "stdout",
     "output_type": "stream",
     "text": [
      "\n",
      "0.5084881166367086  adversary's accuracy\n",
      "\n",
      "Test set: Average loss: 6.95e-04, Accuracy: 1251/1669 (75%)\n",
      "\n"
     ]
    },
    {
     "data": {
      "application/vnd.jupyter.widget-view+json": {
       "model_id": "47696490a3534d3c8bb76f979ad1b032",
       "version_major": 2,
       "version_minor": 0
      },
      "text/plain": [
       "HBox(children=(IntProgress(value=0, max=6), HTML(value='')))"
      ]
     },
     "metadata": {},
     "output_type": "display_data"
    },
    {
     "name": "stdout",
     "output_type": "stream",
     "text": [
      "\n",
      "0.5082883962452567  adversary's accuracy\n",
      "\n",
      "Test set: Average loss: 6.93e-04, Accuracy: 1250/1669 (75%)\n",
      "\n"
     ]
    },
    {
     "data": {
      "application/vnd.jupyter.widget-view+json": {
       "model_id": "2d90ebf469544f25b141d77de1127c8a",
       "version_major": 2,
       "version_minor": 0
      },
      "text/plain": [
       "HBox(children=(IntProgress(value=0, max=6), HTML(value='')))"
      ]
     },
     "metadata": {},
     "output_type": "display_data"
    },
    {
     "name": "stdout",
     "output_type": "stream",
     "text": [
      "\n",
      "0.5086878370281606  adversary's accuracy\n",
      "\n",
      "Test set: Average loss: 6.91e-04, Accuracy: 1253/1669 (75%)\n",
      "\n"
     ]
    },
    {
     "data": {
      "application/vnd.jupyter.widget-view+json": {
       "model_id": "b7d77c12748f4686ae32a51cfa49517a",
       "version_major": 2,
       "version_minor": 0
      },
      "text/plain": [
       "HBox(children=(IntProgress(value=0, max=6), HTML(value='')))"
      ]
     },
     "metadata": {},
     "output_type": "display_data"
    },
    {
     "name": "stdout",
     "output_type": "stream",
     "text": [
      "\n",
      "0.5086878370281606  adversary's accuracy\n",
      "\n",
      "Test set: Average loss: 6.90e-04, Accuracy: 1252/1669 (75%)\n",
      "\n"
     ]
    },
    {
     "data": {
      "application/vnd.jupyter.widget-view+json": {
       "model_id": "b7b0b4015de14327be521ce951452221",
       "version_major": 2,
       "version_minor": 0
      },
      "text/plain": [
       "HBox(children=(IntProgress(value=0, max=6), HTML(value='')))"
      ]
     },
     "metadata": {},
     "output_type": "display_data"
    },
    {
     "name": "stdout",
     "output_type": "stream",
     "text": [
      "\n",
      "0.5086878370281606  adversary's accuracy\n",
      "\n",
      "Test set: Average loss: 6.88e-04, Accuracy: 1249/1669 (75%)\n",
      "\n"
     ]
    },
    {
     "data": {
      "application/vnd.jupyter.widget-view+json": {
       "model_id": "b3bf388a9b694f86b2d7be45a5e811f1",
       "version_major": 2,
       "version_minor": 0
      },
      "text/plain": [
       "HBox(children=(IntProgress(value=0, max=6), HTML(value='')))"
      ]
     },
     "metadata": {},
     "output_type": "display_data"
    },
    {
     "name": "stdout",
     "output_type": "stream",
     "text": [
      "\n",
      "0.5084881166367086  adversary's accuracy\n",
      "\n",
      "Test set: Average loss: 6.87e-04, Accuracy: 1248/1669 (75%)\n",
      "\n"
     ]
    }
   ],
   "source": [
    "device = torch.device(\"cpu\")\n",
    "\n",
    "# Data Loading\n",
    "label_column = \"income\"\n",
    "protect_column = \"gender\"\n",
    "train_df_balanced, test_df_balanced = split_train_test(downsample_adult_income(downsample_adult(adult_df_without_proxies)))\n",
    "# train_df_balanced = upsample_adult(train_df)\n",
    "# test_df_balanced = upsample_adult(test_df)\n",
    "train_features, train_labels, train_protect = process_data(train_df_balanced, label_column, protect_column)\n",
    "test_features, test_labels, test_protect = process_data(test_df_balanced, label_column, protect_column)\n",
    "train_dataset = Dataset(train_df_balanced, label_column, protect_column)\n",
    "test_dataset = Dataset(test_df_balanced, label_column, protect_column)\n",
    "batch_size = 1000\n",
    "train_loader = torch.utils.data.DataLoader(dataset=train_dataset, batch_size=batch_size, shuffle=True)\n",
    "test_loader = torch.utils.data.DataLoader(dataset=test_dataset, batch_size=batch_size, shuffle=False)\n",
    "\n",
    "\n",
    "# Parameters\n",
    "num_predictor_features = train_dataset[0][0].shape[0]\n",
    "num_adversary_features = 3\n",
    "num_epochs = 50\n",
    "lr_rate = 0.001\n",
    "alpha = 0.5\n",
    "\n",
    "# Model and Optimizer\n",
    "torch.manual_seed(1)\n",
    "predictor = Predictor(num_predictor_features).to(device)\n",
    "adversary = Adversary(num_adversary_features).to(device)\n",
    "optimizer_P = optim.Adam(predictor.parameters(), lr=lr_rate)\n",
    "optimizer_A = optim.Adam(adversary.parameters(), lr=lr_rate)\n",
    "\n",
    "train_predictor_accuracies, train_adversary_accuracies = [], []\n",
    "test_predictor_accuracies, test_adversary_accuracies = [], []\n",
    "for epoch in range(1, num_epochs + 1):\n",
    "    _, predictor_accuracy, adversary_accuracy = train(predictor, adversary, optimizer_P, optimizer_A, device, train_loader, epoch,alpha=alpha)\n",
    "    train_predictor_accuracies.append(predictor_accuracy)\n",
    "    train_adversary_accuracies.append(adversary_accuracy)\n",
    "    test_pred_labels, test_pred_protect, loss, test_pred_accuracy, test_adv_accuracy = test(predictor, device, test_loader)\n",
    "    test_predictor_accuracies.append(test_pred_accuracy)\n",
    "    test_adversary_accuracies.append(test_adv_accuracy)\n",
    "    \n",
    "    "
   ]
  },
  {
   "cell_type": "code",
   "execution_count": 9,
   "metadata": {},
   "outputs": [
    {
     "data": {
      "image/png": "[encoded data removed]",
      "text/plain": [
       "<Figure size 1080x576 with 1 Axes>"
      ]
     },
     "metadata": {
      "needs_background": "light"
     },
     "output_type": "display_data"
    }
   ],
   "source": [
    "epochs = range(1, num_epochs + 1)\n",
    "plt.figure(figsize=(15,8))\n",
    "plt.plot(epochs, train_predictor_accuracies, label=\"train_predictor\")\n",
    "plt.plot(epochs, train_adversary_accuracies, label=\"train_adversary\")\n",
    "plt.plot(epochs, test_predictor_accuracies, label=\"test_predictor\")\n",
    "plt.plot(epochs, test_adversary_accuracies, label=\"test_adversary\")\n",
    "plt.legend()\n",
    "plt.show()"
   ]
  },
  {
   "cell_type": "code",
   "execution_count": 10,
   "metadata": {},
   "outputs": [],
   "source": [
    "def binary_confusion_matrix(true_labels, pred_labels, protect, protect_group):\n",
    "    indices = np.where(protect == protect_group)\n",
    "    group_pred_labels = pred_labels[indices]\n",
    "    group_true_labels = true_labels[indices]\n",
    "\n",
    "    return confusion_matrix(group_true_labels, group_pred_labels)\n",
    "\n",
    "def false_positive_rate(group_confusion_matrix):\n",
    "    return group_confusion_matrix[0][1]/np.sum(group_confusion_matrix[:,1])\n",
    "\n",
    "def true_positive_rate(group_confusion_matrix):\n",
    "    return group_confusion_matrix[1][1]/np.sum(group_confusion_matrix[1,:])\n",
    "\n",
    "def false_negative_rate(group_confusion_matrix):\n",
    "    return group_confusion_matrix[1][0]/np.sum(group_confusion_matrix[:,0])\n",
    "\n",
    "def true_negative_rate(group_confusion_matrix):\n",
    "    return group_confusion_matrix[0][0]/np.sum(group_confusion_matrix[0,:])\n",
    "\n",
    "def false_positive_rate_difference(confusion_matrix_1, confusion_matrix_2):\n",
    "    return false_positive_rate(confusion_matrix_1) - false_positive_rate(confusion_matrix_2) \n",
    "\n",
    "def true_positive_rate_difference(confusion_matrix_1, confusion_matrix_2):\n",
    "    return true_positive_rate(confusion_matrix_1) - true_positive_rate(confusion_matrix_2) \n",
    "\n",
    "def false_negative_rate_difference():\n",
    "    return false_negative_rate(confusion_matrix_1) - false_negative_rate(confusion_matrix_2)\n",
    "\n",
    "def average_odds_difference(confusion_matrix_1, confusion_matrix_2):\n",
    "    fpr_difference = false_positive_rate_difference(confusion_matrix_1, confusion_matrix_2)\n",
    "    tpr_difference = true_positive_rate_difference(confusion_matrix_1, confusion_matrix_2)\n",
    "    return 0.5*(fpr_difference + tpr_difference)\n",
    "\n",
    "def statistical_parity_difference(confusion_matrix_1, confusion_matrix_2):\n",
    "    frac_prediced_positive_1 = np.sum(confusion_matrix_1[:,1])/np.sum(confusion_matrix_1)\n",
    "    frac_prediced_positive_2 = np.sum(confusion_matrix_2[:,1])/np.sum(confusion_matrix_2)\n",
    "    return frac_prediced_positive_1 - frac_prediced_positive_2"
   ]
  },
  {
   "cell_type": "code",
   "execution_count": 11,
   "metadata": {},
   "outputs": [
    {
     "name": "stdout",
     "output_type": "stream",
     "text": [
      "[[342  83]\n",
      " [106 322]]  Females\n",
      "[[292 119]\n",
      " [113 292]]  Males\n",
      "0.23660714285714285 0.27901234567901234  FNR females, males\n",
      "0.20493827160493827 0.2895377128953771  FPR females, males\n",
      "-0.028881628853182517  statistical_parity_difference\n",
      "-0.026625323506647813  average_odds_difference\n"
     ]
    }
   ],
   "source": [
    "###### Fairness Metrics\n",
    "\n",
    "female_confusion_matrix = binary_confusion_matrix(test_labels, test_pred_labels, test_protect, 0)\n",
    "male_confusion_matrix = binary_confusion_matrix(test_labels, test_pred_labels, test_protect, 1)\n",
    "\n",
    "\n",
    "female_fpr = false_positive_rate(female_confusion_matrix)\n",
    "male_fpr = false_positive_rate(male_confusion_matrix)\n",
    "\n",
    "\n",
    "female_fnr = false_negative_rate(female_confusion_matrix)\n",
    "male_fnr = false_negative_rate(male_confusion_matrix)\n",
    "\n",
    "\n",
    "print(female_confusion_matrix, \" Females\")\n",
    "print(male_confusion_matrix, \" Males\")\n",
    "\n",
    "print(female_fnr, male_fnr, \" FNR females, males\")\n",
    "print(female_fpr, male_fpr, \" FPR females, males\")\n",
    "print(statistical_parity_difference(female_confusion_matrix, male_confusion_matrix), \" statistical_parity_difference\")\n",
    "print(average_odds_difference(female_confusion_matrix, male_confusion_matrix), \" average_odds_difference\")\n"
   ]
  },
  {
   "cell_type": "code",
   "execution_count": 12,
   "metadata": {},
   "outputs": [
    {
     "data": {
      "text/plain": [
       "tensor([0, 1])"
      ]
     },
     "execution_count": 12,
     "metadata": {},
     "output_type": "execute_result"
    }
   ],
   "source": [
    "test_pred_protect.unique()"
   ]
  },
  {
   "cell_type": "code",
   "execution_count": 13,
   "metadata": {},
   "outputs": [],
   "source": [
    "# from sklearn.metrics import accuracy_score\n",
    "# accuracy_score(test_labels, test_pred_labels) "
   ]
  }
 ],
 "metadata": {
  "kernelspec": {
   "display_name": "Python 3",
   "language": "python",
   "name": "python3"
  },
  "language_info": {
   "codemirror_mode": {
    "name": "ipython",
    "version": 3
   },
   "file_extension": ".py",
   "mimetype": "text/x-python",
   "name": "python",
   "nbconvert_exporter": "python",
   "pygments_lexer": "ipython3",
   "version": "3.7.4"
  }
 },
 "nbformat": 4,
 "nbformat_minor": 2
}
