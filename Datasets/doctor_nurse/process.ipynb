{
 "cells": [
  {
   "cell_type": "markdown",
   "id": "gorgeous-episode",
   "metadata": {},
   "source": [
    "# Making Training/Validation set\n",
    "\n",
    "This notebook constructs the training/validation or Training/Testing sets while keeping the original ratios of the sensitive group across the labels"
   ]
  },
  {
   "cell_type": "code",
   "execution_count": 1,
   "id": "alien-lodge",
   "metadata": {},
   "outputs": [],
   "source": [
    "import os\n",
    "import random\n",
    "import shutil\n",
    "import random"
   ]
  },
  {
   "cell_type": "code",
   "execution_count": 27,
   "id": "equivalent-status",
   "metadata": {},
   "outputs": [],
   "source": [
    "train_path_dr, val_path_dr = \"train_test_split/train/doctors\", \"train_test_split/test/doctors\"\n",
    "os.makedirs(train_path_dr, exist_ok=True)\n",
    "os.makedirs(val_path_dr, exist_ok=True)\n",
    "\n",
    "train_path_nur, val_path_nur = \"train_test_split/train/nurses\", \"train_test_split/test/nurses\"\n",
    "os.makedirs(train_path_nur, exist_ok=True)\n",
    "os.makedirs(val_path_nur, exist_ok=True)\n",
    "\n",
    "path_dr_f_d = 'dr/fem_dr_dark_56/'\n",
    "path_dr_f_l = 'dr/fem_dr_light_256/'\n",
    "path_dr_m_d = 'dr/mal_dr_dark_62/'\n",
    "path_dr_m_l = 'dr/mal_dr_light_308/'\n",
    "\n",
    "dr_f_d = os.listdir(path_dr_f_d)\n",
    "dr_f_l = os.listdir(path_dr_f_l)\n",
    "dr_m_d = os.listdir(path_dr_m_d)\n",
    "dr_m_l = os.listdir(path_dr_m_l)\n",
    "\n",
    "path_nur_f_d = 'nurse/fem_nurse_dark_63/'\n",
    "path_nur_f_l = 'nurse/fem_nurse_light_252/'\n",
    "path_nur_m_d = 'nurse/mal_nurse_dark_76/'\n",
    "path_nur_m_l = 'nurse/mal_nurse_light_203/'\n",
    "\n",
    "nur_f_d = os.listdir(path_nur_f_d)\n",
    "nur_f_l = os.listdir(path_nur_f_l)\n",
    "nur_m_d = os.listdir(path_nur_m_d)\n",
    "nur_m_l = os.listdir(path_nur_m_l)"
   ]
  },
  {
   "cell_type": "code",
   "execution_count": 28,
   "id": "seeing-father",
   "metadata": {},
   "outputs": [],
   "source": [
    "split= 0.25\n",
    "\n",
    "dr_m = (len(dr_m_d) + len(dr_m_l))\n",
    "dr_f = (len(dr_f_d) + len(dr_f_l))\n",
    "dr = dr_m + dr_f\n",
    "\n",
    "r_dr_m = dr_m /dr\n",
    "r_dr_w = 1 - r_dr_m\n",
    "\n",
    "nur_m = (len(nur_m_d) + len(nur_m_l))\n",
    "nur_f = (len(nur_f_d) + len(nur_f_l))\n",
    "nur = nur_m + nur_f\n",
    "\n",
    "r_nur_m = nur_m /nur\n",
    "r_nur_w = 1 - r_nur_m"
   ]
  },
  {
   "cell_type": "code",
   "execution_count": 5,
   "id": "objective-female",
   "metadata": {},
   "outputs": [],
   "source": [
    "\n",
    "val_dr_m = set(random.sample(list(range(dr_m)), int(dr_m * split))) # could be test set\n",
    "for i in range(dr_m):\n",
    "    index = i if i<len(dr_m_d) else i - len(dr_m_d)\n",
    "    src = path_dr_m_d + dr_m_d[index] if i == index else path_dr_m_l + dr_m_l[index]\n",
    "    dest = val_path_dr if i in val_dr_m else train_path_dr\n",
    "    shutil.copy(src, dest)\n",
    "\n",
    "val_dr_f = set(random.sample(list(range(dr_f)), int(dr_f * split))) # could be test set\n",
    "for i in range(dr_f):\n",
    "    index = i if i<len(dr_f_d) else i - len(dr_f_d)\n",
    "    src = path_dr_f_d + dr_f_d[index] if i == index else path_dr_f_l + dr_f_l[index]\n",
    "    dest = val_path_dr if i in val_dr_f else train_path_dr\n",
    "    shutil.copy(src, dest)\n",
    "\n",
    "val_nur_m = set(random.sample(list(range(nur_m)), int(nur_m * split))) # could be test set\n",
    "for i in range(nur_m):\n",
    "    index = i if i<len(nur_m_d) else i - len(nur_m_d)\n",
    "    src = path_nur_m_d + nur_m_d[index] if i == index else path_nur_m_l + nur_m_l[index]\n",
    "    dest = val_path_nur if i in val_nur_m else train_path_nur\n",
    "    shutil.copy(src, dest)\n",
    "\n",
    "val_nur_f = set(random.sample(list(range(nur_f)), int(nur_f * split))) # could be test set\n",
    "for i in range(nur_f):\n",
    "    index = i if i<len(nur_f_d) else i - len(nur_f_d)\n",
    "    src = path_nur_f_d + nur_f_d[index] if i == index else path_nur_f_l + nur_f_l[index]\n",
    "    dest = val_path_nur if i in val_nur_f else train_path_nur\n",
    "    shutil.copy(src, dest)"
   ]
  },
  {
   "cell_type": "markdown",
   "id": "dying-sherman",
   "metadata": {},
   "source": [
    "## Make Bias training set "
   ]
  },
  {
   "cell_type": "code",
   "execution_count": 46,
   "id": "decreased-mexican",
   "metadata": {},
   "outputs": [],
   "source": [
    "BIAS = 0.8\n",
    "\n",
    "train_b_path_dr = f\"train_test_split/train_{BIAS}/doctors\"\n",
    "os.makedirs(train_b_path_dr, exist_ok=True)\n",
    "\n",
    "train_b_path_nur = f\"train_test_split/train_{BIAS}/nurses\"\n",
    "os.makedirs(train_b_path_nur, exist_ok=True)\n",
    "\n",
    "dr_f_t = int((1-BIAS)*dr_m/BIAS*(1-split))\n",
    "nur_m_t = int((1-BIAS)*nur_f/BIAS*(1-split))\n",
    "\n",
    "train_dr, train_nur, c_dr, c_nur = os.listdir(train_path_dr), os.listdir(train_path_nur), 0, 0\n",
    "for im in train_dr:\n",
    "    src, dst = None, None\n",
    "    if im in dr_m_d or im in dr_m_l:\n",
    "        src, dst = train_path_dr, train_b_path_dr\n",
    "    elif c_dr < dr_f_t and (im in dr_f_d or im in dr_f_l):\n",
    "        src, dst = train_path_dr, train_b_path_dr\n",
    "        c_dr += 1\n",
    "        \n",
    "    if src and dst:\n",
    "        shutil.copy(src + '/' + im, dst + '/' + im)\n",
    "        \n",
    "for im in train_nur:  \n",
    "    src, dst = None, None\n",
    "    if im in nur_f_d or im in nur_f_l:\n",
    "        src, dst = train_path_nur, train_b_path_nur\n",
    "    elif c_nur < nur_m_t and (im in nur_m_d or im in nur_m_l):\n",
    "        src, dst = train_path_nur, train_b_path_nur\n",
    "        c_nur += 1\n",
    "        \n",
    "    if src and dst:\n",
    "        shutil.copy(src + '/' + im, dst + '/' + im)"
   ]
  }
 ],
 "metadata": {
  "kernelspec": {
   "display_name": "Python 3",
   "language": "python",
   "name": "python3"
  },
  "language_info": {
   "codemirror_mode": {
    "name": "ipython",
    "version": 3
   },
   "file_extension": ".py",
   "mimetype": "text/x-python",
   "name": "python",
   "nbconvert_exporter": "python",
   "pygments_lexer": "ipython3",
   "version": "3.6.9"
  }
 },
 "nbformat": 4,
 "nbformat_minor": 5
}
