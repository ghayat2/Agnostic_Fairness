{
 "cells": [
  {
   "cell_type": "markdown",
   "id": "strange-perry",
   "metadata": {},
   "source": [
    "# Resnet random weight allocation\n",
    "\n",
    "This notebook implements case 3 of the document: https://mit.zoom.us/j/98140955616\n",
    "It clusters the training (Bias_0.8) training data into 5 groups, one of them containnig the protceted group (either female for doctors or male for nurses). During model training, we assign the same weight to every group except for one, where the weight is 4 times the others. We hope that this procedure will increase the fairness performance from Case 1 (Normal training on Bias_0.8 dataset)"
   ]
  },
  {
   "cell_type": "code",
   "execution_count": 1,
   "id": "administrative-healing",
   "metadata": {},
   "outputs": [],
   "source": [
    "from __future__ import print_function, division\n",
    "\n",
    "import torch\n",
    "import torch.nn as nn\n",
    "import torch.optim as optim\n",
    "from torch.optim import lr_scheduler\n",
    "import numpy as np\n",
    "import torchvision\n",
    "from torchvision import datasets, models, transforms\n",
    "from torch.utils.data import TensorDataset\n",
    "import matplotlib.pyplot as plt\n",
    "import time\n",
    "import os\n",
    "import copy\n",
    "import visdom\n",
    "import pandas as pd\n",
    "from math import ceil\n",
    "from PIL import Image\n",
    "\n",
    "plt.ion()   # interactive mode"
   ]
  },
  {
   "cell_type": "code",
   "execution_count": 2,
   "id": "absolute-invention",
   "metadata": {},
   "outputs": [],
   "source": [
    "path_dr_f_d = '../Datasets/doctor_nurse/dr/fem_dr_dark_56/'\n",
    "path_dr_f_l = '../Datasets/doctor_nurse/dr/fem_dr_light_256/'\n",
    "path_dr_m_d = '../Datasets/doctor_nurse/dr/mal_dr_dark_62/'\n",
    "path_dr_m_l = '../Datasets/doctor_nurse/dr/mal_dr_light_308/'\n",
    "\n",
    "dr_f_d = os.listdir(path_dr_f_d)\n",
    "dr_f_l = os.listdir(path_dr_f_l)\n",
    "dr_m_d = os.listdir(path_dr_m_d)\n",
    "dr_m_l = os.listdir(path_dr_m_l)\n",
    "\n",
    "path_nur_f_d = '../Datasets/doctor_nurse/nurse/fem_nurse_dark_63/'\n",
    "path_nur_f_l = '../Datasets/doctor_nurse/nurse/fem_nurse_light_252/'\n",
    "path_nur_m_d = '../Datasets/doctor_nurse/nurse/mal_nurse_dark_76/'\n",
    "path_nur_m_l = '../Datasets/doctor_nurse/nurse/mal_nurse_light_203/'\n",
    "\n",
    "nur_f_d = os.listdir(path_nur_f_d)\n",
    "nur_f_l = os.listdir(path_nur_f_l)\n",
    "nur_m_d = os.listdir(path_nur_m_d)\n",
    "nur_m_l = os.listdir(path_nur_m_l)\n",
    "\n",
    "dr_m, dr_f = len(dr_m_d) + len(dr_m_l), len(dr_f_d) + len(dr_f_l)\n",
    "\n",
    "w_protected = 4"
   ]
  },
  {
   "cell_type": "markdown",
   "id": "spread-academy",
   "metadata": {},
   "source": [
    "###  Defining dataloaders"
   ]
  },
  {
   "cell_type": "code",
   "execution_count": 3,
   "id": "intense-cruise",
   "metadata": {},
   "outputs": [],
   "source": [
    "def chunks(lst, K):\n",
    "    \"\"\"Yield successive K-sized chunks from lst.\"\"\"\n",
    "    results, n = [], ceil(len(lst)/K)\n",
    "    for i in range(0, len(lst), n):\n",
    "        results.append(lst[i:(i + n) if i + n < len(lst) else -1])\n",
    "    return results\n",
    "\n",
    "def make_clusters(sets, protected_groups, K):\n",
    "    assert len(sets) == len(protected_groups)\n",
    "    \n",
    "    clusters = []\n",
    "    for i, s in enumerate(sets):\n",
    "        majority, minority = [], []\n",
    "        for img in s:\n",
    "            minority.append(img) if img in protected_groups[i] else majority.append(img)\n",
    "        \n",
    "        clusters.append([minority] + chunks(majority, K-1))\n",
    "        \n",
    "    return clusters\n",
    "\n"
   ]
  },
  {
   "cell_type": "code",
   "execution_count": 4,
   "id": "applicable-escape",
   "metadata": {},
   "outputs": [],
   "source": [
    "class my_ImageFolder(datasets.ImageFolder):\n",
    "    def __init__(self, root, transform, clusters):\n",
    "        super().__init__(root, transform)\n",
    "        self.clusters = clusters\n",
    "        \n",
    "    def __getitem__(self, index: int):\n",
    "        img = self.samples[index][0].split(\"/\")[-1]\n",
    "        group_number = max([[img in c for c in clusters].index(max([img in c for c in clusters])) for clusters in self.clusters])\n",
    "        return super().__getitem__(index), group_number"
   ]
  },
  {
   "cell_type": "code",
   "execution_count": 5,
   "id": "given-riding",
   "metadata": {},
   "outputs": [],
   "source": [
    "# Data augmentation and normalization for training\n",
    "# Just normalization for validation\n",
    "data_transforms = {\n",
    "    'train': transforms.Compose([\n",
    "        # transforms.RandomResizedCrop(224),\n",
    "        # transforms.RandomHorizontalFlip(),\n",
    "        transforms.Resize(256),\n",
    "        transforms.CenterCrop(224),\n",
    "        transforms.ToTensor(),\n",
    "        transforms.Normalize([0.485, 0.456, 0.406], [0.229, 0.224, 0.225])\n",
    "    ]),\n",
    "    'test': transforms.Compose([\n",
    "        transforms.Resize(256),\n",
    "        transforms.CenterCrop(224),\n",
    "        transforms.ToTensor(),\n",
    "        transforms.Normalize([0.485, 0.456, 0.406], [0.229, 0.224, 0.225])\n",
    "    ]),\n",
    "}\n",
    "\n",
    "\n",
    "BIAS = 0.8\n",
    "data_dir = '../Datasets/doctor_nurse/train_test_split'\n",
    "image_datasets = {x: my_ImageFolder(os.path.join(data_dir, f\"train_{BIAS}\" if x==\"train\" and BIAS else x), \n",
    "                                    data_transforms[x], \n",
    "                                    make_clusters([os.listdir(os.path.join(data_dir, f\"train_{BIAS}/doctors\" if x==\"train\" and BIAS else x)),\n",
    "                                                    os.listdir(os.path.join(data_dir, f\"train_{BIAS}/nurses\" if x==\"train\" and BIAS else x))],\n",
    "                                                    [set(dr_f_d + dr_f_l), set(nur_m_l + nur_m_d)],\n",
    "                                                      K=5))\n",
    "                  for x in ['train', 'test']}\n",
    "dataloaders = {x: torch.utils.data.DataLoader(image_datasets[x], batch_size=4,\n",
    "                                             shuffle=True, num_workers=4)\n",
    "              for x in ['train', 'test']}\n",
    "dataset_sizes = {x: len(image_datasets[x]) for x in ['train', 'test']}\n",
    "class_names = image_datasets['train'].classes\n",
    "\n",
    "device = torch.device(\"cuda:0\" if torch.cuda.is_available() else \"cpu\")"
   ]
  },
  {
   "cell_type": "code",
   "execution_count": 8,
   "id": "dried-warrant",
   "metadata": {},
   "outputs": [
    {
     "data": {
      "image/png": "[encoded data removed]",
      "text/plain": [
       "<Figure size 432x288 with 1 Axes>"
      ]
     },
     "metadata": {
      "needs_background": "light"
     },
     "output_type": "display_data"
    },
    {
     "name": "stdout",
     "output_type": "stream",
     "text": [
      "tensor([0, 1, 1, 1])\n",
      "tensor([3, 0, 2, 4])\n"
     ]
    }
   ],
   "source": [
    "def imshow(inp, title=None):\n",
    "    \"\"\"Imshow for Tensor.\"\"\"\n",
    "    inp = inp.numpy().transpose((1, 2, 0))\n",
    "    mean = np.array([0.485, 0.456, 0.406])\n",
    "    std = np.array([0.229, 0.224, 0.225])\n",
    "    inp = std * inp + mean\n",
    "    inp = np.clip(inp, 0, 1)\n",
    "    plt.imshow(inp)\n",
    "    if title is not None:\n",
    "        plt.title(title)\n",
    "    plt.pause(0.001)  # pause a bit so that plots are updated\n",
    "\n",
    "\n",
    "# Get a batch of training data\n",
    "(inputs, classes), groups = next(iter(dataloaders['train']))\n",
    "\n",
    "# Make a grid from batch\n",
    "out = torchvision.utils.make_grid(inputs)\n",
    "\n",
    "imshow(out, title=[class_names[x] for x in classes])\n",
    "print(classes)\n",
    "print(groups)"
   ]
  },
  {
   "cell_type": "markdown",
   "id": "seventh-referral",
   "metadata": {},
   "source": [
    "## Training and evaluation of ResNet "
   ]
  },
  {
   "cell_type": "markdown",
   "id": "unable-abortion",
   "metadata": {},
   "source": [
    "Note that to be able to visualize the training progress, you must have started a vsdom environment in a browser. The plots will show up there."
   ]
  },
  {
   "cell_type": "code",
   "execution_count": 21,
   "id": "retained-allen",
   "metadata": {},
   "outputs": [],
   "source": [
    "def train_model(model, criterion, optimizer, scheduler, num_epochs=15, start_epoch=0, val_mode=False, show_progress=False, weighted=False):\n",
    "    \n",
    "    if show_progress:\n",
    "        vis = visdom.Visdom()\n",
    "        loss_window = vis.line(X=np.ones((1))*start_epoch,\n",
    "                               Y=np.zeros((1, 2)) if val_mode else np.zeros((1)),\n",
    "                               opts=dict(xlabel='epoch',\n",
    "                                         ylabel='Loss',\n",
    "                                         title='epoch loss',\n",
    "                                         markers=True,\n",
    "                                         legend=[\"Train\", \"Val\"] if val_mode else [\"Train\"],\n",
    "                                         ))   \n",
    "        acc_window = vis.line(X=np.ones((1))*start_epoch,\n",
    "                               Y=np.zeros((1, 2)) if val_mode else np.zeros((1)),\n",
    "                               opts=dict(xlabel='epoch',\n",
    "                                         ylabel='Accuracy',\n",
    "                                         title='epoch accuracy',\n",
    "                                         markers=True,\n",
    "                                         legend=[\"Train\", \"Val\"] if val_mode else [\"Train\"],\n",
    "                                        ))  \n",
    "    \n",
    "    since = time.time()\n",
    "\n",
    "    best_model_wts = copy.deepcopy(model.state_dict())\n",
    "    best_acc = 0.0\n",
    "\n",
    "    for epoch in range(start_epoch, start_epoch + num_epochs):\n",
    "        losses, accuracies = {}, {}\n",
    "        print('Epoch {}/{}'.format(epoch, start_epoch + num_epochs - 1))\n",
    "        print('-' * 10)\n",
    "\n",
    "        # Each epoch has a training and validation phase\n",
    "        phases = ['train', 'val'] if val_mode else [\"train\"]\n",
    "        for phase in phases:\n",
    "            if phase == 'train':\n",
    "                model.train()  # Set model to training mode\n",
    "            else:\n",
    "                model.eval()   # Set model to evaluate mode\n",
    "\n",
    "            running_loss = 0.0\n",
    "            running_corrects = 0\n",
    "\n",
    "            # Iterate over data.\n",
    "            for (inputs, labels), groups in dataloaders[phase]:\n",
    "                inputs = inputs.to(device)\n",
    "                labels = labels.to(device)\n",
    "\n",
    "                # zero the parameter gradients\n",
    "                optimizer.zero_grad()\n",
    "\n",
    "                # forward\n",
    "                # track history if only in train\n",
    "                with torch.set_grad_enabled(phase == 'train'):\n",
    "                    outputs = model(inputs)\n",
    "                    _, preds = torch.max(outputs, 1)\n",
    "                    \n",
    "                    if weighted:\n",
    "                        weights = torch.tensor([w_protected if g == epoch%5 else 1 for g in groups.numpy()])\n",
    "                        loss = criterion(outputs, labels, weights)\n",
    "                    else:\n",
    "                        loss = criterion(outputs, labels)\n",
    "\n",
    "                    # backward + optimize only if in training phase\n",
    "                    if phase == 'train':\n",
    "                        loss.backward()\n",
    "                        optimizer.step()\n",
    "\n",
    "                # statistics\n",
    "                running_loss += loss.item() * inputs.size(0)\n",
    "                running_corrects += torch.sum(preds == labels.data)\n",
    "            if phase == 'train':\n",
    "                scheduler.step()\n",
    "    \n",
    "            epoch_loss = running_loss / dataset_sizes[phase]\n",
    "            epoch_acc = running_corrects.double() / dataset_sizes[phase]\n",
    "            \n",
    "            losses[phase] = epoch_loss\n",
    "            accuracies[phase] = epoch_acc\n",
    "\n",
    "            print('{} Loss: {:.4f} Acc: {:.4f}'.format(\n",
    "                phase, epoch_loss, epoch_acc))\n",
    "\n",
    "            # deep copy the model\n",
    "            if phase == 'val' and epoch_acc > best_acc:\n",
    "                best_acc = epoch_acc\n",
    "                best_model_wts = copy.deepcopy(model.state_dict())\n",
    "\n",
    "        print()\n",
    "        \n",
    "        if show_progress:\n",
    "            X1 = np.ones((1))*epoch\n",
    "\n",
    "            Y1 = np.array([losses[\"train\"]])\n",
    "            Y2 = np.array(losses[\"val\"]) if val_mode else None\n",
    "            vis.line(X=X1,Y=np.column_stack((Y1, Y2)) if val_mode else Y1,win=loss_window,update='append')\n",
    "\n",
    "            Y1 = np.array([accuracies[\"train\"]])\n",
    "            Y2 = np.array([accuracies[\"val\"]]) if val_mode else None\n",
    "            vis.line(X=X1,Y=np.column_stack((Y1, Y2)) if val_mode else Y1, win=acc_window, update='append')\n",
    "\n",
    "    time_elapsed = time.time() - since\n",
    "    print('Training complete in {:.0f}m {:.0f}s'.format(\n",
    "        time_elapsed // 60, time_elapsed % 60))\n",
    "    print('Best val Acc: {:4f}'.format(best_acc))\n",
    "\n",
    "    # load best model weights\n",
    "    if \"val\" in phases:\n",
    "        model.load_state_dict(best_model_wts)\n",
    "        \n",
    "    return model"
   ]
  },
  {
   "cell_type": "markdown",
   "id": "hispanic-packaging",
   "metadata": {},
   "source": [
    "## Vizualize model"
   ]
  },
  {
   "cell_type": "code",
   "execution_count": 31,
   "id": "accompanied-egyptian",
   "metadata": {},
   "outputs": [],
   "source": [
    "def visualize_model(model, dataloader, num_images=6):\n",
    "    was_training = model.training\n",
    "    model.eval()\n",
    "    images_so_far = 0\n",
    "    fig = plt.figure()\n",
    "\n",
    "    with torch.no_grad():\n",
    "        for i, ((inputs, labels), groups) in enumerate(dataloader):\n",
    "            inputs = inputs.to(device)\n",
    "            labels = labels.to(device)\n",
    "\n",
    "            outputs = model(inputs)\n",
    "            _, preds = torch.max(outputs, 1)\n",
    "\n",
    "            for j in range(inputs.size()[0]):\n",
    "                images_so_far += 1\n",
    "                ax = plt.subplot(num_images//2, 2, images_so_far)\n",
    "                ax.axis('off')\n",
    "                ax.set_title('predicted: {}, Actual: {}'.format(class_names[preds[j]], class_names[labels[j]]))\n",
    "                imshow(inputs.cpu().data[j])\n",
    "\n",
    "                if images_so_far == num_images:\n",
    "                    model.train(mode=was_training)\n",
    "                    return\n",
    "        model.train(mode=was_training)"
   ]
  },
  {
   "cell_type": "markdown",
   "id": "light-morgan",
   "metadata": {},
   "source": [
    "### Freezing all layers except last FC"
   ]
  },
  {
   "cell_type": "markdown",
   "id": "attempted-growing",
   "metadata": {},
   "source": [
    "#### Custom loss"
   ]
  },
  {
   "cell_type": "code",
   "execution_count": 15,
   "id": "registered-street",
   "metadata": {},
   "outputs": [],
   "source": [
    "def weighted_cross_entropy_loss(output, labels, weights):\n",
    "    cel = -torch.log(torch.exp(output.gather(1, labels.view(-1,1))) / torch.sum(torch.exp(output), 1).view(-1,1))\n",
    "    weighted_cel = weights * cel.view(-1)\n",
    "    return torch.mean(weighted_cel)"
   ]
  },
  {
   "cell_type": "markdown",
   "id": "genuine-stock",
   "metadata": {},
   "source": [
    "For descirption of architecture of resNet, see: https://arxiv.org/pdf/1512.03385.pdf"
   ]
  },
  {
   "cell_type": "code",
   "execution_count": 28,
   "id": "bibliographic-welding",
   "metadata": {},
   "outputs": [],
   "source": [
    "model_conv = torchvision.models.resnet18(pretrained=True)\n",
    "for param in model_conv.parameters():\n",
    "    param.requires_grad = False\n",
    "\n",
    "# Parameters of newly constructed modules have requires_grad=True by default\n",
    "num_ftrs = model_conv.fc.in_features\n",
    "model_conv.fc = nn.Linear(num_ftrs, len(class_names))\n",
    "\n",
    "model_conv = model_conv.to(device)\n",
    "\n",
    "criterion = weighted_cross_entropy_loss # nn.CrossEntropyLoss()\n",
    "\n",
    "# Observe that only parameters of final layer are being optimized as\n",
    "# opposed to before.\n",
    "optimizer_conv = optim.SGD(model_conv.fc.parameters(), lr=0.001, momentum=0.9)\n",
    "\n",
    "# Decay LR by a factor of 0.1 every 7 epochs\n",
    "exp_lr_scheduler = lr_scheduler.StepLR(optimizer_conv, step_size=7, gamma=0.1)"
   ]
  },
  {
   "cell_type": "markdown",
   "id": "revolutionary-pharmaceutical",
   "metadata": {},
   "source": [
    "### Training"
   ]
  },
  {
   "cell_type": "markdown",
   "id": "congressional-devil",
   "metadata": {},
   "source": [
    "#### Loading checkpoint"
   ]
  },
  {
   "cell_type": "code",
   "execution_count": 43,
   "id": "placed-scotland",
   "metadata": {},
   "outputs": [],
   "source": [
    "VAL_MODE = False\n",
    "WEIGHTED = True\n",
    "SHOW = True\n",
    "START_EPOCH = 30\n",
    "EPOCH = 15"
   ]
  },
  {
   "cell_type": "code",
   "execution_count": 45,
   "id": "fresh-consideration",
   "metadata": {},
   "outputs": [],
   "source": [
    "START_EPOCH = 30\n",
    "PATH =  \"Case_3/checkpoints/\" + (\"w_val\" if VAL_MODE else \"w.o_val\") + f\"/Bias_{BIAS}/model_ep_{START_EPOCH}/checkpoint.pt\"\n",
    "checkpoint = torch.load(PATH)\n",
    "model_conv.load_state_dict(checkpoint['model_state_dict'])\n",
    "optimizer_conv.load_state_dict(checkpoint['optimizer_state_dict'])\n",
    "exp_lr_scheduler.load_state_dict(checkpoint[\"lr_scheduler_state_dict\"])\n",
    "epoch = checkpoint['epoch']\n",
    "loss = checkpoint['loss']\n"
   ]
  },
  {
   "cell_type": "code",
   "execution_count": 46,
   "id": "metropolitan-hotel",
   "metadata": {
    "scrolled": true
   },
   "outputs": [
    {
     "name": "stderr",
     "output_type": "stream",
     "text": [
      "Setting up a new session...\n"
     ]
    },
    {
     "name": "stdout",
     "output_type": "stream",
     "text": [
      "Epoch 30/44\n",
      "----------\n"
     ]
    },
    {
     "name": "stderr",
     "output_type": "stream",
     "text": [
      "/home/ghayat/.local/lib/python3.6/site-packages/PIL/Image.py:963: UserWarning: Palette images with Transparency expressed in bytes should be converted to RGBA images\n",
      "  \"Palette images with Transparency expressed in bytes should be \"\n"
     ]
    },
    {
     "name": "stdout",
     "output_type": "stream",
     "text": [
      "train Loss: 0.6137 Acc: 0.8282\n",
      "\n",
      "Epoch 31/44\n",
      "----------\n"
     ]
    },
    {
     "name": "stderr",
     "output_type": "stream",
     "text": [
      "/home/ghayat/.local/lib/python3.6/site-packages/PIL/Image.py:963: UserWarning: Palette images with Transparency expressed in bytes should be converted to RGBA images\n",
      "  \"Palette images with Transparency expressed in bytes should be \"\n"
     ]
    },
    {
     "name": "stdout",
     "output_type": "stream",
     "text": [
      "train Loss: 0.5931 Acc: 0.7938\n",
      "\n",
      "Epoch 32/44\n",
      "----------\n"
     ]
    },
    {
     "name": "stderr",
     "output_type": "stream",
     "text": [
      "/home/ghayat/.local/lib/python3.6/site-packages/PIL/Image.py:963: UserWarning: Palette images with Transparency expressed in bytes should be converted to RGBA images\n",
      "  \"Palette images with Transparency expressed in bytes should be \"\n"
     ]
    },
    {
     "name": "stdout",
     "output_type": "stream",
     "text": [
      "train Loss: 0.7288 Acc: 0.8200\n",
      "\n",
      "Epoch 33/44\n",
      "----------\n"
     ]
    },
    {
     "name": "stderr",
     "output_type": "stream",
     "text": [
      "/home/ghayat/.local/lib/python3.6/site-packages/PIL/Image.py:963: UserWarning: Palette images with Transparency expressed in bytes should be converted to RGBA images\n",
      "  \"Palette images with Transparency expressed in bytes should be \"\n"
     ]
    },
    {
     "name": "stdout",
     "output_type": "stream",
     "text": [
      "train Loss: 0.7434 Acc: 0.8069\n",
      "\n",
      "Epoch 34/44\n",
      "----------\n"
     ]
    },
    {
     "name": "stderr",
     "output_type": "stream",
     "text": [
      "/home/ghayat/.local/lib/python3.6/site-packages/PIL/Image.py:963: UserWarning: Palette images with Transparency expressed in bytes should be converted to RGBA images\n",
      "  \"Palette images with Transparency expressed in bytes should be \"\n"
     ]
    },
    {
     "name": "stdout",
     "output_type": "stream",
     "text": [
      "train Loss: 0.6304 Acc: 0.8167\n",
      "\n",
      "Epoch 35/44\n",
      "----------\n"
     ]
    },
    {
     "name": "stderr",
     "output_type": "stream",
     "text": [
      "/home/ghayat/.local/lib/python3.6/site-packages/PIL/Image.py:963: UserWarning: Palette images with Transparency expressed in bytes should be converted to RGBA images\n",
      "  \"Palette images with Transparency expressed in bytes should be \"\n"
     ]
    },
    {
     "name": "stdout",
     "output_type": "stream",
     "text": [
      "train Loss: 0.7555 Acc: 0.8020\n",
      "\n",
      "Epoch 36/44\n",
      "----------\n"
     ]
    },
    {
     "name": "stderr",
     "output_type": "stream",
     "text": [
      "/home/ghayat/.local/lib/python3.6/site-packages/PIL/Image.py:963: UserWarning: Palette images with Transparency expressed in bytes should be converted to RGBA images\n",
      "  \"Palette images with Transparency expressed in bytes should be \"\n"
     ]
    },
    {
     "name": "stdout",
     "output_type": "stream",
     "text": [
      "train Loss: 0.6566 Acc: 0.8134\n",
      "\n",
      "Epoch 37/44\n",
      "----------\n"
     ]
    },
    {
     "name": "stderr",
     "output_type": "stream",
     "text": [
      "/home/ghayat/.local/lib/python3.6/site-packages/PIL/Image.py:963: UserWarning: Palette images with Transparency expressed in bytes should be converted to RGBA images\n",
      "  \"Palette images with Transparency expressed in bytes should be \"\n"
     ]
    },
    {
     "name": "stdout",
     "output_type": "stream",
     "text": [
      "train Loss: 0.7437 Acc: 0.8069\n",
      "\n",
      "Epoch 38/44\n",
      "----------\n"
     ]
    },
    {
     "name": "stderr",
     "output_type": "stream",
     "text": [
      "/home/ghayat/.local/lib/python3.6/site-packages/PIL/Image.py:963: UserWarning: Palette images with Transparency expressed in bytes should be converted to RGBA images\n",
      "  \"Palette images with Transparency expressed in bytes should be \"\n"
     ]
    },
    {
     "name": "stdout",
     "output_type": "stream",
     "text": [
      "train Loss: 0.6519 Acc: 0.8232\n",
      "\n",
      "Epoch 39/44\n",
      "----------\n"
     ]
    },
    {
     "name": "stderr",
     "output_type": "stream",
     "text": [
      "/home/ghayat/.local/lib/python3.6/site-packages/PIL/Image.py:963: UserWarning: Palette images with Transparency expressed in bytes should be converted to RGBA images\n",
      "  \"Palette images with Transparency expressed in bytes should be \"\n"
     ]
    },
    {
     "name": "stdout",
     "output_type": "stream",
     "text": [
      "train Loss: 0.6776 Acc: 0.8200\n",
      "\n",
      "Epoch 40/44\n",
      "----------\n"
     ]
    },
    {
     "name": "stderr",
     "output_type": "stream",
     "text": [
      "/home/ghayat/.local/lib/python3.6/site-packages/PIL/Image.py:963: UserWarning: Palette images with Transparency expressed in bytes should be converted to RGBA images\n",
      "  \"Palette images with Transparency expressed in bytes should be \"\n"
     ]
    },
    {
     "name": "stdout",
     "output_type": "stream",
     "text": [
      "train Loss: 0.7557 Acc: 0.8052\n",
      "\n",
      "Epoch 41/44\n",
      "----------\n"
     ]
    },
    {
     "name": "stderr",
     "output_type": "stream",
     "text": [
      "/home/ghayat/.local/lib/python3.6/site-packages/PIL/Image.py:963: UserWarning: Palette images with Transparency expressed in bytes should be converted to RGBA images\n",
      "  \"Palette images with Transparency expressed in bytes should be \"\n"
     ]
    },
    {
     "name": "stdout",
     "output_type": "stream",
     "text": [
      "train Loss: 0.6249 Acc: 0.8183\n",
      "\n",
      "Epoch 42/44\n",
      "----------\n"
     ]
    },
    {
     "name": "stderr",
     "output_type": "stream",
     "text": [
      "/home/ghayat/.local/lib/python3.6/site-packages/PIL/Image.py:963: UserWarning: Palette images with Transparency expressed in bytes should be converted to RGBA images\n",
      "  \"Palette images with Transparency expressed in bytes should be \"\n"
     ]
    },
    {
     "name": "stdout",
     "output_type": "stream",
     "text": [
      "train Loss: 0.7498 Acc: 0.8151\n",
      "\n",
      "Epoch 43/44\n",
      "----------\n"
     ]
    },
    {
     "name": "stderr",
     "output_type": "stream",
     "text": [
      "/home/ghayat/.local/lib/python3.6/site-packages/PIL/Image.py:963: UserWarning: Palette images with Transparency expressed in bytes should be converted to RGBA images\n",
      "  \"Palette images with Transparency expressed in bytes should be \"\n"
     ]
    },
    {
     "name": "stdout",
     "output_type": "stream",
     "text": [
      "train Loss: 0.6428 Acc: 0.8101\n",
      "\n",
      "Epoch 44/44\n",
      "----------\n"
     ]
    },
    {
     "name": "stderr",
     "output_type": "stream",
     "text": [
      "/home/ghayat/.local/lib/python3.6/site-packages/PIL/Image.py:963: UserWarning: Palette images with Transparency expressed in bytes should be converted to RGBA images\n",
      "  \"Palette images with Transparency expressed in bytes should be \"\n"
     ]
    },
    {
     "name": "stdout",
     "output_type": "stream",
     "text": [
      "train Loss: 0.7044 Acc: 0.8036\n",
      "\n",
      "Training complete in 10m 5s\n",
      "Best val Acc: 0.000000\n"
     ]
    }
   ],
   "source": [
    "model_conv = train_model(model_conv, criterion, optimizer_conv, exp_lr_scheduler, start_epoch=START_EPOCH, num_epochs=EPOCH, val_mode=VAL_MODE, show_progress=SHOW, weighted= WEIGHTED)"
   ]
  },
  {
   "cell_type": "markdown",
   "id": "numerous-seeker",
   "metadata": {},
   "source": [
    "### Visualizing results "
   ]
  },
  {
   "cell_type": "code",
   "execution_count": 32,
   "id": "romance-casting",
   "metadata": {
    "scrolled": true
   },
   "outputs": [
    {
     "data": {
      "image/png": "[encoded data removed]",
      "text/plain": [
       "<Figure size 432x288 with 1 Axes>"
      ]
     },
     "metadata": {
      "needs_background": "light"
     },
     "output_type": "display_data"
    },
    {
     "data": {
      "image/png": "[encoded data removed]",
      "text/plain": [
       "<Figure size 432x288 with 1 Axes>"
      ]
     },
     "metadata": {
      "needs_background": "light"
     },
     "output_type": "display_data"
    },
    {
     "data": {
      "image/png": "[encoded data removed]",
      "text/plain": [
       "<Figure size 432x288 with 1 Axes>"
      ]
     },
     "metadata": {
      "needs_background": "light"
     },
     "output_type": "display_data"
    },
    {
     "data": {
      "image/png": "[encoded data removed]",
      "text/plain": [
       "<Figure size 432x288 with 1 Axes>"
      ]
     },
     "metadata": {
      "needs_background": "light"
     },
     "output_type": "display_data"
    },
    {
     "data": {
      "image/png": "[encoded data removed]",
      "text/plain": [
       "<Figure size 432x288 with 1 Axes>"
      ]
     },
     "metadata": {
      "needs_background": "light"
     },
     "output_type": "display_data"
    },
    {
     "data": {
      "image/png": "[encoded data removed]",
      "text/plain": [
       "<Figure size 432x288 with 1 Axes>"
      ]
     },
     "metadata": {
      "needs_background": "light"
     },
     "output_type": "display_data"
    }
   ],
   "source": [
    "visualize_model(model_conv, dataloader=dataloaders[\"test\"], num_images=6)\n",
    "\n",
    "plt.ioff()\n",
    "plt.show()"
   ]
  },
  {
   "cell_type": "markdown",
   "id": "proved-pricing",
   "metadata": {},
   "source": [
    "#### Saving checkpoint"
   ]
  },
  {
   "cell_type": "code",
   "execution_count": 47,
   "id": "medium-requirement",
   "metadata": {},
   "outputs": [],
   "source": [
    "PATH =  \"Case_3/checkpoints/\" + (\"w_val\" if VAL_MODE else \"w.o_val\") + f\"/Bias_{BIAS}/model_ep_{START_EPOCH + EPOCH}\"\n",
    "LOSS = \"CrossEntropyLoss\"\n",
    "\n",
    "os.makedirs(PATH, exist_ok=True)\n",
    "torch.save({\n",
    "            'epoch': START_EPOCH + EPOCH,\n",
    "            'model_state_dict': model_conv.state_dict(),\n",
    "            'optimizer_state_dict': optimizer_conv.state_dict(),\n",
    "            'lr_scheduler_state_dict' : exp_lr_scheduler.state_dict(),\n",
    "            'loss': LOSS,\n",
    "            }, PATH + \"/checkpoint.pt\")"
   ]
  },
  {
   "cell_type": "code",
   "execution_count": null,
   "id": "minimal-slave",
   "metadata": {},
   "outputs": [],
   "source": []
  }
 ],
 "metadata": {
  "kernelspec": {
   "display_name": "Python 3",
   "language": "python",
   "name": "python3"
  },
  "language_info": {
   "codemirror_mode": {
    "name": "ipython",
    "version": 3
   },
   "file_extension": ".py",
   "mimetype": "text/x-python",
   "name": "python",
   "nbconvert_exporter": "python",
   "pygments_lexer": "ipython3",
   "version": "3.6.9"
  }
 },
 "nbformat": 4,
 "nbformat_minor": 5
}
